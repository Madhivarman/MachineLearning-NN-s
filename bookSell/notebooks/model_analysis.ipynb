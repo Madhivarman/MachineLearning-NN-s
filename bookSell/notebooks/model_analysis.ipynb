{
 "cells": [
  {
   "cell_type": "markdown",
   "metadata": {},
   "source": [
    "#### Import Necessary Libraries ####"
   ]
  },
  {
   "cell_type": "code",
   "execution_count": 1,
   "metadata": {},
   "outputs": [],
   "source": [
    "import pandas as pd \n",
    "import numpy as np\n",
    "import matplotlib.pyplot as plt\n",
    "import seaborn as sns"
   ]
  },
  {
   "cell_type": "markdown",
   "metadata": {},
   "source": [
    "#### read all the data ####"
   ]
  },
  {
   "cell_type": "code",
   "execution_count": 2,
   "metadata": {},
   "outputs": [
    {
     "name": "stdout",
     "output_type": "stream",
     "text": [
      "customer features dataframe shape:(12000, 4)\n",
      "last month assortment dataframe shape:(36000, 3)\n",
      "next month assortment dataframe shape:(56400, 2)\n",
      "next purchase order dataframe shape:(300, 4)\n",
      "original purchase order dataframe shape:(1000, 4)\n",
      "product features dataframe shape:(1000, 5)\n"
     ]
    }
   ],
   "source": [
    "filepath = 'F:/vedantu/assignment/assignment/data_sets'\n",
    "\n",
    "#import data files\n",
    "customer_feature = pd.read_csv(filepath + \"/customer_features.csv\")\n",
    "last_month_assort = pd.read_csv(filepath + \"/last_month_assortment.csv\")\n",
    "next_month_assort = pd.read_csv(filepath + \"/next_month_assortment.csv\")\n",
    "next_purchase_order = pd.read_csv(filepath + \"/next_purchase_order.csv\")\n",
    "original_purchase_order = pd.read_csv(filepath + \"/original_purchase_order.csv\")\n",
    "product_features = pd.read_csv(filepath + \"/product_features.csv\")\n",
    "\n",
    "print(\"customer features dataframe shape:{}\".format(customer_feature.shape))\n",
    "print(\"last month assortment dataframe shape:{}\".format(last_month_assort.shape))\n",
    "print(\"next month assortment dataframe shape:{}\".format(next_month_assort.shape))\n",
    "print(\"next purchase order dataframe shape:{}\".format(next_purchase_order.shape))\n",
    "print(\"original purchase order dataframe shape:{}\".format(original_purchase_order.shape))\n",
    "print(\"product features dataframe shape:{}\".format(product_features.shape))"
   ]
  },
  {
   "cell_type": "markdown",
   "metadata": {},
   "source": [
    "#### check what is the loan amount? ####\n",
    "\n",
    "there is no missing (or) null information in the \"original_purchase_order.csv\" file"
   ]
  },
  {
   "cell_type": "code",
   "execution_count": 3,
   "metadata": {
    "scrolled": false
   },
   "outputs": [
    {
     "name": "stdout",
     "output_type": "stream",
     "text": [
      "total loan amount:135546.41999999998\n"
     ]
    }
   ],
   "source": [
    "original_purchase_order['total_cost']=original_purchase_order[['quantity_purchased', 'cost_to_buy']].apply(lambda row: row['quantity_purchased'] * row['cost_to_buy'], axis=1)\n",
    "\n",
    "loan_amount = original_purchase_order['total_cost'].sum()\n",
    "\n",
    "print(\"total loan amount:{}\".format(loan_amount))"
   ]
  },
  {
   "cell_type": "markdown",
   "metadata": {},
   "source": [
    "#### check next purchase order total amount ? ####\n",
    "\n",
    "there are no missing value (or) null information in the \"next_purchase_order.csv\" file"
   ]
  },
  {
   "cell_type": "code",
   "execution_count": 4,
   "metadata": {},
   "outputs": [
    {
     "name": "stdout",
     "output_type": "stream",
     "text": [
      "amount spent for next purchase order:24155.510000000002\n"
     ]
    }
   ],
   "source": [
    "next_purchase_order['total_cost'] = next_purchase_order[['quantity_purchased', 'cost_to_buy']].apply(lambda row: row['quantity_purchased'] * row['cost_to_buy'], axis=1)\n",
    "\n",
    "next_purchase_order_amount = next_purchase_order['total_cost'].sum()\n",
    "\n",
    "print(\"amount spent for next purchase order:{}\".format(next_purchase_order_amount))"
   ]
  },
  {
   "cell_type": "markdown",
   "metadata": {},
   "source": [
    "#### money made back from customer ####"
   ]
  },
  {
   "cell_type": "code",
   "execution_count": 5,
   "metadata": {},
   "outputs": [
    {
     "name": "stdout",
     "output_type": "stream",
     "text": [
      "total money made back by selling books:151617.36\n",
      "total shipping charge for last month:21600.0\n"
     ]
    }
   ],
   "source": [
    "#get only product_id where book the is purchased or not\n",
    "onlypurchasedBook = last_month_assort[last_month_assort['purchased'] == True]\n",
    "\n",
    "#check the retail price for all those books and do sum \n",
    "#to check what money we made back from the customer\n",
    "\n",
    "orgpo_copy = original_purchase_order.copy() #original purchase order copy\n",
    "orgpo_copy = orgpo_copy.set_index(original_purchase_order.product_id)\n",
    "\n",
    "moneymadeback = orgpo_copy.loc[onlypurchasedBook['product_id'].tolist()]['retail_value'].sum()\n",
    "print(\"total money made back by selling books:{}\".format(moneymadeback))\n",
    "\n",
    "#see the shipping charge\n",
    "shippingcharge = last_month_assort.shape[0] * 0.60\n",
    "print(\"total shipping charge for last month:{}\".format(shippingcharge))"
   ]
  },
  {
   "cell_type": "markdown",
   "metadata": {},
   "source": [
    "### preprocess dataset ###\n",
    "\n",
    "#### check genres from the customer_features.csv dataset ####"
   ]
  },
  {
   "cell_type": "code",
   "execution_count": 6,
   "metadata": {
    "scrolled": false
   },
   "outputs": [
    {
     "name": "stdout",
     "output_type": "stream",
     "text": [
      "total number of genres:23\n"
     ]
    }
   ],
   "source": [
    "uniqueGenres = []\n",
    "genresFreq = []\n",
    "\n",
    "for genres in customer_feature['favorite_genres']:\n",
    "    #replace the word \n",
    "    word = genres.replace(\"[\",\"\")\n",
    "    word = word.replace(\"]\",\"\")\n",
    "    word = word.replace(\"'\",\"\")\n",
    "    #split by comma\n",
    "    wordslist = word.split(\",\")\n",
    "    #iterate through the list\n",
    "    if len(wordslist) != 0:\n",
    "        for genr in wordslist:\n",
    "            genresFreq.append(genr)\n",
    "            if genr not in uniqueGenres:\n",
    "                uniqueGenres.append(genr)\n",
    "            else:\n",
    "                pass\n",
    "\n",
    "print(\"total number of genres:{}\".format(len(uniqueGenres)))"
   ]
  },
  {
   "cell_type": "code",
   "execution_count": 7,
   "metadata": {},
   "outputs": [
    {
     "data": {
      "image/png": "[encoded data removed]",
      "text/plain": [
       "<Figure size 1440x720 with 1 Axes>"
      ]
     },
     "metadata": {},
     "output_type": "display_data"
    }
   ],
   "source": [
    "from collections import Counter\n",
    "frequency = Counter(genresFreq)\n",
    "\n",
    "plt.figure(figsize=(20, 10))\n",
    "plt.bar(range(len(frequency)), list(frequency.values()), align='center')\n",
    "plt.xticks(range(len(frequency)), list(frequency.keys()), rotation='vertical')\n",
    "\n",
    "plt.show()"
   ]
  },
  {
   "cell_type": "markdown",
   "metadata": {},
   "source": [
    "from the above graph we can see, what are the top picks for the customers."
   ]
  },
  {
   "cell_type": "markdown",
   "metadata": {},
   "source": [
    "#### convert favorite genres to one hot encoding ####"
   ]
  },
  {
   "cell_type": "code",
   "execution_count": 8,
   "metadata": {
    "scrolled": true
   },
   "outputs": [],
   "source": [
    "#get total length of the customers\n",
    "def convertIntoList(genaslist):\n",
    "     #replace the word \n",
    "    word = genaslist.replace(\"[\",\"\")\n",
    "    word = word.replace(\"]\",\"\")\n",
    "    word = word.replace(\"'\",\"\")\n",
    "    #split by comma\n",
    "    wordslist = word.split(\",\")\n",
    "    \n",
    "    return wordslist\n",
    "\n",
    "def oneHotEncode(df):\n",
    "    no_of_customers = []\n",
    "    \n",
    "    #get index of each uniqueGenres that customer likes\n",
    "    df = df.reset_index(0)\n",
    "    for row in range(df.shape[0]):\n",
    "        genre_list = [0]*len(uniqueGenres)\n",
    "        #get the subsetdf\n",
    "        subsetdf = df.iloc[row]['favorite_genres']\n",
    "        genlist = convertIntoList(subsetdf)\n",
    "        \n",
    "        #get the index for unique\n",
    "        indexlist = [uniqueGenres.index(genre) for genre in genlist]\n",
    "        \n",
    "        for ind in indexlist:\n",
    "            genre_list[ind] = 1\n",
    "        \n",
    "        no_of_customers.append(genre_list)\n",
    "    \n",
    "    return no_of_customers\n",
    "\n",
    "onehotfeatures = oneHotEncode(customer_feature)"
   ]
  },
  {
   "cell_type": "code",
   "execution_count": 9,
   "metadata": {},
   "outputs": [
    {
     "data": {
      "text/plain": [
       "(12000, 23)"
      ]
     },
     "execution_count": 9,
     "metadata": {},
     "output_type": "execute_result"
    }
   ],
   "source": [
    "#convert above feature into the dataframe\n",
    "onehotdf = pd.DataFrame(onehotfeatures, columns=uniqueGenres)\n",
    "onehotdf.shape"
   ]
  },
  {
   "cell_type": "code",
   "execution_count": 10,
   "metadata": {},
   "outputs": [],
   "source": [
    "#concatenate the above dataframe with customer_features\n",
    "concat_customerfeature = pd.concat([customer_feature, onehotdf], axis=1)\n",
    "concat_customerfeature.shape\n",
    "#drop favorite_genres feature in the dataset\n",
    "concat_customerfeature = concat_customerfeature.drop(['favorite_genres'], axis=1)"
   ]
  },
  {
   "cell_type": "code",
   "execution_count": 11,
   "metadata": {},
   "outputs": [],
   "source": [
    "#see favorite genre by age_bucket\n",
    "age_gby = concat_customerfeature.groupby(['age_bucket']).agg(['sum'])\n",
    "age_gby = pd.DataFrame(age_gby)\n",
    "age_gby = age_gby.drop(['customer_id', 'is_returning_customer'], axis=1)\n",
    "age_gby.to_csv(\"ageWiseinsights.csv\", sep=\",\")"
   ]
  },
  {
   "cell_type": "code",
   "execution_count": 12,
   "metadata": {},
   "outputs": [
    {
     "data": {
      "image/png": "[encoded data removed]",
      "text/plain": [
       "<Figure size 1440x720 with 1 Axes>"
      ]
     },
     "metadata": {},
     "output_type": "display_data"
    }
   ],
   "source": [
    "age_gby.plot.bar(figsize=(20, 10), width=1.0)\n",
    "plt.show()"
   ]
  },
  {
   "cell_type": "markdown",
   "metadata": {},
   "source": [
    "from the above observation w.k.t age bucket between 46-55 read of lot of books."
   ]
  },
  {
   "cell_type": "code",
   "execution_count": 13,
   "metadata": {},
   "outputs": [
    {
     "data": {
      "text/html": [
       "<div>\n",
       "<style scoped>\n",
       "    .dataframe tbody tr th:only-of-type {\n",
       "        vertical-align: middle;\n",
       "    }\n",
       "\n",
       "    .dataframe tbody tr th {\n",
       "        vertical-align: top;\n",
       "    }\n",
       "\n",
       "    .dataframe thead th {\n",
       "        text-align: right;\n",
       "    }\n",
       "</style>\n",
       "<table border=\"1\" class=\"dataframe\">\n",
       "  <thead>\n",
       "    <tr style=\"text-align: right;\">\n",
       "      <th></th>\n",
       "      <th>customer_id</th>\n",
       "      <th>age_bucket</th>\n",
       "      <th>is_returning_customer</th>\n",
       "      <th>Classic</th>\n",
       "      <th>History</th>\n",
       "      <th>Self-Help</th>\n",
       "      <th>Romance</th>\n",
       "      <th>Thriller</th>\n",
       "      <th>Pop-Sci</th>\n",
       "      <th>Pop-Psychology</th>\n",
       "      <th>...</th>\n",
       "      <th>Drama</th>\n",
       "      <th>Pop-Psychology</th>\n",
       "      <th>Classic</th>\n",
       "      <th>Biography</th>\n",
       "      <th>Thriller</th>\n",
       "      <th>Self-Help</th>\n",
       "      <th>Pop-Sci</th>\n",
       "      <th>notKnown</th>\n",
       "      <th>History</th>\n",
       "      <th>Sci-Fi</th>\n",
       "    </tr>\n",
       "  </thead>\n",
       "  <tbody>\n",
       "    <tr>\n",
       "      <th>0</th>\n",
       "      <td>1000078</td>\n",
       "      <td>46-55</td>\n",
       "      <td>True</td>\n",
       "      <td>1</td>\n",
       "      <td>1</td>\n",
       "      <td>1</td>\n",
       "      <td>1</td>\n",
       "      <td>1</td>\n",
       "      <td>1</td>\n",
       "      <td>1</td>\n",
       "      <td>...</td>\n",
       "      <td>0</td>\n",
       "      <td>0</td>\n",
       "      <td>0</td>\n",
       "      <td>0</td>\n",
       "      <td>0</td>\n",
       "      <td>0</td>\n",
       "      <td>0</td>\n",
       "      <td>0</td>\n",
       "      <td>0</td>\n",
       "      <td>0</td>\n",
       "    </tr>\n",
       "    <tr>\n",
       "      <th>1</th>\n",
       "      <td>1000102</td>\n",
       "      <td>46-55</td>\n",
       "      <td>True</td>\n",
       "      <td>0</td>\n",
       "      <td>0</td>\n",
       "      <td>1</td>\n",
       "      <td>0</td>\n",
       "      <td>0</td>\n",
       "      <td>1</td>\n",
       "      <td>1</td>\n",
       "      <td>...</td>\n",
       "      <td>0</td>\n",
       "      <td>0</td>\n",
       "      <td>0</td>\n",
       "      <td>0</td>\n",
       "      <td>0</td>\n",
       "      <td>0</td>\n",
       "      <td>0</td>\n",
       "      <td>0</td>\n",
       "      <td>0</td>\n",
       "      <td>0</td>\n",
       "    </tr>\n",
       "    <tr>\n",
       "      <th>2</th>\n",
       "      <td>1000185</td>\n",
       "      <td>46-55</td>\n",
       "      <td>True</td>\n",
       "      <td>0</td>\n",
       "      <td>0</td>\n",
       "      <td>1</td>\n",
       "      <td>0</td>\n",
       "      <td>0</td>\n",
       "      <td>0</td>\n",
       "      <td>1</td>\n",
       "      <td>...</td>\n",
       "      <td>0</td>\n",
       "      <td>0</td>\n",
       "      <td>0</td>\n",
       "      <td>0</td>\n",
       "      <td>0</td>\n",
       "      <td>0</td>\n",
       "      <td>0</td>\n",
       "      <td>0</td>\n",
       "      <td>0</td>\n",
       "      <td>0</td>\n",
       "    </tr>\n",
       "    <tr>\n",
       "      <th>3</th>\n",
       "      <td>1000423</td>\n",
       "      <td>26-35</td>\n",
       "      <td>True</td>\n",
       "      <td>1</td>\n",
       "      <td>0</td>\n",
       "      <td>0</td>\n",
       "      <td>0</td>\n",
       "      <td>0</td>\n",
       "      <td>0</td>\n",
       "      <td>0</td>\n",
       "      <td>...</td>\n",
       "      <td>0</td>\n",
       "      <td>0</td>\n",
       "      <td>0</td>\n",
       "      <td>0</td>\n",
       "      <td>0</td>\n",
       "      <td>0</td>\n",
       "      <td>0</td>\n",
       "      <td>0</td>\n",
       "      <td>0</td>\n",
       "      <td>0</td>\n",
       "    </tr>\n",
       "    <tr>\n",
       "      <th>4</th>\n",
       "      <td>1000696</td>\n",
       "      <td>66+</td>\n",
       "      <td>True</td>\n",
       "      <td>0</td>\n",
       "      <td>1</td>\n",
       "      <td>0</td>\n",
       "      <td>1</td>\n",
       "      <td>1</td>\n",
       "      <td>0</td>\n",
       "      <td>0</td>\n",
       "      <td>...</td>\n",
       "      <td>1</td>\n",
       "      <td>0</td>\n",
       "      <td>0</td>\n",
       "      <td>0</td>\n",
       "      <td>0</td>\n",
       "      <td>0</td>\n",
       "      <td>0</td>\n",
       "      <td>0</td>\n",
       "      <td>0</td>\n",
       "      <td>0</td>\n",
       "    </tr>\n",
       "  </tbody>\n",
       "</table>\n",
       "<p>5 rows × 26 columns</p>\n",
       "</div>"
      ],
      "text/plain": [
       "   customer_id age_bucket  is_returning_customer  Classic   History  \\\n",
       "0      1000078      46-55                   True        1         1   \n",
       "1      1000102      46-55                   True        0         0   \n",
       "2      1000185      46-55                   True        0         0   \n",
       "3      1000423      26-35                   True        1         0   \n",
       "4      1000696        66+                   True        0         1   \n",
       "\n",
       "    Self-Help   Romance   Thriller   Pop-Sci   Pop-Psychology   ...    Drama  \\\n",
       "0           1         1          1         1                1   ...        0   \n",
       "1           1         0          0         1                1   ...        0   \n",
       "2           1         0          0         0                1   ...        0   \n",
       "3           0         0          0         0                0   ...        0   \n",
       "4           0         1          1         0                0   ...        1   \n",
       "\n",
       "   Pop-Psychology   Classic  Biography  Thriller  Self-Help  Pop-Sci  \\\n",
       "0               0         0          0         0          0        0   \n",
       "1               0         0          0         0          0        0   \n",
       "2               0         0          0         0          0        0   \n",
       "3               0         0          0         0          0        0   \n",
       "4               0         0          0         0          0        0   \n",
       "\n",
       "   notKnown  History  Sci-Fi  \n",
       "0         0        0       0  \n",
       "1         0        0       0  \n",
       "2         0        0       0  \n",
       "3         0        0       0  \n",
       "4         0        0       0  \n",
       "\n",
       "[5 rows x 26 columns]"
      ]
     },
     "execution_count": 13,
     "metadata": {},
     "output_type": "execute_result"
    }
   ],
   "source": [
    "concat_customerfeature.columns = ['customer_id','age_bucket',\n",
    " 'is_returning_customer','Classic',' History',' Self-Help',' Romance',' Thriller',' Pop-Sci',\n",
    " ' Pop-Psychology',' Beach-Read',' Sci-Fi','Beach-Read',' Biography',' Drama','Romance',\n",
    " 'Drama','Pop-Psychology',' Classic','Biography','Thriller','Self-Help',\n",
    " 'Pop-Sci','notKnown','History','Sci-Fi']\n",
    "\n",
    "concat_customerfeature.head()"
   ]
  },
  {
   "cell_type": "markdown",
   "metadata": {},
   "source": [
    "#### check in last_month_assortment what type of books sold  ####"
   ]
  },
  {
   "cell_type": "code",
   "execution_count": 14,
   "metadata": {},
   "outputs": [],
   "source": [
    "prdfeat_copy = product_features.copy() #copy dataframe for product features\n",
    "prdfeat_copy = prdfeat_copy.set_index('product_id')\n",
    "\n",
    "from collections import defaultdict \n",
    "\n",
    "prdfeatures_dict = defaultdict(int)\n",
    "\n",
    "for k, v in zip(prdfeat_copy.index.tolist(),  prdfeat_copy.to_dict(orient='records')):\n",
    "    prdfeatures_dict[k] = v"
   ]
  },
  {
   "cell_type": "code",
   "execution_count": 15,
   "metadata": {},
   "outputs": [],
   "source": [
    "lsma_copy = last_month_assort.copy() #copy of last month assort\n",
    "lsma_copy['fiction'] = lsma_copy.apply(lambda row: prdfeatures_dict[row['product_id']]['fiction'], axis=1)\n",
    "lsma_copy['genre'] = lsma_copy.apply(lambda row: prdfeatures_dict[row['product_id']]['genre'], axis=1)"
   ]
  },
  {
   "cell_type": "code",
   "execution_count": 16,
   "metadata": {},
   "outputs": [
    {
     "data": {
      "text/html": [
       "<div>\n",
       "<style scoped>\n",
       "    .dataframe tbody tr th:only-of-type {\n",
       "        vertical-align: middle;\n",
       "    }\n",
       "\n",
       "    .dataframe tbody tr th {\n",
       "        vertical-align: top;\n",
       "    }\n",
       "\n",
       "    .dataframe thead tr th {\n",
       "        text-align: left;\n",
       "    }\n",
       "\n",
       "    .dataframe thead tr:last-of-type th {\n",
       "        text-align: right;\n",
       "    }\n",
       "</style>\n",
       "<table border=\"1\" class=\"dataframe\">\n",
       "  <thead>\n",
       "    <tr>\n",
       "      <th></th>\n",
       "      <th></th>\n",
       "      <th>customer_id</th>\n",
       "      <th>product_id</th>\n",
       "      <th>genre</th>\n",
       "    </tr>\n",
       "    <tr>\n",
       "      <th></th>\n",
       "      <th></th>\n",
       "      <th>count</th>\n",
       "      <th>count</th>\n",
       "      <th>count</th>\n",
       "    </tr>\n",
       "    <tr>\n",
       "      <th>purchased</th>\n",
       "      <th>fiction</th>\n",
       "      <th></th>\n",
       "      <th></th>\n",
       "      <th></th>\n",
       "    </tr>\n",
       "  </thead>\n",
       "  <tbody>\n",
       "    <tr>\n",
       "      <th rowspan=\"2\" valign=\"top\">False</th>\n",
       "      <th>False</th>\n",
       "      <td>9139</td>\n",
       "      <td>9139</td>\n",
       "      <td>9139</td>\n",
       "    </tr>\n",
       "    <tr>\n",
       "      <th>True</th>\n",
       "      <td>14182</td>\n",
       "      <td>14182</td>\n",
       "      <td>14182</td>\n",
       "    </tr>\n",
       "    <tr>\n",
       "      <th rowspan=\"2\" valign=\"top\">True</th>\n",
       "      <th>False</th>\n",
       "      <td>3442</td>\n",
       "      <td>3442</td>\n",
       "      <td>3442</td>\n",
       "    </tr>\n",
       "    <tr>\n",
       "      <th>True</th>\n",
       "      <td>9237</td>\n",
       "      <td>9237</td>\n",
       "      <td>9237</td>\n",
       "    </tr>\n",
       "  </tbody>\n",
       "</table>\n",
       "</div>"
      ],
      "text/plain": [
       "                  customer_id product_id  genre\n",
       "                        count      count  count\n",
       "purchased fiction                              \n",
       "False     False          9139       9139   9139\n",
       "          True          14182      14182  14182\n",
       "True      False          3442       3442   3442\n",
       "          True           9237       9237   9237"
      ]
     },
     "execution_count": 16,
     "metadata": {},
     "output_type": "execute_result"
    }
   ],
   "source": [
    "lsma_copy.groupby(['purchased', 'fiction']).agg(['count'])"
   ]
  },
  {
   "cell_type": "code",
   "execution_count": 17,
   "metadata": {},
   "outputs": [
    {
     "data": {
      "text/html": [
       "<div>\n",
       "<style scoped>\n",
       "    .dataframe tbody tr th:only-of-type {\n",
       "        vertical-align: middle;\n",
       "    }\n",
       "\n",
       "    .dataframe tbody tr th {\n",
       "        vertical-align: top;\n",
       "    }\n",
       "\n",
       "    .dataframe thead th {\n",
       "        text-align: right;\n",
       "    }\n",
       "</style>\n",
       "<table border=\"1\" class=\"dataframe\">\n",
       "  <thead>\n",
       "    <tr style=\"text-align: right;\">\n",
       "      <th></th>\n",
       "      <th>customer_id</th>\n",
       "      <th>product_id</th>\n",
       "      <th>purchased</th>\n",
       "      <th>fiction</th>\n",
       "      <th>genre</th>\n",
       "    </tr>\n",
       "  </thead>\n",
       "  <tbody>\n",
       "    <tr>\n",
       "      <th>0</th>\n",
       "      <td>1000078</td>\n",
       "      <td>1730073</td>\n",
       "      <td>False</td>\n",
       "      <td>True</td>\n",
       "      <td>Drama</td>\n",
       "    </tr>\n",
       "    <tr>\n",
       "      <th>1</th>\n",
       "      <td>1000078</td>\n",
       "      <td>1470520</td>\n",
       "      <td>False</td>\n",
       "      <td>True</td>\n",
       "      <td>Romance</td>\n",
       "    </tr>\n",
       "    <tr>\n",
       "      <th>2</th>\n",
       "      <td>1000078</td>\n",
       "      <td>1861356</td>\n",
       "      <td>False</td>\n",
       "      <td>True</td>\n",
       "      <td>Thriller</td>\n",
       "    </tr>\n",
       "    <tr>\n",
       "      <th>3</th>\n",
       "      <td>1000078</td>\n",
       "      <td>1240824</td>\n",
       "      <td>True</td>\n",
       "      <td>True</td>\n",
       "      <td>Classic</td>\n",
       "    </tr>\n",
       "    <tr>\n",
       "      <th>4</th>\n",
       "      <td>1000078</td>\n",
       "      <td>1155460</td>\n",
       "      <td>False</td>\n",
       "      <td>True</td>\n",
       "      <td>Thriller</td>\n",
       "    </tr>\n",
       "  </tbody>\n",
       "</table>\n",
       "</div>"
      ],
      "text/plain": [
       "   customer_id  product_id  purchased  fiction     genre\n",
       "0      1000078     1730073      False     True     Drama\n",
       "1      1000078     1470520      False     True   Romance\n",
       "2      1000078     1861356      False     True  Thriller\n",
       "3      1000078     1240824       True     True   Classic\n",
       "4      1000078     1155460      False     True  Thriller"
      ]
     },
     "execution_count": 17,
     "metadata": {},
     "output_type": "execute_result"
    }
   ],
   "source": [
    "lsma_copy.head()"
   ]
  },
  {
   "cell_type": "code",
   "execution_count": 18,
   "metadata": {},
   "outputs": [
    {
     "data": {
      "text/html": [
       "<div>\n",
       "<style scoped>\n",
       "    .dataframe tbody tr th:only-of-type {\n",
       "        vertical-align: middle;\n",
       "    }\n",
       "\n",
       "    .dataframe tbody tr th {\n",
       "        vertical-align: top;\n",
       "    }\n",
       "\n",
       "    .dataframe thead th {\n",
       "        text-align: right;\n",
       "    }\n",
       "</style>\n",
       "<table border=\"1\" class=\"dataframe\">\n",
       "  <thead>\n",
       "    <tr style=\"text-align: right;\">\n",
       "      <th></th>\n",
       "      <th>customer_id</th>\n",
       "      <th>age_bucket</th>\n",
       "      <th>is_returning_customer</th>\n",
       "      <th>Classic</th>\n",
       "      <th>History</th>\n",
       "      <th>Self-Help</th>\n",
       "      <th>Romance</th>\n",
       "      <th>Thriller</th>\n",
       "      <th>Pop-Sci</th>\n",
       "      <th>Pop-Psychology</th>\n",
       "      <th>...</th>\n",
       "      <th>Drama</th>\n",
       "      <th>Pop-Psychology</th>\n",
       "      <th>Classic</th>\n",
       "      <th>Biography</th>\n",
       "      <th>Thriller</th>\n",
       "      <th>Self-Help</th>\n",
       "      <th>Pop-Sci</th>\n",
       "      <th>notKnown</th>\n",
       "      <th>History</th>\n",
       "      <th>Sci-Fi</th>\n",
       "    </tr>\n",
       "  </thead>\n",
       "  <tbody>\n",
       "    <tr>\n",
       "      <th>0</th>\n",
       "      <td>1000078</td>\n",
       "      <td>46-55</td>\n",
       "      <td>True</td>\n",
       "      <td>1</td>\n",
       "      <td>1</td>\n",
       "      <td>1</td>\n",
       "      <td>1</td>\n",
       "      <td>1</td>\n",
       "      <td>1</td>\n",
       "      <td>1</td>\n",
       "      <td>...</td>\n",
       "      <td>0</td>\n",
       "      <td>0</td>\n",
       "      <td>0</td>\n",
       "      <td>0</td>\n",
       "      <td>0</td>\n",
       "      <td>0</td>\n",
       "      <td>0</td>\n",
       "      <td>0</td>\n",
       "      <td>0</td>\n",
       "      <td>0</td>\n",
       "    </tr>\n",
       "  </tbody>\n",
       "</table>\n",
       "<p>1 rows × 26 columns</p>\n",
       "</div>"
      ],
      "text/plain": [
       "   customer_id age_bucket  is_returning_customer  Classic   History  \\\n",
       "0      1000078      46-55                   True        1         1   \n",
       "\n",
       "    Self-Help   Romance   Thriller   Pop-Sci   Pop-Psychology   ...    Drama  \\\n",
       "0           1         1          1         1                1   ...        0   \n",
       "\n",
       "   Pop-Psychology   Classic  Biography  Thriller  Self-Help  Pop-Sci  \\\n",
       "0               0         0          0         0          0        0   \n",
       "\n",
       "   notKnown  History  Sci-Fi  \n",
       "0         0        0       0  \n",
       "\n",
       "[1 rows x 26 columns]"
      ]
     },
     "execution_count": 18,
     "metadata": {},
     "output_type": "execute_result"
    }
   ],
   "source": [
    "concat_customerfeature[concat_customerfeature['customer_id'] == 1000078]"
   ]
  },
  {
   "cell_type": "markdown",
   "metadata": {},
   "source": [
    "####  left join lsma_copy and feature intrest ####"
   ]
  },
  {
   "cell_type": "code",
   "execution_count": 19,
   "metadata": {},
   "outputs": [
    {
     "data": {
      "text/plain": [
       "(36000, 30)"
      ]
     },
     "execution_count": 19,
     "metadata": {},
     "output_type": "execute_result"
    }
   ],
   "source": [
    "#left dataframe = lsma_copy\n",
    "#right dataframe = concat_customerfeature\n",
    "left_join = pd.merge(lsma_copy, concat_customerfeature, on='customer_id', how='left')\n",
    "left_join.shape"
   ]
  },
  {
   "cell_type": "code",
   "execution_count": 20,
   "metadata": {},
   "outputs": [],
   "source": [
    "#get the book price from the product_features.csv files\n",
    "nrows = left_join.shape[0]\n",
    "retail_price = []\n",
    "\n",
    "for i in range(nrows):\n",
    "    #get the data\n",
    "    subsetdf = left_join.iloc[i]['product_id']\n",
    "    #locate the retail price in orgpo_copy data\n",
    "    rp = orgpo_copy[orgpo_copy['product_id'] == subsetdf]['retail_value'].values[0]\n",
    "    retail_price.append(rp)"
   ]
  },
  {
   "cell_type": "code",
   "execution_count": 21,
   "metadata": {},
   "outputs": [],
   "source": [
    "left_join['retailPrice'] = retail_price #set the column in the dataframe"
   ]
  },
  {
   "cell_type": "markdown",
   "metadata": {},
   "source": [
    "#### check if we have all customer interest data in the customer_features.csv file ####"
   ]
  },
  {
   "cell_type": "code",
   "execution_count": 22,
   "metadata": {},
   "outputs": [],
   "source": [
    "nextmonth_customer = next_month_assort.customer_id.unique().tolist()\n",
    "customer_lookup = customer_feature.customer_id.unique().tolist()"
   ]
  },
  {
   "cell_type": "code",
   "execution_count": 23,
   "metadata": {},
   "outputs": [
    {
     "data": {
      "text/plain": [
       "[]"
      ]
     },
     "execution_count": 23,
     "metadata": {},
     "output_type": "execute_result"
    }
   ],
   "source": [
    "[x for x in nextmonth_customer if x not in customer_lookup]"
   ]
  },
  {
   "cell_type": "markdown",
   "metadata": {},
   "source": [
    "So, in the test data we have all customer id which is also present in the customer feature lookup data"
   ]
  },
  {
   "cell_type": "markdown",
   "metadata": {},
   "source": [
    "#### sample modeling  ####\n",
    "\n",
    "try the models with the data we have!"
   ]
  },
  {
   "cell_type": "code",
   "execution_count": 24,
   "metadata": {},
   "outputs": [],
   "source": [
    "#convert categorical variable to label encoding\n",
    "def label_encoding(asSeries):\n",
    "    encoding = []\n",
    "    #get unique values\n",
    "    uniqueList = sorted(asSeries.unique().tolist())\n",
    "    #iterate through the asSeries\n",
    "    for ser in asSeries:\n",
    "        #get index of that value in uniqueList\n",
    "        index = uniqueList.index(ser)\n",
    "        encoding.append(index)\n",
    "        \n",
    "    return encoding\n",
    "\n",
    "target_label = label_encoding(left_join['purchased'])\n",
    "fiction_label = label_encoding(left_join['fiction'])\n",
    "isReturning_label = label_encoding(left_join['is_returning_customer'])\n",
    "genre_label = label_encoding(left_join['genre'])"
   ]
  },
  {
   "cell_type": "code",
   "execution_count": 25,
   "metadata": {},
   "outputs": [],
   "source": [
    "left_join['age_bucket'] = left_join['age_bucket'].fillna('')\n",
    "age_label = label_encoding(left_join['age_bucket'])"
   ]
  },
  {
   "cell_type": "code",
   "execution_count": 26,
   "metadata": {},
   "outputs": [],
   "source": [
    "#split the dataset\n",
    "input_features = ['Classic',' History',' Self-Help',' Romance',' Thriller',' Pop-Sci',\n",
    " ' Pop-Psychology',' Beach-Read',' Sci-Fi','Beach-Read',' Biography',' Drama','Romance',\n",
    " 'Drama','Pop-Psychology',' Classic','Biography','Thriller','Self-Help',\n",
    " 'Pop-Sci','notKnown','History','Sci-Fi', 'retailPrice', 'fiction_label', 'isReturning_label',\n",
    " 'genre_label', 'age_label']\n",
    "\n",
    "target = 'target_label'\n",
    "\n",
    "#add all those column in the dataset\n",
    "left_join['fiction_label'] = fiction_label\n",
    "left_join['target_label'] = target_label\n",
    "left_join['isReturning_label'] = isReturning_label\n",
    "left_join['age_label'] = age_label\n",
    "left_join['genre_label'] = genre_label\n",
    "\n",
    "#split input and output\n",
    "X, y = left_join[input_features], left_join[target]"
   ]
  },
  {
   "cell_type": "code",
   "execution_count": 27,
   "metadata": {},
   "outputs": [
    {
     "data": {
      "text/plain": [
       "0    23321\n",
       "1    12679\n",
       "Name: target_label, dtype: int64"
      ]
     },
     "execution_count": 27,
     "metadata": {},
     "output_type": "execute_result"
    }
   ],
   "source": [
    "y.value_counts()"
   ]
  },
  {
   "cell_type": "code",
   "execution_count": 28,
   "metadata": {},
   "outputs": [
    {
     "name": "stdout",
     "output_type": "stream",
     "text": [
      "(32400, 28) (32400,) (3600, 28) (3600,)\n"
     ]
    }
   ],
   "source": [
    "#split the dataset into train and validate\n",
    "from sklearn.model_selection import train_test_split\n",
    "\n",
    "X_train, evalX, y_train, evalY = train_test_split(\n",
    "    X, y, test_size = 0.1,\n",
    "    random_state=12)\n",
    "\n",
    "print(X_train.shape, y_train.shape, evalX.shape, evalY.shape)"
   ]
  },
  {
   "cell_type": "markdown",
   "metadata": {},
   "source": [
    "### xgb classifier ###"
   ]
  },
  {
   "cell_type": "code",
   "execution_count": 29,
   "metadata": {
    "scrolled": false
   },
   "outputs": [
    {
     "name": "stdout",
     "output_type": "stream",
     "text": [
      "[0]\tvalidation_0-auc:0.637307\n",
      "Will train until validation_0-auc hasn't improved in 100 rounds.\n",
      "[1]\tvalidation_0-auc:0.641224\n",
      "[2]\tvalidation_0-auc:0.647101\n",
      "[3]\tvalidation_0-auc:0.655037\n",
      "[4]\tvalidation_0-auc:0.657066\n",
      "[5]\tvalidation_0-auc:0.660584\n",
      "[6]\tvalidation_0-auc:0.663451\n",
      "[7]\tvalidation_0-auc:0.66312\n",
      "[8]\tvalidation_0-auc:0.665827\n",
      "[9]\tvalidation_0-auc:0.667415\n",
      "[10]\tvalidation_0-auc:0.667792\n",
      "[11]\tvalidation_0-auc:0.66904\n",
      "[12]\tvalidation_0-auc:0.66944\n",
      "[13]\tvalidation_0-auc:0.670447\n",
      "[14]\tvalidation_0-auc:0.671376\n",
      "[15]\tvalidation_0-auc:0.673236\n",
      "[16]\tvalidation_0-auc:0.672604\n",
      "[17]\tvalidation_0-auc:0.674707\n",
      "[18]\tvalidation_0-auc:0.675876\n",
      "[19]\tvalidation_0-auc:0.678005\n",
      "[20]\tvalidation_0-auc:0.678577\n",
      "[21]\tvalidation_0-auc:0.678978\n",
      "[22]\tvalidation_0-auc:0.680078\n",
      "[23]\tvalidation_0-auc:0.68131\n",
      "[24]\tvalidation_0-auc:0.68625\n",
      "[25]\tvalidation_0-auc:0.687066\n",
      "[26]\tvalidation_0-auc:0.687617\n",
      "[27]\tvalidation_0-auc:0.693913\n",
      "[28]\tvalidation_0-auc:0.69387\n",
      "[29]\tvalidation_0-auc:0.694164\n",
      "[30]\tvalidation_0-auc:0.695792\n",
      "[31]\tvalidation_0-auc:0.699405\n",
      "[32]\tvalidation_0-auc:0.699484\n",
      "[33]\tvalidation_0-auc:0.702183\n",
      "[34]\tvalidation_0-auc:0.702226\n",
      "[35]\tvalidation_0-auc:0.70684\n",
      "[36]\tvalidation_0-auc:0.709556\n",
      "[37]\tvalidation_0-auc:0.709629\n",
      "[38]\tvalidation_0-auc:0.712161\n",
      "[39]\tvalidation_0-auc:0.713744\n",
      "[40]\tvalidation_0-auc:0.715623\n",
      "[41]\tvalidation_0-auc:0.71843\n",
      "[42]\tvalidation_0-auc:0.718779\n",
      "[43]\tvalidation_0-auc:0.719454\n",
      "[44]\tvalidation_0-auc:0.71966\n",
      "[45]\tvalidation_0-auc:0.719891\n",
      "[46]\tvalidation_0-auc:0.72032\n",
      "[47]\tvalidation_0-auc:0.722521\n",
      "[48]\tvalidation_0-auc:0.722735\n",
      "[49]\tvalidation_0-auc:0.722721\n",
      "[50]\tvalidation_0-auc:0.722848\n",
      "[51]\tvalidation_0-auc:0.722677\n",
      "[52]\tvalidation_0-auc:0.725058\n",
      "[53]\tvalidation_0-auc:0.724918\n",
      "[54]\tvalidation_0-auc:0.724999\n",
      "[55]\tvalidation_0-auc:0.725117\n",
      "[56]\tvalidation_0-auc:0.726374\n",
      "[57]\tvalidation_0-auc:0.726085\n",
      "[58]\tvalidation_0-auc:0.727255\n",
      "[59]\tvalidation_0-auc:0.72738\n",
      "[60]\tvalidation_0-auc:0.73048\n",
      "[61]\tvalidation_0-auc:0.730596\n",
      "[62]\tvalidation_0-auc:0.731417\n",
      "[63]\tvalidation_0-auc:0.731173\n",
      "[64]\tvalidation_0-auc:0.732026\n",
      "[65]\tvalidation_0-auc:0.734769\n",
      "[66]\tvalidation_0-auc:0.737226\n",
      "[67]\tvalidation_0-auc:0.737838\n",
      "[68]\tvalidation_0-auc:0.737827\n",
      "[69]\tvalidation_0-auc:0.737845\n",
      "[70]\tvalidation_0-auc:0.737538\n",
      "[71]\tvalidation_0-auc:0.736888\n",
      "[72]\tvalidation_0-auc:0.736849\n",
      "[73]\tvalidation_0-auc:0.737581\n",
      "[74]\tvalidation_0-auc:0.73812\n",
      "[75]\tvalidation_0-auc:0.739416\n",
      "[76]\tvalidation_0-auc:0.739843\n",
      "[77]\tvalidation_0-auc:0.739944\n",
      "[78]\tvalidation_0-auc:0.740542\n",
      "[79]\tvalidation_0-auc:0.741081\n",
      "[80]\tvalidation_0-auc:0.741355\n",
      "[81]\tvalidation_0-auc:0.741504\n",
      "[82]\tvalidation_0-auc:0.74194\n",
      "[83]\tvalidation_0-auc:0.74165\n",
      "[84]\tvalidation_0-auc:0.741171\n",
      "[85]\tvalidation_0-auc:0.741666\n",
      "[86]\tvalidation_0-auc:0.741906\n",
      "[87]\tvalidation_0-auc:0.742005\n",
      "[88]\tvalidation_0-auc:0.742627\n",
      "[89]\tvalidation_0-auc:0.742717\n",
      "[90]\tvalidation_0-auc:0.742586\n",
      "[91]\tvalidation_0-auc:0.744832\n",
      "[92]\tvalidation_0-auc:0.744951\n",
      "[93]\tvalidation_0-auc:0.745059\n",
      "[94]\tvalidation_0-auc:0.746223\n",
      "[95]\tvalidation_0-auc:0.747339\n",
      "[96]\tvalidation_0-auc:0.747728\n",
      "[97]\tvalidation_0-auc:0.74787\n",
      "[98]\tvalidation_0-auc:0.748275\n",
      "[99]\tvalidation_0-auc:0.748348\n",
      "[100]\tvalidation_0-auc:0.749284\n",
      "[101]\tvalidation_0-auc:0.74998\n",
      "[102]\tvalidation_0-auc:0.750005\n",
      "[103]\tvalidation_0-auc:0.749894\n",
      "[104]\tvalidation_0-auc:0.750389\n",
      "[105]\tvalidation_0-auc:0.750834\n",
      "[106]\tvalidation_0-auc:0.750863\n",
      "[107]\tvalidation_0-auc:0.751343\n",
      "[108]\tvalidation_0-auc:0.751582\n",
      "[109]\tvalidation_0-auc:0.75211\n",
      "[110]\tvalidation_0-auc:0.752033\n",
      "[111]\tvalidation_0-auc:0.753431\n",
      "[112]\tvalidation_0-auc:0.754157\n",
      "[113]\tvalidation_0-auc:0.754736\n",
      "[114]\tvalidation_0-auc:0.754416\n",
      "[115]\tvalidation_0-auc:0.754544\n",
      "[116]\tvalidation_0-auc:0.754708\n",
      "[117]\tvalidation_0-auc:0.754648\n",
      "[118]\tvalidation_0-auc:0.756034\n",
      "[119]\tvalidation_0-auc:0.756173\n",
      "[120]\tvalidation_0-auc:0.75636\n",
      "[121]\tvalidation_0-auc:0.757736\n",
      "[122]\tvalidation_0-auc:0.757695\n",
      "[123]\tvalidation_0-auc:0.757954\n",
      "[124]\tvalidation_0-auc:0.757879\n",
      "[125]\tvalidation_0-auc:0.757293\n",
      "[126]\tvalidation_0-auc:0.757406\n",
      "[127]\tvalidation_0-auc:0.757306\n",
      "[128]\tvalidation_0-auc:0.757612\n",
      "[129]\tvalidation_0-auc:0.757686\n",
      "[130]\tvalidation_0-auc:0.757582\n",
      "[131]\tvalidation_0-auc:0.757938\n",
      "[132]\tvalidation_0-auc:0.757413\n",
      "[133]\tvalidation_0-auc:0.758005\n",
      "[134]\tvalidation_0-auc:0.757999\n",
      "[135]\tvalidation_0-auc:0.757722\n",
      "[136]\tvalidation_0-auc:0.758533\n",
      "[137]\tvalidation_0-auc:0.75882\n",
      "[138]\tvalidation_0-auc:0.759756\n",
      "[139]\tvalidation_0-auc:0.760077\n",
      "[140]\tvalidation_0-auc:0.760278\n",
      "[141]\tvalidation_0-auc:0.760563\n",
      "[142]\tvalidation_0-auc:0.760558\n",
      "[143]\tvalidation_0-auc:0.761305\n",
      "[144]\tvalidation_0-auc:0.761699\n",
      "[145]\tvalidation_0-auc:0.762177\n",
      "[146]\tvalidation_0-auc:0.762205\n",
      "[147]\tvalidation_0-auc:0.762003\n",
      "[148]\tvalidation_0-auc:0.762598\n",
      "[149]\tvalidation_0-auc:0.762751\n",
      "[150]\tvalidation_0-auc:0.762716\n",
      "[151]\tvalidation_0-auc:0.763162\n",
      "[152]\tvalidation_0-auc:0.763303\n",
      "[153]\tvalidation_0-auc:0.763337\n",
      "[154]\tvalidation_0-auc:0.763591\n",
      "[155]\tvalidation_0-auc:0.763827\n",
      "[156]\tvalidation_0-auc:0.764093\n",
      "[157]\tvalidation_0-auc:0.764298\n",
      "[158]\tvalidation_0-auc:0.765092\n",
      "[159]\tvalidation_0-auc:0.765242\n",
      "[160]\tvalidation_0-auc:0.764836\n",
      "[161]\tvalidation_0-auc:0.765431\n",
      "[162]\tvalidation_0-auc:0.765262\n",
      "[163]\tvalidation_0-auc:0.765475\n",
      "[164]\tvalidation_0-auc:0.765431\n",
      "[165]\tvalidation_0-auc:0.76609\n",
      "[166]\tvalidation_0-auc:0.766523\n",
      "[167]\tvalidation_0-auc:0.766581\n",
      "[168]\tvalidation_0-auc:0.766416\n",
      "[169]\tvalidation_0-auc:0.766508\n",
      "[170]\tvalidation_0-auc:0.766339\n",
      "[171]\tvalidation_0-auc:0.766323\n",
      "[172]\tvalidation_0-auc:0.766289\n",
      "[173]\tvalidation_0-auc:0.766435\n",
      "[174]\tvalidation_0-auc:0.766737\n",
      "[175]\tvalidation_0-auc:0.76687\n",
      "[176]\tvalidation_0-auc:0.766939\n",
      "[177]\tvalidation_0-auc:0.767778\n",
      "[178]\tvalidation_0-auc:0.767766\n",
      "[179]\tvalidation_0-auc:0.767421\n",
      "[180]\tvalidation_0-auc:0.767546\n",
      "[181]\tvalidation_0-auc:0.767386\n",
      "[182]\tvalidation_0-auc:0.767368\n",
      "[183]\tvalidation_0-auc:0.767377\n",
      "[184]\tvalidation_0-auc:0.767635\n",
      "[185]\tvalidation_0-auc:0.767937\n",
      "[186]\tvalidation_0-auc:0.767792\n",
      "[187]\tvalidation_0-auc:0.767774\n",
      "[188]\tvalidation_0-auc:0.76774\n",
      "[189]\tvalidation_0-auc:0.767808\n",
      "[190]\tvalidation_0-auc:0.767853\n",
      "[191]\tvalidation_0-auc:0.767849\n",
      "[192]\tvalidation_0-auc:0.767996\n",
      "[193]\tvalidation_0-auc:0.767967\n",
      "[194]\tvalidation_0-auc:0.768044\n",
      "[195]\tvalidation_0-auc:0.768255\n",
      "[196]\tvalidation_0-auc:0.768478\n",
      "[197]\tvalidation_0-auc:0.768595\n",
      "[198]\tvalidation_0-auc:0.768681\n",
      "[199]\tvalidation_0-auc:0.768984\n",
      "[200]\tvalidation_0-auc:0.769087\n",
      "[201]\tvalidation_0-auc:0.769121\n",
      "[202]\tvalidation_0-auc:0.769571\n",
      "[203]\tvalidation_0-auc:0.769588\n",
      "[204]\tvalidation_0-auc:0.769656\n",
      "[205]\tvalidation_0-auc:0.769485\n",
      "[206]\tvalidation_0-auc:0.769459\n",
      "[207]\tvalidation_0-auc:0.769727\n",
      "[208]\tvalidation_0-auc:0.769913\n",
      "[209]\tvalidation_0-auc:0.77021\n",
      "[210]\tvalidation_0-auc:0.770175\n",
      "[211]\tvalidation_0-auc:0.7702\n",
      "[212]\tvalidation_0-auc:0.770207\n",
      "[213]\tvalidation_0-auc:0.770335\n",
      "[214]\tvalidation_0-auc:0.770823\n",
      "[215]\tvalidation_0-auc:0.770608\n",
      "[216]\tvalidation_0-auc:0.770613\n",
      "[217]\tvalidation_0-auc:0.770728\n",
      "[218]\tvalidation_0-auc:0.770626\n",
      "[219]\tvalidation_0-auc:0.77068\n",
      "[220]\tvalidation_0-auc:0.771006\n",
      "[221]\tvalidation_0-auc:0.771044\n",
      "[222]\tvalidation_0-auc:0.771168\n",
      "[223]\tvalidation_0-auc:0.77117\n",
      "[224]\tvalidation_0-auc:0.770854\n",
      "[225]\tvalidation_0-auc:0.770905\n",
      "[226]\tvalidation_0-auc:0.770937\n",
      "[227]\tvalidation_0-auc:0.771107\n",
      "[228]\tvalidation_0-auc:0.770834\n",
      "[229]\tvalidation_0-auc:0.770749\n",
      "[230]\tvalidation_0-auc:0.770984\n",
      "[231]\tvalidation_0-auc:0.771022\n",
      "[232]\tvalidation_0-auc:0.771147\n",
      "[233]\tvalidation_0-auc:0.770996\n",
      "[234]\tvalidation_0-auc:0.771034\n",
      "[235]\tvalidation_0-auc:0.771373\n",
      "[236]\tvalidation_0-auc:0.771804\n",
      "[237]\tvalidation_0-auc:0.771757\n",
      "[238]\tvalidation_0-auc:0.771766\n",
      "[239]\tvalidation_0-auc:0.771923\n",
      "[240]\tvalidation_0-auc:0.772009\n",
      "[241]\tvalidation_0-auc:0.772008\n",
      "[242]\tvalidation_0-auc:0.772236\n",
      "[243]\tvalidation_0-auc:0.772505\n",
      "[244]\tvalidation_0-auc:0.772813\n",
      "[245]\tvalidation_0-auc:0.772799\n",
      "[246]\tvalidation_0-auc:0.772726\n",
      "[247]\tvalidation_0-auc:0.772534\n",
      "[248]\tvalidation_0-auc:0.772639\n",
      "[249]\tvalidation_0-auc:0.772758\n",
      "[250]\tvalidation_0-auc:0.772609\n",
      "[251]\tvalidation_0-auc:0.773045\n",
      "[252]\tvalidation_0-auc:0.772855\n",
      "[253]\tvalidation_0-auc:0.772662\n",
      "[254]\tvalidation_0-auc:0.772828\n",
      "[255]\tvalidation_0-auc:0.772702\n",
      "[256]\tvalidation_0-auc:0.772812\n",
      "[257]\tvalidation_0-auc:0.772826\n",
      "[258]\tvalidation_0-auc:0.77287\n"
     ]
    },
    {
     "name": "stdout",
     "output_type": "stream",
     "text": [
      "[259]\tvalidation_0-auc:0.772915\n",
      "[260]\tvalidation_0-auc:0.77285\n",
      "[261]\tvalidation_0-auc:0.773106\n",
      "[262]\tvalidation_0-auc:0.773364\n",
      "[263]\tvalidation_0-auc:0.773158\n",
      "[264]\tvalidation_0-auc:0.773219\n",
      "[265]\tvalidation_0-auc:0.773113\n",
      "[266]\tvalidation_0-auc:0.773082\n",
      "[267]\tvalidation_0-auc:0.773231\n",
      "[268]\tvalidation_0-auc:0.773464\n",
      "[269]\tvalidation_0-auc:0.773813\n",
      "[270]\tvalidation_0-auc:0.773574\n",
      "[271]\tvalidation_0-auc:0.773488\n",
      "[272]\tvalidation_0-auc:0.773416\n",
      "[273]\tvalidation_0-auc:0.77348\n",
      "[274]\tvalidation_0-auc:0.77338\n",
      "[275]\tvalidation_0-auc:0.77341\n",
      "[276]\tvalidation_0-auc:0.773297\n",
      "[277]\tvalidation_0-auc:0.773204\n",
      "[278]\tvalidation_0-auc:0.773031\n",
      "[279]\tvalidation_0-auc:0.772847\n",
      "[280]\tvalidation_0-auc:0.773012\n",
      "[281]\tvalidation_0-auc:0.773017\n",
      "[282]\tvalidation_0-auc:0.773076\n",
      "[283]\tvalidation_0-auc:0.773128\n",
      "[284]\tvalidation_0-auc:0.773289\n",
      "[285]\tvalidation_0-auc:0.773538\n",
      "[286]\tvalidation_0-auc:0.773628\n",
      "[287]\tvalidation_0-auc:0.773795\n",
      "[288]\tvalidation_0-auc:0.773766\n",
      "[289]\tvalidation_0-auc:0.773656\n",
      "[290]\tvalidation_0-auc:0.773705\n",
      "[291]\tvalidation_0-auc:0.773673\n",
      "[292]\tvalidation_0-auc:0.773959\n",
      "[293]\tvalidation_0-auc:0.774369\n",
      "[294]\tvalidation_0-auc:0.774438\n",
      "[295]\tvalidation_0-auc:0.774483\n",
      "[296]\tvalidation_0-auc:0.775269\n",
      "[297]\tvalidation_0-auc:0.775477\n",
      "[298]\tvalidation_0-auc:0.775546\n",
      "[299]\tvalidation_0-auc:0.775549\n",
      "[300]\tvalidation_0-auc:0.775314\n",
      "[301]\tvalidation_0-auc:0.775579\n",
      "[302]\tvalidation_0-auc:0.775364\n",
      "[303]\tvalidation_0-auc:0.77532\n",
      "[304]\tvalidation_0-auc:0.775243\n",
      "[305]\tvalidation_0-auc:0.775169\n",
      "[306]\tvalidation_0-auc:0.775088\n",
      "[307]\tvalidation_0-auc:0.774934\n",
      "[308]\tvalidation_0-auc:0.775133\n",
      "[309]\tvalidation_0-auc:0.775157\n",
      "[310]\tvalidation_0-auc:0.775295\n",
      "[311]\tvalidation_0-auc:0.775336\n",
      "[312]\tvalidation_0-auc:0.77543\n",
      "[313]\tvalidation_0-auc:0.775148\n",
      "[314]\tvalidation_0-auc:0.7757\n",
      "[315]\tvalidation_0-auc:0.775895\n",
      "[316]\tvalidation_0-auc:0.775866\n",
      "[317]\tvalidation_0-auc:0.775749\n",
      "[318]\tvalidation_0-auc:0.775923\n",
      "[319]\tvalidation_0-auc:0.775802\n",
      "[320]\tvalidation_0-auc:0.776022\n",
      "[321]\tvalidation_0-auc:0.775784\n",
      "[322]\tvalidation_0-auc:0.775903\n",
      "[323]\tvalidation_0-auc:0.775881\n",
      "[324]\tvalidation_0-auc:0.775732\n",
      "[325]\tvalidation_0-auc:0.775663\n",
      "[326]\tvalidation_0-auc:0.775723\n",
      "[327]\tvalidation_0-auc:0.775982\n",
      "[328]\tvalidation_0-auc:0.776101\n",
      "[329]\tvalidation_0-auc:0.776218\n",
      "[330]\tvalidation_0-auc:0.776116\n",
      "[331]\tvalidation_0-auc:0.776184\n",
      "[332]\tvalidation_0-auc:0.776045\n",
      "[333]\tvalidation_0-auc:0.776461\n",
      "[334]\tvalidation_0-auc:0.776389\n",
      "[335]\tvalidation_0-auc:0.776301\n",
      "[336]\tvalidation_0-auc:0.776334\n",
      "[337]\tvalidation_0-auc:0.776503\n",
      "[338]\tvalidation_0-auc:0.776543\n",
      "[339]\tvalidation_0-auc:0.776691\n",
      "[340]\tvalidation_0-auc:0.776515\n",
      "[341]\tvalidation_0-auc:0.776553\n",
      "[342]\tvalidation_0-auc:0.776704\n",
      "[343]\tvalidation_0-auc:0.776578\n",
      "[344]\tvalidation_0-auc:0.776369\n",
      "[345]\tvalidation_0-auc:0.776549\n",
      "[346]\tvalidation_0-auc:0.776415\n",
      "[347]\tvalidation_0-auc:0.776282\n",
      "[348]\tvalidation_0-auc:0.776108\n",
      "[349]\tvalidation_0-auc:0.775817\n",
      "[350]\tvalidation_0-auc:0.775786\n",
      "[351]\tvalidation_0-auc:0.77579\n",
      "[352]\tvalidation_0-auc:0.775734\n",
      "[353]\tvalidation_0-auc:0.775657\n",
      "[354]\tvalidation_0-auc:0.775524\n",
      "[355]\tvalidation_0-auc:0.77547\n",
      "[356]\tvalidation_0-auc:0.77535\n",
      "[357]\tvalidation_0-auc:0.77531\n",
      "[358]\tvalidation_0-auc:0.775255\n",
      "[359]\tvalidation_0-auc:0.775383\n",
      "[360]\tvalidation_0-auc:0.775307\n",
      "[361]\tvalidation_0-auc:0.775392\n",
      "[362]\tvalidation_0-auc:0.77531\n",
      "[363]\tvalidation_0-auc:0.775257\n",
      "[364]\tvalidation_0-auc:0.775248\n",
      "[365]\tvalidation_0-auc:0.775178\n",
      "[366]\tvalidation_0-auc:0.775372\n",
      "[367]\tvalidation_0-auc:0.775421\n",
      "[368]\tvalidation_0-auc:0.775245\n",
      "[369]\tvalidation_0-auc:0.775364\n",
      "[370]\tvalidation_0-auc:0.775272\n",
      "[371]\tvalidation_0-auc:0.775199\n",
      "[372]\tvalidation_0-auc:0.775353\n",
      "[373]\tvalidation_0-auc:0.775316\n",
      "[374]\tvalidation_0-auc:0.775535\n",
      "[375]\tvalidation_0-auc:0.775664\n",
      "[376]\tvalidation_0-auc:0.775781\n",
      "[377]\tvalidation_0-auc:0.775667\n",
      "[378]\tvalidation_0-auc:0.775594\n",
      "[379]\tvalidation_0-auc:0.775602\n",
      "[380]\tvalidation_0-auc:0.775739\n",
      "[381]\tvalidation_0-auc:0.776054\n",
      "[382]\tvalidation_0-auc:0.77618\n",
      "[383]\tvalidation_0-auc:0.776244\n",
      "[384]\tvalidation_0-auc:0.776096\n",
      "[385]\tvalidation_0-auc:0.776216\n",
      "[386]\tvalidation_0-auc:0.77617\n",
      "[387]\tvalidation_0-auc:0.776031\n",
      "[388]\tvalidation_0-auc:0.775643\n",
      "[389]\tvalidation_0-auc:0.775612\n",
      "[390]\tvalidation_0-auc:0.775536\n",
      "[391]\tvalidation_0-auc:0.775712\n",
      "[392]\tvalidation_0-auc:0.775907\n",
      "[393]\tvalidation_0-auc:0.77579\n",
      "[394]\tvalidation_0-auc:0.775747\n",
      "[395]\tvalidation_0-auc:0.775674\n",
      "[396]\tvalidation_0-auc:0.775772\n",
      "[397]\tvalidation_0-auc:0.775827\n",
      "[398]\tvalidation_0-auc:0.775677\n",
      "[399]\tvalidation_0-auc:0.775427\n",
      "[400]\tvalidation_0-auc:0.775349\n",
      "[401]\tvalidation_0-auc:0.77541\n",
      "[402]\tvalidation_0-auc:0.775375\n",
      "[403]\tvalidation_0-auc:0.775281\n",
      "[404]\tvalidation_0-auc:0.775116\n",
      "[405]\tvalidation_0-auc:0.775\n",
      "[406]\tvalidation_0-auc:0.774984\n",
      "[407]\tvalidation_0-auc:0.774882\n",
      "[408]\tvalidation_0-auc:0.775032\n",
      "[409]\tvalidation_0-auc:0.774903\n",
      "[410]\tvalidation_0-auc:0.774756\n",
      "[411]\tvalidation_0-auc:0.774738\n",
      "[412]\tvalidation_0-auc:0.774406\n",
      "[413]\tvalidation_0-auc:0.774484\n",
      "[414]\tvalidation_0-auc:0.774535\n",
      "[415]\tvalidation_0-auc:0.774595\n",
      "[416]\tvalidation_0-auc:0.774599\n",
      "[417]\tvalidation_0-auc:0.774738\n",
      "[418]\tvalidation_0-auc:0.77473\n",
      "[419]\tvalidation_0-auc:0.77462\n",
      "[420]\tvalidation_0-auc:0.774479\n",
      "[421]\tvalidation_0-auc:0.774388\n",
      "[422]\tvalidation_0-auc:0.774217\n",
      "[423]\tvalidation_0-auc:0.774082\n",
      "[424]\tvalidation_0-auc:0.773873\n",
      "[425]\tvalidation_0-auc:0.773852\n",
      "[426]\tvalidation_0-auc:0.773986\n",
      "[427]\tvalidation_0-auc:0.774152\n",
      "[428]\tvalidation_0-auc:0.774042\n",
      "[429]\tvalidation_0-auc:0.774064\n",
      "[430]\tvalidation_0-auc:0.773948\n",
      "[431]\tvalidation_0-auc:0.773844\n",
      "[432]\tvalidation_0-auc:0.773698\n",
      "[433]\tvalidation_0-auc:0.773817\n",
      "[434]\tvalidation_0-auc:0.773717\n",
      "[435]\tvalidation_0-auc:0.773675\n",
      "[436]\tvalidation_0-auc:0.773875\n",
      "[437]\tvalidation_0-auc:0.773793\n",
      "[438]\tvalidation_0-auc:0.773805\n",
      "[439]\tvalidation_0-auc:0.77387\n",
      "[440]\tvalidation_0-auc:0.773714\n",
      "[441]\tvalidation_0-auc:0.77358\n",
      "[442]\tvalidation_0-auc:0.773605\n",
      "Stopping. Best iteration:\n",
      "[342]\tvalidation_0-auc:0.776704\n",
      "\n",
      "AUC Score:0.7767039129385728\n",
      "Accuracy:0.7305555555555555\n"
     ]
    }
   ],
   "source": [
    "import xgboost as xgb \n",
    "from sklearn.metrics import accuracy_score, roc_auc_score\n",
    "\n",
    "def xgb_model(train_data, train_label, test_data, test_label):\n",
    "    clf = xgb.XGBClassifier(max_depth=7,\n",
    "                           min_child_weight=1,\n",
    "                           learning_rate=0.1,\n",
    "                           n_estimators=500,\n",
    "                           silent=True,\n",
    "                           objective='binary:logistic',\n",
    "                           gamma=0,\n",
    "                           max_delta_step=0,\n",
    "                           subsample=1,\n",
    "                           colsample_bytree=1,\n",
    "                           colsample_bylevel=1,\n",
    "                           reg_alpha=0,\n",
    "                           reg_lambda=0,\n",
    "                           scale_pos_weight=1,\n",
    "                           seed=1,\n",
    "                           missing=None)\n",
    "    clf.fit(train_data, train_label, eval_metric='auc', verbose=True,\n",
    "            eval_set=[(test_data, test_label)], early_stopping_rounds=100)\n",
    "    y_pre = clf.predict(test_data)\n",
    "    y_pro = clf.predict_proba(test_data)[:, 1]\n",
    "    \n",
    "    print(\"AUC Score:{}\".format(roc_auc_score(test_label, y_pro)))\n",
    "    print(\"Accuracy:{}\".format(accuracy_score(test_label, y_pre)))\n",
    "    \n",
    "    return clf, y_pre\n",
    "          \n",
    "\n",
    "xgb_clf, xgb_prediction = xgb_model(X_train, y_train, evalX, evalY)"
   ]
  },
  {
   "cell_type": "code",
   "execution_count": 30,
   "metadata": {},
   "outputs": [],
   "source": [
    "predictiondf = pd.DataFrame({'actual': evalY, 'prediction':xgb_prediction})"
   ]
  },
  {
   "cell_type": "code",
   "execution_count": 31,
   "metadata": {},
   "outputs": [],
   "source": [
    "predictiondf.to_csv(\"prediction.csv\", sep=\",\")"
   ]
  },
  {
   "cell_type": "markdown",
   "metadata": {},
   "source": [
    "####  checking model stability ####"
   ]
  },
  {
   "cell_type": "code",
   "execution_count": 32,
   "metadata": {},
   "outputs": [
    {
     "name": "stdout",
     "output_type": "stream",
     "text": [
      "XGB Model Metrics\n",
      "                   pre       rec       spe        f1       geo       iba       sup\n",
      "\n",
      "          0       0.75      0.87      0.49      0.80      0.65      0.44      2285\n",
      "          1       0.68      0.49      0.87      0.57      0.65      0.41      1315\n",
      "\n",
      "avg / total       0.72      0.73      0.63      0.72      0.65      0.43      3600\n",
      "\n"
     ]
    }
   ],
   "source": [
    "from imblearn.metrics import classification_report_imbalanced\n",
    "\n",
    "print(\"XGB Model Metrics\")\n",
    "print(classification_report_imbalanced(evalY, xgb_prediction))"
   ]
  },
  {
   "cell_type": "markdown",
   "metadata": {},
   "source": [
    "#### predict for the test data ####"
   ]
  },
  {
   "cell_type": "code",
   "execution_count": 33,
   "metadata": {},
   "outputs": [],
   "source": [
    "concat_customerfeature =concat_customerfeature.set_index('customer_id') #setting customer id as index"
   ]
  },
  {
   "cell_type": "code",
   "execution_count": 43,
   "metadata": {},
   "outputs": [
    {
     "name": "stdout",
     "output_type": "stream",
     "text": [
      "5000 rows, Finished fetching product details and customer intrests data\n",
      "10000 rows, Finished fetching product details and customer intrests data\n",
      "15000 rows, Finished fetching product details and customer intrests data\n",
      "20000 rows, Finished fetching product details and customer intrests data\n",
      "25000 rows, Finished fetching product details and customer intrests data\n",
      "30000 rows, Finished fetching product details and customer intrests data\n",
      "35000 rows, Finished fetching product details and customer intrests data\n",
      "40000 rows, Finished fetching product details and customer intrests data\n",
      "45000 rows, Finished fetching product details and customer intrests data\n",
      "50000 rows, Finished fetching product details and customer intrests data\n",
      "55000 rows, Finished fetching product details and customer intrests data\n"
     ]
    }
   ],
   "source": [
    "test_nrows = next_month_assort.shape[0]\n",
    "isfiction, genre = [], []\n",
    "\n",
    "test_customer_intrests =[] #empty dataframe\n",
    "\n",
    "for i in range(test_nrows):\n",
    "    #set the dataframe\n",
    "    getdf = next_month_assort.iloc[i]['product_id']\n",
    "    custdf = next_month_assort.iloc[i]['customer_id']\n",
    "    #get the product features\n",
    "    isfiction.append(prdfeat_copy.loc[getdf]['fiction'])\n",
    "    genre.append(prdfeat_copy.loc[getdf]['genre'])\n",
    "    #customer intrest dataframe\n",
    "    cdf = concat_customerfeature.loc[custdf].values.tolist()\n",
    "    #concatdf\n",
    "    test_customer_intrests.append(cdf)\n",
    "    \n",
    "    if i % 5000 == 0 and i!=0:\n",
    "        print(\"{} rows, Finished fetching product details and customer intrests data\".format(i))"
   ]
  },
  {
   "cell_type": "code",
   "execution_count": 44,
   "metadata": {},
   "outputs": [],
   "source": [
    "nextmonth_copy = next_month_assort.copy()\n",
    "\n",
    "#appended fiction and genre label\n",
    "nextmonth_copy['fiction_label'] = isfiction\n",
    "nextmonth_copy['genre_label'] = genre"
   ]
  },
  {
   "cell_type": "code",
   "execution_count": 45,
   "metadata": {},
   "outputs": [
    {
     "name": "stdout",
     "output_type": "stream",
     "text": [
      "56400 (56400, 4)\n"
     ]
    }
   ],
   "source": [
    "print(len(test_customer_intrests), nextmonth_copy.shape)"
   ]
  },
  {
   "cell_type": "code",
   "execution_count": 48,
   "metadata": {},
   "outputs": [
    {
     "data": {
      "text/plain": [
       "(56400, 25)"
      ]
     },
     "execution_count": 48,
     "metadata": {},
     "output_type": "execute_result"
    }
   ],
   "source": [
    "#convert into dataframe\n",
    "testCustdf = pd.DataFrame(test_customer_intrests, columns=concat_customerfeature.columns.tolist())\n",
    "testCustdf.shape"
   ]
  },
  {
   "cell_type": "code",
   "execution_count": 50,
   "metadata": {},
   "outputs": [
    {
     "data": {
      "text/plain": [
       "(56400, 29)"
      ]
     },
     "execution_count": 50,
     "metadata": {},
     "output_type": "execute_result"
    }
   ],
   "source": [
    "#concat the dataframe\n",
    "testdf = pd.concat([nextmonth_copy, testCustdf], axis=1)\n",
    "testdf.shape"
   ]
  },
  {
   "cell_type": "code",
   "execution_count": 57,
   "metadata": {},
   "outputs": [],
   "source": [
    "testdf['age_bucket'] = testdf['age_bucket'].fillna('')"
   ]
  },
  {
   "cell_type": "code",
   "execution_count": 58,
   "metadata": {},
   "outputs": [],
   "source": [
    "#add all those column in the dataset\n",
    "testdf['fiction_label'] = label_encoding(testdf['fiction_label'])\n",
    "testdf['isReturning_label'] = label_encoding(testdf['is_returning_customer'])\n",
    "testdf['age_label'] = label_encoding(testdf['age_bucket'])\n",
    "testdf['genre_label'] = label_encoding(testdf['genre_label'])"
   ]
  },
  {
   "cell_type": "code",
   "execution_count": null,
   "metadata": {},
   "outputs": [],
   "source": []
  }
 ],
 "metadata": {
  "kernelspec": {
   "display_name": "Python 3",
   "language": "python",
   "name": "python3"
  },
  "language_info": {
   "codemirror_mode": {
    "name": "ipython",
    "version": 3
   },
   "file_extension": ".py",
   "mimetype": "text/x-python",
   "name": "python",
   "nbconvert_exporter": "python",
   "pygments_lexer": "ipython3",
   "version": "3.5.2"
  }
 },
 "nbformat": 4,
 "nbformat_minor": 2
}
