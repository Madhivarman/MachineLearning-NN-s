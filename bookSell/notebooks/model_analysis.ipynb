{
 "cells": [
  {
   "cell_type": "markdown",
   "metadata": {},
   "source": [
    "#### Import Necessary Libraries ####"
   ]
  },
  {
   "cell_type": "code",
   "execution_count": 2,
   "metadata": {},
   "outputs": [],
   "source": [
    "import pandas as pd \n",
    "import numpy as np\n",
    "import matplotlib.pyplot as plt\n",
    "import seaborn as sns"
   ]
  },
  {
   "cell_type": "markdown",
   "metadata": {},
   "source": [
    "#### read all the data ####"
   ]
  },
  {
   "cell_type": "code",
   "execution_count": 3,
   "metadata": {},
   "outputs": [
    {
     "name": "stdout",
     "output_type": "stream",
     "text": [
      "customer features dataframe shape:(12000, 4)\n",
      "last month assortment dataframe shape:(36000, 3)\n",
      "next month assortment dataframe shape:(56400, 2)\n",
      "next purchase order dataframe shape:(300, 4)\n",
      "original purchase order dataframe shape:(1000, 4)\n",
      "product features dataframe shape:(1000, 5)\n"
     ]
    }
   ],
   "source": [
    "#Specifiy the path\n",
    "filepath = 'F:/vedantu/assignment/assignment/data_sets'\n",
    "\n",
    "#import data files\n",
    "customer_feature = pd.read_csv(filepath + \"/customer_features.csv\")\n",
    "last_month_assort = pd.read_csv(filepath + \"/last_month_assortment.csv\")\n",
    "next_month_assort = pd.read_csv(filepath + \"/next_month_assortment.csv\")\n",
    "next_purchase_order = pd.read_csv(filepath + \"/next_purchase_order.csv\")\n",
    "original_purchase_order = pd.read_csv(filepath + \"/original_purchase_order.csv\")\n",
    "product_features = pd.read_csv(filepath + \"/product_features.csv\")\n",
    "\n",
    "print(\"customer features dataframe shape:{}\".format(customer_feature.shape))\n",
    "print(\"last month assortment dataframe shape:{}\".format(last_month_assort.shape))\n",
    "print(\"next month assortment dataframe shape:{}\".format(next_month_assort.shape))\n",
    "print(\"next purchase order dataframe shape:{}\".format(next_purchase_order.shape))\n",
    "print(\"original purchase order dataframe shape:{}\".format(original_purchase_order.shape))\n",
    "print(\"product features dataframe shape:{}\".format(product_features.shape))"
   ]
  },
  {
   "cell_type": "markdown",
   "metadata": {},
   "source": [
    "#### check what is the loan amount? ####\n",
    "\n",
    "there is no missing (or) null information in the \"original_purchase_order.csv\" file"
   ]
  },
  {
   "cell_type": "code",
   "execution_count": 4,
   "metadata": {
    "scrolled": false
   },
   "outputs": [
    {
     "name": "stdout",
     "output_type": "stream",
     "text": [
      "total loan amount:135546.41999999998\n"
     ]
    }
   ],
   "source": [
    "original_purchase_order['total_cost']=original_purchase_order[['quantity_purchased', 'cost_to_buy']].apply(lambda row: row['quantity_purchased'] * row['cost_to_buy'], axis=1)\n",
    "\n",
    "loan_amount = original_purchase_order['total_cost'].sum()\n",
    "\n",
    "print(\"total loan amount:{}\".format(loan_amount))"
   ]
  },
  {
   "cell_type": "markdown",
   "metadata": {},
   "source": [
    "#### check next purchase order total amount ? ####\n",
    "\n",
    "there are no missing value (or) null information in the \"next_purchase_order.csv\" file"
   ]
  },
  {
   "cell_type": "code",
   "execution_count": 5,
   "metadata": {},
   "outputs": [
    {
     "name": "stdout",
     "output_type": "stream",
     "text": [
      "amount spent for next purchase order:24155.510000000002\n"
     ]
    }
   ],
   "source": [
    "next_purchase_order['total_cost'] = next_purchase_order[['quantity_purchased', 'cost_to_buy']].apply(lambda row: row['quantity_purchased'] * row['cost_to_buy'], axis=1)\n",
    "\n",
    "next_purchase_order_amount = next_purchase_order['total_cost'].sum()\n",
    "\n",
    "print(\"amount spent for next purchase order:{}\".format(next_purchase_order_amount))"
   ]
  },
  {
   "cell_type": "markdown",
   "metadata": {},
   "source": [
    "#### money made back from customer ####"
   ]
  },
  {
   "cell_type": "code",
   "execution_count": 6,
   "metadata": {},
   "outputs": [
    {
     "name": "stdout",
     "output_type": "stream",
     "text": [
      "total money made back by selling books:151617.36\n",
      "total shipping charge for last month:21600.0\n"
     ]
    }
   ],
   "source": [
    "#get only product_id where book the is purchased or not\n",
    "onlypurchasedBook = last_month_assort[last_month_assort['purchased'] == True]\n",
    "\n",
    "#check the retail price for all those books and do sum \n",
    "#to check what money we made back from the customer\n",
    "\n",
    "orgpo_copy = original_purchase_order.copy() #original purchase order copy\n",
    "orgpo_copy = orgpo_copy.set_index(original_purchase_order.product_id)\n",
    "\n",
    "moneymadeback = orgpo_copy.loc[onlypurchasedBook['product_id'].tolist()]['retail_value'].sum()\n",
    "print(\"total money made back by selling books:{}\".format(moneymadeback))\n",
    "\n",
    "#see the shipping charge\n",
    "shippingcharge = last_month_assort.shape[0] * 0.60\n",
    "print(\"total shipping charge for last month:{}\".format(shippingcharge))"
   ]
  },
  {
   "cell_type": "markdown",
   "metadata": {},
   "source": [
    "### preprocess dataset ###\n",
    "\n",
    "#### check genres from the customer_features.csv dataset ####"
   ]
  },
  {
   "cell_type": "code",
   "execution_count": 7,
   "metadata": {
    "scrolled": false
   },
   "outputs": [
    {
     "name": "stdout",
     "output_type": "stream",
     "text": [
      "total number of genres:23\n"
     ]
    }
   ],
   "source": [
    "uniqueGenres = []\n",
    "genresFreq = []\n",
    "\n",
    "for genres in customer_feature['favorite_genres']:\n",
    "    #replace the word \n",
    "    word = genres.replace(\"[\",\"\")\n",
    "    word = word.replace(\"]\",\"\")\n",
    "    word = word.replace(\"'\",\"\")\n",
    "    #split by comma\n",
    "    wordslist = word.split(\",\")\n",
    "    #iterate through the list\n",
    "    if len(wordslist) != 0:\n",
    "        for genr in wordslist:\n",
    "            genresFreq.append(genr)\n",
    "            if genr not in uniqueGenres:\n",
    "                uniqueGenres.append(genr)\n",
    "            else:\n",
    "                pass\n",
    "\n",
    "print(\"total number of genres:{}\".format(len(uniqueGenres)))"
   ]
  },
  {
   "cell_type": "code",
   "execution_count": 8,
   "metadata": {},
   "outputs": [],
   "source": [
    "#remove space constraints here\n",
    "def removeSpace(col):\n",
    "    cols = []\n",
    "    for x in col:\n",
    "        sp = x.replace(\" \",'')\n",
    "        cols.append(sp)\n",
    "    \n",
    "    return cols\n",
    "        \n",
    "uniqueGenres = list(set(removeSpace(uniqueGenres)))\n",
    "genresFreq = removeSpace(genresFreq)"
   ]
  },
  {
   "cell_type": "code",
   "execution_count": 9,
   "metadata": {},
   "outputs": [
    {
     "data": {
      "image/png": "[encoded data removed]",
      "text/plain": [
       "<Figure size 1440x720 with 1 Axes>"
      ]
     },
     "metadata": {},
     "output_type": "display_data"
    }
   ],
   "source": [
    "from collections import Counter\n",
    "frequency = Counter(genresFreq)\n",
    "\n",
    "plt.figure(figsize=(20, 10))\n",
    "plt.bar(range(len(frequency)), list(frequency.values()), align='center')\n",
    "plt.xticks(range(len(frequency)), list(frequency.keys()), rotation='vertical')\n",
    "\n",
    "plt.show()"
   ]
  },
  {
   "cell_type": "markdown",
   "metadata": {},
   "source": [
    "from the above graph we can see, what are the top picks for the customers."
   ]
  },
  {
   "cell_type": "markdown",
   "metadata": {},
   "source": [
    "#### convert favorite genres to one hot encoding ####"
   ]
  },
  {
   "cell_type": "code",
   "execution_count": 10,
   "metadata": {
    "scrolled": true
   },
   "outputs": [],
   "source": [
    "#get total length of the customers\n",
    "def convertIntoList(genaslist):\n",
    "     #replace the word \n",
    "    word = genaslist.replace(\"[\",\"\")\n",
    "    word = word.replace(\"]\",\"\")\n",
    "    word = word.replace(\"'\",\"\")\n",
    "    #split by comma\n",
    "    wordslist = word.split(\",\")\n",
    "    \n",
    "    #remove space here\n",
    "    afterremovalSpace = removeSpace(wordslist)\n",
    "    \n",
    "    return afterremovalSpace\n",
    "\n",
    "def oneHotEncode(df):\n",
    "    no_of_customers = []\n",
    "    \n",
    "    #get index of each uniqueGenres that customer likes\n",
    "    df = df.reset_index(0)\n",
    "    for row in range(df.shape[0]):\n",
    "        genre_list = [0]*len(uniqueGenres)\n",
    "        #get the subsetdf\n",
    "        subsetdf = df.iloc[row]['favorite_genres']\n",
    "        genlist = convertIntoList(subsetdf)\n",
    "        \n",
    "        #get the index for unique\n",
    "        indexlist = [uniqueGenres.index(genre) for genre in genlist]\n",
    "        \n",
    "        for ind in indexlist:\n",
    "            genre_list[ind] = 1\n",
    "        \n",
    "        no_of_customers.append(genre_list)\n",
    "    \n",
    "    return no_of_customers\n",
    "\n",
    "onehotfeatures = oneHotEncode(customer_feature)"
   ]
  },
  {
   "cell_type": "code",
   "execution_count": 11,
   "metadata": {},
   "outputs": [
    {
     "data": {
      "text/plain": [
       "(12000, 12)"
      ]
     },
     "execution_count": 11,
     "metadata": {},
     "output_type": "execute_result"
    }
   ],
   "source": [
    "#convert above feature into the dataframe\n",
    "onehotdf = pd.DataFrame(onehotfeatures, columns=uniqueGenres)\n",
    "onehotdf.shape"
   ]
  },
  {
   "cell_type": "code",
   "execution_count": 12,
   "metadata": {},
   "outputs": [],
   "source": [
    "#concatenate the above dataframe with customer_features\n",
    "concat_customerfeature = pd.concat([customer_feature, onehotdf], axis=1)\n",
    "concat_customerfeature.shape\n",
    "#drop favorite_genres feature in the dataset\n",
    "concat_customerfeature = concat_customerfeature.drop(['favorite_genres'], axis=1)"
   ]
  },
  {
   "cell_type": "code",
   "execution_count": 13,
   "metadata": {},
   "outputs": [],
   "source": [
    "#see favorite genre by age_bucket\n",
    "age_gby = concat_customerfeature.groupby(['age_bucket']).agg(['sum'])\n",
    "age_gby = pd.DataFrame(age_gby)\n",
    "age_gby = age_gby.drop(['customer_id', 'is_returning_customer'], axis=1)\n",
    "age_gby.to_csv(\"ageWiseinsights.csv\", sep=\",\")"
   ]
  },
  {
   "cell_type": "code",
   "execution_count": 14,
   "metadata": {},
   "outputs": [
    {
     "data": {
      "image/png": "[encoded data removed]",
      "text/plain": [
       "<Figure size 1440x720 with 1 Axes>"
      ]
     },
     "metadata": {},
     "output_type": "display_data"
    }
   ],
   "source": [
    "age_gby.plot.bar(figsize=(20, 10), width=1.0)\n",
    "plt.show()"
   ]
  },
  {
   "cell_type": "code",
   "execution_count": 15,
   "metadata": {},
   "outputs": [
    {
     "data": {
      "text/plain": [
       "Index(['customer_id', 'age_bucket', 'is_returning_customer', '', 'Classic',\n",
       "       'Self-Help', 'Biography', 'Thriller', 'Beach-Read', 'Pop-Sci', 'Sci-Fi',\n",
       "       'Romance', 'History', 'Drama', 'Pop-Psychology'],\n",
       "      dtype='object')"
      ]
     },
     "execution_count": 15,
     "metadata": {},
     "output_type": "execute_result"
    }
   ],
   "source": [
    "concat_customerfeature.columns"
   ]
  },
  {
   "cell_type": "markdown",
   "metadata": {},
   "source": [
    "from the above observation w.k.t age bucket between 46-55 read of lot of books."
   ]
  },
  {
   "cell_type": "code",
   "execution_count": 16,
   "metadata": {},
   "outputs": [
    {
     "data": {
      "text/html": [
       "<div>\n",
       "<style scoped>\n",
       "    .dataframe tbody tr th:only-of-type {\n",
       "        vertical-align: middle;\n",
       "    }\n",
       "\n",
       "    .dataframe tbody tr th {\n",
       "        vertical-align: top;\n",
       "    }\n",
       "\n",
       "    .dataframe thead th {\n",
       "        text-align: right;\n",
       "    }\n",
       "</style>\n",
       "<table border=\"1\" class=\"dataframe\">\n",
       "  <thead>\n",
       "    <tr style=\"text-align: right;\">\n",
       "      <th></th>\n",
       "      <th>customer_id</th>\n",
       "      <th>age_bucket</th>\n",
       "      <th>is_returning_customer</th>\n",
       "      <th>notKnown</th>\n",
       "      <th>Biography</th>\n",
       "      <th>Self-Help</th>\n",
       "      <th>History</th>\n",
       "      <th>Beach-Read</th>\n",
       "      <th>Sci-Fi</th>\n",
       "      <th>Drama</th>\n",
       "      <th>Thriller</th>\n",
       "      <th>Pop-Psychology</th>\n",
       "      <th>Classic</th>\n",
       "      <th>Romance</th>\n",
       "      <th>Pop-Sci</th>\n",
       "    </tr>\n",
       "  </thead>\n",
       "  <tbody>\n",
       "    <tr>\n",
       "      <th>0</th>\n",
       "      <td>1000078</td>\n",
       "      <td>46-55</td>\n",
       "      <td>True</td>\n",
       "      <td>0</td>\n",
       "      <td>1</td>\n",
       "      <td>1</td>\n",
       "      <td>0</td>\n",
       "      <td>1</td>\n",
       "      <td>1</td>\n",
       "      <td>1</td>\n",
       "      <td>1</td>\n",
       "      <td>1</td>\n",
       "      <td>1</td>\n",
       "      <td>0</td>\n",
       "      <td>1</td>\n",
       "    </tr>\n",
       "    <tr>\n",
       "      <th>1</th>\n",
       "      <td>1000102</td>\n",
       "      <td>46-55</td>\n",
       "      <td>True</td>\n",
       "      <td>0</td>\n",
       "      <td>0</td>\n",
       "      <td>1</td>\n",
       "      <td>1</td>\n",
       "      <td>0</td>\n",
       "      <td>1</td>\n",
       "      <td>1</td>\n",
       "      <td>1</td>\n",
       "      <td>0</td>\n",
       "      <td>0</td>\n",
       "      <td>1</td>\n",
       "      <td>1</td>\n",
       "    </tr>\n",
       "    <tr>\n",
       "      <th>2</th>\n",
       "      <td>1000185</td>\n",
       "      <td>46-55</td>\n",
       "      <td>True</td>\n",
       "      <td>0</td>\n",
       "      <td>0</td>\n",
       "      <td>1</td>\n",
       "      <td>0</td>\n",
       "      <td>0</td>\n",
       "      <td>1</td>\n",
       "      <td>0</td>\n",
       "      <td>0</td>\n",
       "      <td>1</td>\n",
       "      <td>0</td>\n",
       "      <td>0</td>\n",
       "      <td>1</td>\n",
       "    </tr>\n",
       "    <tr>\n",
       "      <th>3</th>\n",
       "      <td>1000423</td>\n",
       "      <td>26-35</td>\n",
       "      <td>True</td>\n",
       "      <td>0</td>\n",
       "      <td>1</td>\n",
       "      <td>0</td>\n",
       "      <td>0</td>\n",
       "      <td>0</td>\n",
       "      <td>0</td>\n",
       "      <td>0</td>\n",
       "      <td>0</td>\n",
       "      <td>0</td>\n",
       "      <td>0</td>\n",
       "      <td>1</td>\n",
       "      <td>0</td>\n",
       "    </tr>\n",
       "    <tr>\n",
       "      <th>4</th>\n",
       "      <td>1000696</td>\n",
       "      <td>66+</td>\n",
       "      <td>True</td>\n",
       "      <td>0</td>\n",
       "      <td>0</td>\n",
       "      <td>0</td>\n",
       "      <td>1</td>\n",
       "      <td>1</td>\n",
       "      <td>1</td>\n",
       "      <td>0</td>\n",
       "      <td>1</td>\n",
       "      <td>1</td>\n",
       "      <td>1</td>\n",
       "      <td>1</td>\n",
       "      <td>0</td>\n",
       "    </tr>\n",
       "  </tbody>\n",
       "</table>\n",
       "</div>"
      ],
      "text/plain": [
       "   customer_id age_bucket  is_returning_customer  notKnown  Biography  \\\n",
       "0      1000078      46-55                   True         0          1   \n",
       "1      1000102      46-55                   True         0          0   \n",
       "2      1000185      46-55                   True         0          0   \n",
       "3      1000423      26-35                   True         0          1   \n",
       "4      1000696        66+                   True         0          0   \n",
       "\n",
       "   Self-Help  History  Beach-Read  Sci-Fi  Drama  Thriller  Pop-Psychology  \\\n",
       "0          1        0           1       1      1         1               1   \n",
       "1          1        1           0       1      1         1               0   \n",
       "2          1        0           0       1      0         0               1   \n",
       "3          0        0           0       0      0         0               0   \n",
       "4          0        1           1       1      0         1               1   \n",
       "\n",
       "   Classic  Romance  Pop-Sci  \n",
       "0        1        0        1  \n",
       "1        0        1        1  \n",
       "2        0        0        1  \n",
       "3        0        1        0  \n",
       "4        1        1        0  "
      ]
     },
     "execution_count": 16,
     "metadata": {},
     "output_type": "execute_result"
    }
   ],
   "source": [
    "concat_customerfeature.columns = ['customer_id', 'age_bucket', 'is_returning_customer', 'notKnown', 'Biography',\n",
    "       'Self-Help', 'History', 'Beach-Read', 'Sci-Fi', 'Drama', 'Thriller',\n",
    "       'Pop-Psychology', 'Classic', 'Romance', 'Pop-Sci']\n",
    "\n",
    "concat_customerfeature.head()"
   ]
  },
  {
   "cell_type": "markdown",
   "metadata": {},
   "source": [
    "#### check in last_month_assortment what type of books sold  ####"
   ]
  },
  {
   "cell_type": "code",
   "execution_count": 17,
   "metadata": {},
   "outputs": [],
   "source": [
    "prdfeat_copy = product_features.copy() #copy dataframe for product features\n",
    "prdfeat_copy = prdfeat_copy.set_index('product_id')\n",
    "\n",
    "from collections import defaultdict \n",
    "\n",
    "prdfeatures_dict = defaultdict(int)\n",
    "\n",
    "for k, v in zip(prdfeat_copy.index.tolist(),  prdfeat_copy.to_dict(orient='records')):\n",
    "    prdfeatures_dict[k] = v"
   ]
  },
  {
   "cell_type": "code",
   "execution_count": 18,
   "metadata": {},
   "outputs": [],
   "source": [
    "lsma_copy = last_month_assort.copy() #copy of last month assort\n",
    "lsma_copy['fiction'] = lsma_copy.apply(lambda row: prdfeatures_dict[row['product_id']]['fiction'], axis=1)\n",
    "lsma_copy['genre'] = lsma_copy.apply(lambda row: prdfeatures_dict[row['product_id']]['genre'], axis=1)"
   ]
  },
  {
   "cell_type": "code",
   "execution_count": 19,
   "metadata": {},
   "outputs": [
    {
     "data": {
      "text/html": [
       "<div>\n",
       "<style scoped>\n",
       "    .dataframe tbody tr th:only-of-type {\n",
       "        vertical-align: middle;\n",
       "    }\n",
       "\n",
       "    .dataframe tbody tr th {\n",
       "        vertical-align: top;\n",
       "    }\n",
       "\n",
       "    .dataframe thead tr th {\n",
       "        text-align: left;\n",
       "    }\n",
       "\n",
       "    .dataframe thead tr:last-of-type th {\n",
       "        text-align: right;\n",
       "    }\n",
       "</style>\n",
       "<table border=\"1\" class=\"dataframe\">\n",
       "  <thead>\n",
       "    <tr>\n",
       "      <th></th>\n",
       "      <th></th>\n",
       "      <th>customer_id</th>\n",
       "      <th>product_id</th>\n",
       "      <th>genre</th>\n",
       "    </tr>\n",
       "    <tr>\n",
       "      <th></th>\n",
       "      <th></th>\n",
       "      <th>count</th>\n",
       "      <th>count</th>\n",
       "      <th>count</th>\n",
       "    </tr>\n",
       "    <tr>\n",
       "      <th>purchased</th>\n",
       "      <th>fiction</th>\n",
       "      <th></th>\n",
       "      <th></th>\n",
       "      <th></th>\n",
       "    </tr>\n",
       "  </thead>\n",
       "  <tbody>\n",
       "    <tr>\n",
       "      <th rowspan=\"2\" valign=\"top\">False</th>\n",
       "      <th>False</th>\n",
       "      <td>9139</td>\n",
       "      <td>9139</td>\n",
       "      <td>9139</td>\n",
       "    </tr>\n",
       "    <tr>\n",
       "      <th>True</th>\n",
       "      <td>14182</td>\n",
       "      <td>14182</td>\n",
       "      <td>14182</td>\n",
       "    </tr>\n",
       "    <tr>\n",
       "      <th rowspan=\"2\" valign=\"top\">True</th>\n",
       "      <th>False</th>\n",
       "      <td>3442</td>\n",
       "      <td>3442</td>\n",
       "      <td>3442</td>\n",
       "    </tr>\n",
       "    <tr>\n",
       "      <th>True</th>\n",
       "      <td>9237</td>\n",
       "      <td>9237</td>\n",
       "      <td>9237</td>\n",
       "    </tr>\n",
       "  </tbody>\n",
       "</table>\n",
       "</div>"
      ],
      "text/plain": [
       "                  customer_id product_id  genre\n",
       "                        count      count  count\n",
       "purchased fiction                              \n",
       "False     False          9139       9139   9139\n",
       "          True          14182      14182  14182\n",
       "True      False          3442       3442   3442\n",
       "          True           9237       9237   9237"
      ]
     },
     "execution_count": 19,
     "metadata": {},
     "output_type": "execute_result"
    }
   ],
   "source": [
    "lsma_copy.groupby(['purchased', 'fiction']).agg(['count'])"
   ]
  },
  {
   "cell_type": "code",
   "execution_count": 20,
   "metadata": {},
   "outputs": [
    {
     "data": {
      "text/html": [
       "<div>\n",
       "<style scoped>\n",
       "    .dataframe tbody tr th:only-of-type {\n",
       "        vertical-align: middle;\n",
       "    }\n",
       "\n",
       "    .dataframe tbody tr th {\n",
       "        vertical-align: top;\n",
       "    }\n",
       "\n",
       "    .dataframe thead th {\n",
       "        text-align: right;\n",
       "    }\n",
       "</style>\n",
       "<table border=\"1\" class=\"dataframe\">\n",
       "  <thead>\n",
       "    <tr style=\"text-align: right;\">\n",
       "      <th></th>\n",
       "      <th>customer_id</th>\n",
       "      <th>product_id</th>\n",
       "      <th>purchased</th>\n",
       "      <th>fiction</th>\n",
       "      <th>genre</th>\n",
       "    </tr>\n",
       "  </thead>\n",
       "  <tbody>\n",
       "    <tr>\n",
       "      <th>0</th>\n",
       "      <td>1000078</td>\n",
       "      <td>1730073</td>\n",
       "      <td>False</td>\n",
       "      <td>True</td>\n",
       "      <td>Drama</td>\n",
       "    </tr>\n",
       "    <tr>\n",
       "      <th>1</th>\n",
       "      <td>1000078</td>\n",
       "      <td>1470520</td>\n",
       "      <td>False</td>\n",
       "      <td>True</td>\n",
       "      <td>Romance</td>\n",
       "    </tr>\n",
       "    <tr>\n",
       "      <th>2</th>\n",
       "      <td>1000078</td>\n",
       "      <td>1861356</td>\n",
       "      <td>False</td>\n",
       "      <td>True</td>\n",
       "      <td>Thriller</td>\n",
       "    </tr>\n",
       "    <tr>\n",
       "      <th>3</th>\n",
       "      <td>1000078</td>\n",
       "      <td>1240824</td>\n",
       "      <td>True</td>\n",
       "      <td>True</td>\n",
       "      <td>Classic</td>\n",
       "    </tr>\n",
       "    <tr>\n",
       "      <th>4</th>\n",
       "      <td>1000078</td>\n",
       "      <td>1155460</td>\n",
       "      <td>False</td>\n",
       "      <td>True</td>\n",
       "      <td>Thriller</td>\n",
       "    </tr>\n",
       "  </tbody>\n",
       "</table>\n",
       "</div>"
      ],
      "text/plain": [
       "   customer_id  product_id  purchased  fiction     genre\n",
       "0      1000078     1730073      False     True     Drama\n",
       "1      1000078     1470520      False     True   Romance\n",
       "2      1000078     1861356      False     True  Thriller\n",
       "3      1000078     1240824       True     True   Classic\n",
       "4      1000078     1155460      False     True  Thriller"
      ]
     },
     "execution_count": 20,
     "metadata": {},
     "output_type": "execute_result"
    }
   ],
   "source": [
    "lsma_copy.head()"
   ]
  },
  {
   "cell_type": "code",
   "execution_count": 21,
   "metadata": {},
   "outputs": [
    {
     "data": {
      "text/html": [
       "<div>\n",
       "<style scoped>\n",
       "    .dataframe tbody tr th:only-of-type {\n",
       "        vertical-align: middle;\n",
       "    }\n",
       "\n",
       "    .dataframe tbody tr th {\n",
       "        vertical-align: top;\n",
       "    }\n",
       "\n",
       "    .dataframe thead th {\n",
       "        text-align: right;\n",
       "    }\n",
       "</style>\n",
       "<table border=\"1\" class=\"dataframe\">\n",
       "  <thead>\n",
       "    <tr style=\"text-align: right;\">\n",
       "      <th></th>\n",
       "      <th>customer_id</th>\n",
       "      <th>age_bucket</th>\n",
       "      <th>is_returning_customer</th>\n",
       "      <th>notKnown</th>\n",
       "      <th>Biography</th>\n",
       "      <th>Self-Help</th>\n",
       "      <th>History</th>\n",
       "      <th>Beach-Read</th>\n",
       "      <th>Sci-Fi</th>\n",
       "      <th>Drama</th>\n",
       "      <th>Thriller</th>\n",
       "      <th>Pop-Psychology</th>\n",
       "      <th>Classic</th>\n",
       "      <th>Romance</th>\n",
       "      <th>Pop-Sci</th>\n",
       "    </tr>\n",
       "  </thead>\n",
       "  <tbody>\n",
       "    <tr>\n",
       "      <th>0</th>\n",
       "      <td>1000078</td>\n",
       "      <td>46-55</td>\n",
       "      <td>True</td>\n",
       "      <td>0</td>\n",
       "      <td>1</td>\n",
       "      <td>1</td>\n",
       "      <td>0</td>\n",
       "      <td>1</td>\n",
       "      <td>1</td>\n",
       "      <td>1</td>\n",
       "      <td>1</td>\n",
       "      <td>1</td>\n",
       "      <td>1</td>\n",
       "      <td>0</td>\n",
       "      <td>1</td>\n",
       "    </tr>\n",
       "  </tbody>\n",
       "</table>\n",
       "</div>"
      ],
      "text/plain": [
       "   customer_id age_bucket  is_returning_customer  notKnown  Biography  \\\n",
       "0      1000078      46-55                   True         0          1   \n",
       "\n",
       "   Self-Help  History  Beach-Read  Sci-Fi  Drama  Thriller  Pop-Psychology  \\\n",
       "0          1        0           1       1      1         1               1   \n",
       "\n",
       "   Classic  Romance  Pop-Sci  \n",
       "0        1        0        1  "
      ]
     },
     "execution_count": 21,
     "metadata": {},
     "output_type": "execute_result"
    }
   ],
   "source": [
    "concat_customerfeature[concat_customerfeature['customer_id'] == 1000078]"
   ]
  },
  {
   "cell_type": "markdown",
   "metadata": {},
   "source": [
    "####  left join lsma_copy and feature intrest ####"
   ]
  },
  {
   "cell_type": "code",
   "execution_count": 22,
   "metadata": {},
   "outputs": [
    {
     "data": {
      "text/plain": [
       "(36000, 19)"
      ]
     },
     "execution_count": 22,
     "metadata": {},
     "output_type": "execute_result"
    }
   ],
   "source": [
    "#left dataframe = lsma_copy\n",
    "#right dataframe = concat_customerfeature\n",
    "left_join = pd.merge(lsma_copy, concat_customerfeature, on='customer_id', how='left')\n",
    "left_join.shape"
   ]
  },
  {
   "cell_type": "code",
   "execution_count": 23,
   "metadata": {},
   "outputs": [],
   "source": [
    "#get the book price from the product_features.csv files\n",
    "nrows = left_join.shape[0]\n",
    "retail_price = []\n",
    "\n",
    "for i in range(nrows):\n",
    "    #get the data\n",
    "    subsetdf = left_join.iloc[i]['product_id']\n",
    "    #locate the retail price in orgpo_copy data\n",
    "    rp = orgpo_copy[orgpo_copy['product_id'] == subsetdf]['retail_value'].values[0]\n",
    "    retail_price.append(rp)"
   ]
  },
  {
   "cell_type": "code",
   "execution_count": 24,
   "metadata": {},
   "outputs": [],
   "source": [
    "left_join['retailPrice'] = retail_price #set the column in the dataframe"
   ]
  },
  {
   "cell_type": "markdown",
   "metadata": {},
   "source": [
    "#### check if we have all customer interest data in the customer_features.csv file ####"
   ]
  },
  {
   "cell_type": "code",
   "execution_count": 25,
   "metadata": {},
   "outputs": [],
   "source": [
    "nextmonth_customer = next_month_assort.customer_id.unique().tolist()\n",
    "customer_lookup = customer_feature.customer_id.unique().tolist()"
   ]
  },
  {
   "cell_type": "code",
   "execution_count": 26,
   "metadata": {},
   "outputs": [
    {
     "data": {
      "text/plain": [
       "[]"
      ]
     },
     "execution_count": 26,
     "metadata": {},
     "output_type": "execute_result"
    }
   ],
   "source": [
    "[x for x in nextmonth_customer if x not in customer_lookup]"
   ]
  },
  {
   "cell_type": "markdown",
   "metadata": {},
   "source": [
    "So, in the test data we have all customer id which is also present in the customer feature lookup data"
   ]
  },
  {
   "cell_type": "markdown",
   "metadata": {},
   "source": [
    "#### sample modeling  ####\n",
    "\n",
    "try the models with the data we have!"
   ]
  },
  {
   "cell_type": "code",
   "execution_count": 27,
   "metadata": {},
   "outputs": [],
   "source": [
    "#convert categorical variable to label encoding\n",
    "def label_encoding(asSeries):\n",
    "    encoding = []\n",
    "    #get unique values\n",
    "    uniqueList = sorted(asSeries.unique().tolist())\n",
    "    #iterate through the asSeries\n",
    "    for ser in asSeries:\n",
    "        #get index of that value in uniqueList\n",
    "        index = uniqueList.index(ser)\n",
    "        encoding.append(index)\n",
    "        \n",
    "    return encoding\n",
    "\n",
    "target_label = label_encoding(left_join['purchased'])\n",
    "fiction_label = label_encoding(left_join['fiction'])\n",
    "isReturning_label = label_encoding(left_join['is_returning_customer'])\n",
    "genre_label = label_encoding(left_join['genre'])"
   ]
  },
  {
   "cell_type": "code",
   "execution_count": 28,
   "metadata": {},
   "outputs": [],
   "source": [
    "left_join['age_bucket'] = left_join['age_bucket'].fillna('')\n",
    "age_label = label_encoding(left_join['age_bucket'])"
   ]
  },
  {
   "cell_type": "code",
   "execution_count": 29,
   "metadata": {},
   "outputs": [],
   "source": [
    "#split the dataset\n",
    "input_features = ['Biography','Self-Help','History','Beach-Read',\n",
    " 'Sci-Fi','Drama','Thriller','Pop-Psychology','Classic','notKnown',\n",
    " 'Romance','Pop-Sci', 'retailPrice', 'fiction_label', 'isReturning_label',\n",
    " 'genre_label', 'age_label']\n",
    "\n",
    "target = 'target_label'\n",
    "\n",
    "#add all those column in the dataset\n",
    "left_join['fiction_label'] = fiction_label\n",
    "left_join['target_label'] = target_label\n",
    "left_join['isReturning_label'] = isReturning_label\n",
    "left_join['age_label'] = age_label\n",
    "left_join['genre_label'] = genre_label\n",
    "\n",
    "#split input and output\n",
    "X, y = left_join[input_features], left_join[target]"
   ]
  },
  {
   "cell_type": "code",
   "execution_count": 30,
   "metadata": {},
   "outputs": [
    {
     "data": {
      "text/plain": [
       "0    23321\n",
       "1    12679\n",
       "Name: target_label, dtype: int64"
      ]
     },
     "execution_count": 30,
     "metadata": {},
     "output_type": "execute_result"
    }
   ],
   "source": [
    "y.value_counts()"
   ]
  },
  {
   "cell_type": "code",
   "execution_count": 31,
   "metadata": {},
   "outputs": [
    {
     "name": "stdout",
     "output_type": "stream",
     "text": [
      "(32400, 17) (32400,) (3600, 17) (3600,)\n"
     ]
    }
   ],
   "source": [
    "#split the dataset into train and validate\n",
    "from sklearn.model_selection import train_test_split\n",
    "\n",
    "X_train, evalX, y_train, evalY = train_test_split(\n",
    "    X, y, test_size = 0.1,\n",
    "    random_state=12)\n",
    "\n",
    "print(X_train.shape, y_train.shape, evalX.shape, evalY.shape)"
   ]
  },
  {
   "cell_type": "markdown",
   "metadata": {},
   "source": [
    "### xgb classifier ###"
   ]
  },
  {
   "cell_type": "code",
   "execution_count": 66,
   "metadata": {
    "scrolled": false
   },
   "outputs": [
    {
     "name": "stdout",
     "output_type": "stream",
     "text": [
      "[0]\tvalidation_0-auc:0.63768\n",
      "Will train until validation_0-auc hasn't improved in 100 rounds.\n",
      "[1]\tvalidation_0-auc:0.64172\n",
      "[2]\tvalidation_0-auc:0.647345\n",
      "[3]\tvalidation_0-auc:0.655797\n"
     ]
    },
    {
     "name": "stderr",
     "output_type": "stream",
     "text": [
      "c:\\users\\madhivarman\\appdata\\local\\programs\\python\\python35\\lib\\site-packages\\ipykernel_launcher.py:32: FutureWarning: Method .as_matrix will be removed in a future version. Use .values instead.\n"
     ]
    },
    {
     "name": "stdout",
     "output_type": "stream",
     "text": [
      "[4]\tvalidation_0-auc:0.656312\n",
      "[5]\tvalidation_0-auc:0.659954\n",
      "[6]\tvalidation_0-auc:0.663041\n",
      "[7]\tvalidation_0-auc:0.662822\n",
      "[8]\tvalidation_0-auc:0.664986\n",
      "[9]\tvalidation_0-auc:0.666627\n",
      "[10]\tvalidation_0-auc:0.666843\n",
      "[11]\tvalidation_0-auc:0.668568\n",
      "[12]\tvalidation_0-auc:0.669453\n",
      "[13]\tvalidation_0-auc:0.669618\n",
      "[14]\tvalidation_0-auc:0.67105\n",
      "[15]\tvalidation_0-auc:0.673397\n",
      "[16]\tvalidation_0-auc:0.675937\n",
      "[17]\tvalidation_0-auc:0.677639\n",
      "[18]\tvalidation_0-auc:0.678775\n",
      "[19]\tvalidation_0-auc:0.679598\n",
      "[20]\tvalidation_0-auc:0.679872\n",
      "[21]\tvalidation_0-auc:0.680801\n",
      "[22]\tvalidation_0-auc:0.682962\n",
      "[23]\tvalidation_0-auc:0.682711\n",
      "[24]\tvalidation_0-auc:0.687957\n",
      "[25]\tvalidation_0-auc:0.688703\n",
      "[26]\tvalidation_0-auc:0.689139\n",
      "[27]\tvalidation_0-auc:0.69081\n",
      "[28]\tvalidation_0-auc:0.692843\n",
      "[29]\tvalidation_0-auc:0.693163\n",
      "[30]\tvalidation_0-auc:0.693343\n",
      "[31]\tvalidation_0-auc:0.694162\n",
      "[32]\tvalidation_0-auc:0.69719\n",
      "[33]\tvalidation_0-auc:0.700185\n",
      "[34]\tvalidation_0-auc:0.700281\n",
      "[35]\tvalidation_0-auc:0.702316\n",
      "[36]\tvalidation_0-auc:0.703324\n",
      "[37]\tvalidation_0-auc:0.703952\n",
      "[38]\tvalidation_0-auc:0.704211\n",
      "[39]\tvalidation_0-auc:0.704164\n",
      "[40]\tvalidation_0-auc:0.705871\n",
      "[41]\tvalidation_0-auc:0.709281\n",
      "[42]\tvalidation_0-auc:0.709407\n",
      "[43]\tvalidation_0-auc:0.709153\n",
      "[44]\tvalidation_0-auc:0.709718\n",
      "[45]\tvalidation_0-auc:0.710258\n",
      "[46]\tvalidation_0-auc:0.710451\n",
      "[47]\tvalidation_0-auc:0.712075\n",
      "[48]\tvalidation_0-auc:0.712036\n",
      "[49]\tvalidation_0-auc:0.711934\n",
      "[50]\tvalidation_0-auc:0.713722\n",
      "[51]\tvalidation_0-auc:0.713836\n",
      "[52]\tvalidation_0-auc:0.714128\n",
      "[53]\tvalidation_0-auc:0.715182\n",
      "[54]\tvalidation_0-auc:0.7156\n",
      "[55]\tvalidation_0-auc:0.715711\n",
      "[56]\tvalidation_0-auc:0.715734\n",
      "[57]\tvalidation_0-auc:0.716005\n",
      "[58]\tvalidation_0-auc:0.716076\n",
      "[59]\tvalidation_0-auc:0.717794\n",
      "[60]\tvalidation_0-auc:0.719001\n",
      "[61]\tvalidation_0-auc:0.719142\n",
      "[62]\tvalidation_0-auc:0.721242\n",
      "[63]\tvalidation_0-auc:0.722375\n",
      "[64]\tvalidation_0-auc:0.722163\n",
      "[65]\tvalidation_0-auc:0.723231\n",
      "[66]\tvalidation_0-auc:0.723387\n",
      "[67]\tvalidation_0-auc:0.723454\n",
      "[68]\tvalidation_0-auc:0.723624\n",
      "[69]\tvalidation_0-auc:0.725504\n",
      "[70]\tvalidation_0-auc:0.727727\n",
      "[71]\tvalidation_0-auc:0.727495\n",
      "[72]\tvalidation_0-auc:0.727455\n",
      "[73]\tvalidation_0-auc:0.730735\n",
      "[74]\tvalidation_0-auc:0.731217\n",
      "[75]\tvalidation_0-auc:0.735631\n",
      "[76]\tvalidation_0-auc:0.735611\n",
      "[77]\tvalidation_0-auc:0.735046\n",
      "[78]\tvalidation_0-auc:0.736077\n",
      "[79]\tvalidation_0-auc:0.736917\n",
      "[80]\tvalidation_0-auc:0.737646\n",
      "[81]\tvalidation_0-auc:0.740163\n",
      "[82]\tvalidation_0-auc:0.741915\n",
      "[83]\tvalidation_0-auc:0.741974\n",
      "[84]\tvalidation_0-auc:0.742206\n",
      "[85]\tvalidation_0-auc:0.742086\n",
      "[86]\tvalidation_0-auc:0.744248\n",
      "[87]\tvalidation_0-auc:0.744118\n",
      "[88]\tvalidation_0-auc:0.744496\n",
      "[89]\tvalidation_0-auc:0.744409\n",
      "[90]\tvalidation_0-auc:0.74606\n",
      "[91]\tvalidation_0-auc:0.746239\n",
      "[92]\tvalidation_0-auc:0.746037\n",
      "[93]\tvalidation_0-auc:0.746404\n",
      "[94]\tvalidation_0-auc:0.747563\n",
      "[95]\tvalidation_0-auc:0.74755\n",
      "[96]\tvalidation_0-auc:0.748983\n",
      "[97]\tvalidation_0-auc:0.749407\n",
      "[98]\tvalidation_0-auc:0.749225\n",
      "[99]\tvalidation_0-auc:0.749186\n",
      "[100]\tvalidation_0-auc:0.75002\n",
      "[101]\tvalidation_0-auc:0.750262\n",
      "[102]\tvalidation_0-auc:0.7506\n",
      "[103]\tvalidation_0-auc:0.751913\n",
      "[104]\tvalidation_0-auc:0.751896\n",
      "[105]\tvalidation_0-auc:0.751967\n",
      "[106]\tvalidation_0-auc:0.752974\n",
      "[107]\tvalidation_0-auc:0.753481\n",
      "[108]\tvalidation_0-auc:0.753505\n",
      "[109]\tvalidation_0-auc:0.753441\n",
      "[110]\tvalidation_0-auc:0.753992\n",
      "[111]\tvalidation_0-auc:0.754305\n",
      "[112]\tvalidation_0-auc:0.754675\n",
      "[113]\tvalidation_0-auc:0.755028\n",
      "[114]\tvalidation_0-auc:0.755982\n",
      "[115]\tvalidation_0-auc:0.756227\n",
      "[116]\tvalidation_0-auc:0.756929\n",
      "[117]\tvalidation_0-auc:0.757006\n",
      "[118]\tvalidation_0-auc:0.757033\n",
      "[119]\tvalidation_0-auc:0.756743\n",
      "[120]\tvalidation_0-auc:0.757303\n",
      "[121]\tvalidation_0-auc:0.758044\n",
      "[122]\tvalidation_0-auc:0.758532\n",
      "[123]\tvalidation_0-auc:0.758853\n",
      "[124]\tvalidation_0-auc:0.758941\n",
      "[125]\tvalidation_0-auc:0.759095\n",
      "[126]\tvalidation_0-auc:0.759377\n",
      "[127]\tvalidation_0-auc:0.759323\n",
      "[128]\tvalidation_0-auc:0.759979\n",
      "[129]\tvalidation_0-auc:0.760638\n",
      "[130]\tvalidation_0-auc:0.761651\n",
      "[131]\tvalidation_0-auc:0.76233\n",
      "[132]\tvalidation_0-auc:0.762524\n",
      "[133]\tvalidation_0-auc:0.76253\n",
      "[134]\tvalidation_0-auc:0.762579\n",
      "[135]\tvalidation_0-auc:0.763177\n",
      "[136]\tvalidation_0-auc:0.763339\n",
      "[137]\tvalidation_0-auc:0.763647\n",
      "[138]\tvalidation_0-auc:0.763631\n",
      "[139]\tvalidation_0-auc:0.763744\n",
      "[140]\tvalidation_0-auc:0.764122\n",
      "[141]\tvalidation_0-auc:0.764906\n",
      "[142]\tvalidation_0-auc:0.764947\n",
      "[143]\tvalidation_0-auc:0.765026\n",
      "[144]\tvalidation_0-auc:0.765093\n",
      "[145]\tvalidation_0-auc:0.765255\n",
      "[146]\tvalidation_0-auc:0.765698\n",
      "[147]\tvalidation_0-auc:0.765777\n",
      "[148]\tvalidation_0-auc:0.766412\n",
      "[149]\tvalidation_0-auc:0.766881\n",
      "[150]\tvalidation_0-auc:0.766927\n",
      "[151]\tvalidation_0-auc:0.767846\n",
      "[152]\tvalidation_0-auc:0.768141\n",
      "[153]\tvalidation_0-auc:0.768076\n",
      "[154]\tvalidation_0-auc:0.768346\n",
      "[155]\tvalidation_0-auc:0.768192\n",
      "[156]\tvalidation_0-auc:0.768153\n",
      "[157]\tvalidation_0-auc:0.768174\n",
      "[158]\tvalidation_0-auc:0.768127\n",
      "[159]\tvalidation_0-auc:0.768546\n",
      "[160]\tvalidation_0-auc:0.768526\n",
      "[161]\tvalidation_0-auc:0.768732\n",
      "[162]\tvalidation_0-auc:0.76863\n",
      "[163]\tvalidation_0-auc:0.769045\n",
      "[164]\tvalidation_0-auc:0.769216\n",
      "[165]\tvalidation_0-auc:0.769666\n",
      "[166]\tvalidation_0-auc:0.769547\n",
      "[167]\tvalidation_0-auc:0.769222\n",
      "[168]\tvalidation_0-auc:0.768862\n",
      "[169]\tvalidation_0-auc:0.769204\n",
      "[170]\tvalidation_0-auc:0.769219\n",
      "[171]\tvalidation_0-auc:0.769601\n",
      "[172]\tvalidation_0-auc:0.769427\n",
      "[173]\tvalidation_0-auc:0.7691\n",
      "[174]\tvalidation_0-auc:0.769107\n",
      "[175]\tvalidation_0-auc:0.769065\n",
      "[176]\tvalidation_0-auc:0.769166\n",
      "[177]\tvalidation_0-auc:0.769511\n",
      "[178]\tvalidation_0-auc:0.769553\n",
      "[179]\tvalidation_0-auc:0.769877\n",
      "[180]\tvalidation_0-auc:0.770089\n",
      "[181]\tvalidation_0-auc:0.77027\n",
      "[182]\tvalidation_0-auc:0.770069\n",
      "[183]\tvalidation_0-auc:0.770417\n",
      "[184]\tvalidation_0-auc:0.770336\n",
      "[185]\tvalidation_0-auc:0.77037\n",
      "[186]\tvalidation_0-auc:0.770504\n",
      "[187]\tvalidation_0-auc:0.770476\n",
      "[188]\tvalidation_0-auc:0.770613\n",
      "[189]\tvalidation_0-auc:0.770783\n",
      "[190]\tvalidation_0-auc:0.771388\n",
      "[191]\tvalidation_0-auc:0.771283\n",
      "[192]\tvalidation_0-auc:0.771535\n",
      "[193]\tvalidation_0-auc:0.771664\n",
      "[194]\tvalidation_0-auc:0.771529\n",
      "[195]\tvalidation_0-auc:0.771474\n",
      "[196]\tvalidation_0-auc:0.771505\n",
      "[197]\tvalidation_0-auc:0.77148\n",
      "[198]\tvalidation_0-auc:0.771511\n",
      "[199]\tvalidation_0-auc:0.771119\n",
      "[200]\tvalidation_0-auc:0.771136\n",
      "[201]\tvalidation_0-auc:0.771262\n",
      "[202]\tvalidation_0-auc:0.77123\n",
      "[203]\tvalidation_0-auc:0.770952\n",
      "[204]\tvalidation_0-auc:0.770993\n",
      "[205]\tvalidation_0-auc:0.770739\n",
      "[206]\tvalidation_0-auc:0.770768\n",
      "[207]\tvalidation_0-auc:0.770893\n",
      "[208]\tvalidation_0-auc:0.771019\n",
      "[209]\tvalidation_0-auc:0.770841\n",
      "[210]\tvalidation_0-auc:0.770507\n",
      "[211]\tvalidation_0-auc:0.770588\n",
      "[212]\tvalidation_0-auc:0.770487\n",
      "[213]\tvalidation_0-auc:0.770454\n",
      "[214]\tvalidation_0-auc:0.770762\n",
      "[215]\tvalidation_0-auc:0.771211\n",
      "[216]\tvalidation_0-auc:0.771777\n",
      "[217]\tvalidation_0-auc:0.771885\n",
      "[218]\tvalidation_0-auc:0.771907\n",
      "[219]\tvalidation_0-auc:0.771738\n",
      "[220]\tvalidation_0-auc:0.772061\n",
      "[221]\tvalidation_0-auc:0.77206\n",
      "[222]\tvalidation_0-auc:0.772009\n",
      "[223]\tvalidation_0-auc:0.77194\n",
      "[224]\tvalidation_0-auc:0.771871\n",
      "[225]\tvalidation_0-auc:0.772188\n",
      "[226]\tvalidation_0-auc:0.772316\n",
      "[227]\tvalidation_0-auc:0.772396\n",
      "[228]\tvalidation_0-auc:0.772238\n",
      "[229]\tvalidation_0-auc:0.772249\n",
      "[230]\tvalidation_0-auc:0.772324\n",
      "[231]\tvalidation_0-auc:0.772529\n",
      "[232]\tvalidation_0-auc:0.772059\n",
      "[233]\tvalidation_0-auc:0.772914\n",
      "[234]\tvalidation_0-auc:0.77301\n",
      "[235]\tvalidation_0-auc:0.773053\n",
      "[236]\tvalidation_0-auc:0.773061\n",
      "[237]\tvalidation_0-auc:0.773238\n",
      "[238]\tvalidation_0-auc:0.773607\n",
      "[239]\tvalidation_0-auc:0.773488\n",
      "[240]\tvalidation_0-auc:0.773579\n",
      "[241]\tvalidation_0-auc:0.773736\n",
      "[242]\tvalidation_0-auc:0.77374\n",
      "[243]\tvalidation_0-auc:0.774082\n",
      "[244]\tvalidation_0-auc:0.774181\n",
      "[245]\tvalidation_0-auc:0.774313\n",
      "[246]\tvalidation_0-auc:0.774105\n",
      "[247]\tvalidation_0-auc:0.774099\n",
      "[248]\tvalidation_0-auc:0.774172\n",
      "[249]\tvalidation_0-auc:0.7741\n",
      "[250]\tvalidation_0-auc:0.774215\n",
      "[251]\tvalidation_0-auc:0.774583\n",
      "[252]\tvalidation_0-auc:0.774602\n",
      "[253]\tvalidation_0-auc:0.77525\n",
      "[254]\tvalidation_0-auc:0.775282\n",
      "[255]\tvalidation_0-auc:0.775783\n",
      "[256]\tvalidation_0-auc:0.775704\n",
      "[257]\tvalidation_0-auc:0.775653\n",
      "[258]\tvalidation_0-auc:0.775616\n",
      "[259]\tvalidation_0-auc:0.775871\n",
      "[260]\tvalidation_0-auc:0.775653\n",
      "[261]\tvalidation_0-auc:0.77556\n",
      "[262]\tvalidation_0-auc:0.775515\n",
      "[263]\tvalidation_0-auc:0.775639\n",
      "[264]\tvalidation_0-auc:0.775831\n"
     ]
    },
    {
     "name": "stdout",
     "output_type": "stream",
     "text": [
      "[265]\tvalidation_0-auc:0.776034\n",
      "[266]\tvalidation_0-auc:0.776095\n",
      "[267]\tvalidation_0-auc:0.775806\n",
      "[268]\tvalidation_0-auc:0.775796\n",
      "[269]\tvalidation_0-auc:0.775884\n",
      "[270]\tvalidation_0-auc:0.775955\n",
      "[271]\tvalidation_0-auc:0.776083\n",
      "[272]\tvalidation_0-auc:0.775901\n",
      "[273]\tvalidation_0-auc:0.77597\n",
      "[274]\tvalidation_0-auc:0.776248\n",
      "[275]\tvalidation_0-auc:0.776039\n",
      "[276]\tvalidation_0-auc:0.77607\n",
      "[277]\tvalidation_0-auc:0.776272\n",
      "[278]\tvalidation_0-auc:0.776215\n",
      "[279]\tvalidation_0-auc:0.776267\n",
      "[280]\tvalidation_0-auc:0.775983\n",
      "[281]\tvalidation_0-auc:0.776053\n",
      "[282]\tvalidation_0-auc:0.776307\n",
      "[283]\tvalidation_0-auc:0.776288\n",
      "[284]\tvalidation_0-auc:0.776326\n",
      "[285]\tvalidation_0-auc:0.776401\n",
      "[286]\tvalidation_0-auc:0.776794\n",
      "[287]\tvalidation_0-auc:0.776888\n",
      "[288]\tvalidation_0-auc:0.776991\n",
      "[289]\tvalidation_0-auc:0.777184\n",
      "[290]\tvalidation_0-auc:0.777247\n",
      "[291]\tvalidation_0-auc:0.777245\n",
      "[292]\tvalidation_0-auc:0.777238\n",
      "[293]\tvalidation_0-auc:0.777046\n",
      "[294]\tvalidation_0-auc:0.776968\n",
      "[295]\tvalidation_0-auc:0.777207\n",
      "[296]\tvalidation_0-auc:0.777248\n",
      "[297]\tvalidation_0-auc:0.777021\n",
      "[298]\tvalidation_0-auc:0.777191\n",
      "[299]\tvalidation_0-auc:0.777151\n",
      "[300]\tvalidation_0-auc:0.777053\n",
      "[301]\tvalidation_0-auc:0.776844\n",
      "[302]\tvalidation_0-auc:0.776824\n",
      "[303]\tvalidation_0-auc:0.777334\n",
      "[304]\tvalidation_0-auc:0.777333\n",
      "[305]\tvalidation_0-auc:0.777305\n",
      "[306]\tvalidation_0-auc:0.777372\n",
      "[307]\tvalidation_0-auc:0.777446\n",
      "[308]\tvalidation_0-auc:0.777384\n",
      "[309]\tvalidation_0-auc:0.777308\n",
      "[310]\tvalidation_0-auc:0.777251\n",
      "[311]\tvalidation_0-auc:0.777283\n",
      "[312]\tvalidation_0-auc:0.777616\n",
      "[313]\tvalidation_0-auc:0.777503\n",
      "[314]\tvalidation_0-auc:0.777296\n",
      "[315]\tvalidation_0-auc:0.776989\n",
      "[316]\tvalidation_0-auc:0.776881\n",
      "[317]\tvalidation_0-auc:0.777034\n",
      "[318]\tvalidation_0-auc:0.777118\n",
      "[319]\tvalidation_0-auc:0.777031\n",
      "[320]\tvalidation_0-auc:0.777084\n",
      "[321]\tvalidation_0-auc:0.7771\n",
      "[322]\tvalidation_0-auc:0.777052\n",
      "[323]\tvalidation_0-auc:0.777173\n",
      "[324]\tvalidation_0-auc:0.77724\n",
      "[325]\tvalidation_0-auc:0.77706\n",
      "[326]\tvalidation_0-auc:0.776905\n",
      "[327]\tvalidation_0-auc:0.776833\n",
      "[328]\tvalidation_0-auc:0.776936\n",
      "[329]\tvalidation_0-auc:0.776825\n",
      "[330]\tvalidation_0-auc:0.776918\n",
      "[331]\tvalidation_0-auc:0.776944\n",
      "[332]\tvalidation_0-auc:0.776912\n",
      "[333]\tvalidation_0-auc:0.77678\n",
      "[334]\tvalidation_0-auc:0.776842\n",
      "[335]\tvalidation_0-auc:0.776742\n",
      "[336]\tvalidation_0-auc:0.776758\n",
      "[337]\tvalidation_0-auc:0.776694\n",
      "[338]\tvalidation_0-auc:0.776797\n",
      "[339]\tvalidation_0-auc:0.776767\n",
      "[340]\tvalidation_0-auc:0.776712\n",
      "[341]\tvalidation_0-auc:0.776655\n",
      "[342]\tvalidation_0-auc:0.776525\n",
      "[343]\tvalidation_0-auc:0.776485\n",
      "[344]\tvalidation_0-auc:0.776403\n",
      "[345]\tvalidation_0-auc:0.77649\n",
      "[346]\tvalidation_0-auc:0.776491\n",
      "[347]\tvalidation_0-auc:0.776466\n",
      "[348]\tvalidation_0-auc:0.776331\n",
      "[349]\tvalidation_0-auc:0.776343\n",
      "[350]\tvalidation_0-auc:0.776453\n",
      "[351]\tvalidation_0-auc:0.776662\n",
      "[352]\tvalidation_0-auc:0.776654\n",
      "[353]\tvalidation_0-auc:0.776725\n",
      "[354]\tvalidation_0-auc:0.776576\n",
      "[355]\tvalidation_0-auc:0.776714\n",
      "[356]\tvalidation_0-auc:0.776586\n",
      "[357]\tvalidation_0-auc:0.776289\n",
      "[358]\tvalidation_0-auc:0.776112\n",
      "[359]\tvalidation_0-auc:0.775987\n",
      "[360]\tvalidation_0-auc:0.776227\n",
      "[361]\tvalidation_0-auc:0.776179\n",
      "[362]\tvalidation_0-auc:0.776194\n",
      "[363]\tvalidation_0-auc:0.776155\n",
      "[364]\tvalidation_0-auc:0.775918\n",
      "[365]\tvalidation_0-auc:0.776097\n",
      "[366]\tvalidation_0-auc:0.776402\n",
      "[367]\tvalidation_0-auc:0.776505\n",
      "[368]\tvalidation_0-auc:0.776384\n",
      "[369]\tvalidation_0-auc:0.77639\n",
      "[370]\tvalidation_0-auc:0.776438\n",
      "[371]\tvalidation_0-auc:0.776506\n",
      "[372]\tvalidation_0-auc:0.776631\n",
      "[373]\tvalidation_0-auc:0.776749\n",
      "[374]\tvalidation_0-auc:0.776908\n",
      "[375]\tvalidation_0-auc:0.776857\n",
      "[376]\tvalidation_0-auc:0.776905\n",
      "[377]\tvalidation_0-auc:0.776898\n",
      "[378]\tvalidation_0-auc:0.776839\n",
      "[379]\tvalidation_0-auc:0.776861\n",
      "[380]\tvalidation_0-auc:0.776683\n",
      "[381]\tvalidation_0-auc:0.776651\n",
      "[382]\tvalidation_0-auc:0.776622\n",
      "[383]\tvalidation_0-auc:0.776751\n",
      "[384]\tvalidation_0-auc:0.776759\n",
      "[385]\tvalidation_0-auc:0.776696\n",
      "[386]\tvalidation_0-auc:0.776742\n",
      "[387]\tvalidation_0-auc:0.776708\n",
      "[388]\tvalidation_0-auc:0.77666\n",
      "[389]\tvalidation_0-auc:0.776702\n",
      "[390]\tvalidation_0-auc:0.776687\n",
      "[391]\tvalidation_0-auc:0.776724\n",
      "[392]\tvalidation_0-auc:0.77671\n",
      "[393]\tvalidation_0-auc:0.776946\n",
      "[394]\tvalidation_0-auc:0.776913\n",
      "[395]\tvalidation_0-auc:0.776912\n",
      "[396]\tvalidation_0-auc:0.776745\n",
      "[397]\tvalidation_0-auc:0.776863\n",
      "[398]\tvalidation_0-auc:0.776563\n",
      "[399]\tvalidation_0-auc:0.776461\n",
      "[400]\tvalidation_0-auc:0.776537\n",
      "[401]\tvalidation_0-auc:0.776404\n",
      "[402]\tvalidation_0-auc:0.776367\n",
      "[403]\tvalidation_0-auc:0.77634\n",
      "[404]\tvalidation_0-auc:0.77634\n",
      "[405]\tvalidation_0-auc:0.776468\n",
      "[406]\tvalidation_0-auc:0.776694\n",
      "[407]\tvalidation_0-auc:0.776397\n",
      "[408]\tvalidation_0-auc:0.776242\n",
      "[409]\tvalidation_0-auc:0.776027\n",
      "[410]\tvalidation_0-auc:0.776143\n",
      "[411]\tvalidation_0-auc:0.776035\n",
      "[412]\tvalidation_0-auc:0.775979\n",
      "Stopping. Best iteration:\n",
      "[312]\tvalidation_0-auc:0.777616\n",
      "\n",
      "AUC Score:0.777616127663469\n",
      "Accuracy:0.7297222222222223\n"
     ]
    }
   ],
   "source": [
    "import xgboost as xgb \n",
    "from sklearn.metrics import accuracy_score, roc_auc_score\n",
    "\n",
    "def xgb_model(train_data, train_label, test_data, test_label):\n",
    "    clf = xgb.XGBClassifier(max_depth=7,\n",
    "                           min_child_weight=1,\n",
    "                           learning_rate=0.1,\n",
    "                           n_estimators=500,\n",
    "                           silent=True,\n",
    "                           objective='binary:logistic',\n",
    "                           gamma=0,\n",
    "                           max_delta_step=0,\n",
    "                           subsample=1,\n",
    "                           colsample_bytree=1,\n",
    "                           colsample_bylevel=1,\n",
    "                           reg_alpha=0,\n",
    "                           reg_lambda=0,\n",
    "                           scale_pos_weight=1,\n",
    "                           seed=1,\n",
    "                           missing=None)\n",
    "    clf.fit(train_data, train_label, eval_metric='auc', verbose=True,\n",
    "            eval_set=[(test_data, test_label)], early_stopping_rounds=100)\n",
    "    y_pre = clf.predict(test_data)\n",
    "    y_pro = clf.predict_proba(test_data)[:, 1]\n",
    "    \n",
    "    print(\"AUC Score:{}\".format(roc_auc_score(test_label, y_pro)))\n",
    "    print(\"Accuracy:{}\".format(accuracy_score(test_label, y_pre)))\n",
    "    \n",
    "    return clf, y_pre\n",
    "          \n",
    "\n",
    "xgb_clf, xgb_prediction = xgb_model(X_train.as_matrix(), y_train, evalX.as_matrix(), evalY)"
   ]
  },
  {
   "cell_type": "code",
   "execution_count": 67,
   "metadata": {},
   "outputs": [
    {
     "data": {
      "text/html": [
       "<div>\n",
       "<style scoped>\n",
       "    .dataframe tbody tr th:only-of-type {\n",
       "        vertical-align: middle;\n",
       "    }\n",
       "\n",
       "    .dataframe tbody tr th {\n",
       "        vertical-align: top;\n",
       "    }\n",
       "\n",
       "    .dataframe thead th {\n",
       "        text-align: right;\n",
       "    }\n",
       "</style>\n",
       "<table border=\"1\" class=\"dataframe\">\n",
       "  <thead>\n",
       "    <tr style=\"text-align: right;\">\n",
       "      <th></th>\n",
       "      <th>Biography</th>\n",
       "      <th>Self-Help</th>\n",
       "      <th>History</th>\n",
       "      <th>Beach-Read</th>\n",
       "      <th>Sci-Fi</th>\n",
       "      <th>Drama</th>\n",
       "      <th>Thriller</th>\n",
       "      <th>Pop-Psychology</th>\n",
       "      <th>Classic</th>\n",
       "      <th>notKnown</th>\n",
       "      <th>Romance</th>\n",
       "      <th>Pop-Sci</th>\n",
       "      <th>retailPrice</th>\n",
       "      <th>fiction_label</th>\n",
       "      <th>isReturning_label</th>\n",
       "      <th>genre_label</th>\n",
       "      <th>age_label</th>\n",
       "    </tr>\n",
       "  </thead>\n",
       "  <tbody>\n",
       "    <tr>\n",
       "      <th>32296</th>\n",
       "      <td>1</td>\n",
       "      <td>0</td>\n",
       "      <td>0</td>\n",
       "      <td>0</td>\n",
       "      <td>0</td>\n",
       "      <td>0</td>\n",
       "      <td>0</td>\n",
       "      <td>0</td>\n",
       "      <td>0</td>\n",
       "      <td>0</td>\n",
       "      <td>0</td>\n",
       "      <td>0</td>\n",
       "      <td>12.87</td>\n",
       "      <td>0</td>\n",
       "      <td>1</td>\n",
       "      <td>1</td>\n",
       "      <td>4</td>\n",
       "    </tr>\n",
       "    <tr>\n",
       "      <th>1423</th>\n",
       "      <td>1</td>\n",
       "      <td>1</td>\n",
       "      <td>1</td>\n",
       "      <td>1</td>\n",
       "      <td>1</td>\n",
       "      <td>1</td>\n",
       "      <td>1</td>\n",
       "      <td>1</td>\n",
       "      <td>0</td>\n",
       "      <td>0</td>\n",
       "      <td>1</td>\n",
       "      <td>1</td>\n",
       "      <td>12.31</td>\n",
       "      <td>1</td>\n",
       "      <td>1</td>\n",
       "      <td>2</td>\n",
       "      <td>7</td>\n",
       "    </tr>\n",
       "    <tr>\n",
       "      <th>2685</th>\n",
       "      <td>1</td>\n",
       "      <td>1</td>\n",
       "      <td>0</td>\n",
       "      <td>1</td>\n",
       "      <td>0</td>\n",
       "      <td>1</td>\n",
       "      <td>0</td>\n",
       "      <td>0</td>\n",
       "      <td>1</td>\n",
       "      <td>0</td>\n",
       "      <td>1</td>\n",
       "      <td>0</td>\n",
       "      <td>9.16</td>\n",
       "      <td>1</td>\n",
       "      <td>0</td>\n",
       "      <td>0</td>\n",
       "      <td>3</td>\n",
       "    </tr>\n",
       "    <tr>\n",
       "      <th>3110</th>\n",
       "      <td>1</td>\n",
       "      <td>1</td>\n",
       "      <td>1</td>\n",
       "      <td>1</td>\n",
       "      <td>0</td>\n",
       "      <td>1</td>\n",
       "      <td>1</td>\n",
       "      <td>0</td>\n",
       "      <td>0</td>\n",
       "      <td>0</td>\n",
       "      <td>1</td>\n",
       "      <td>1</td>\n",
       "      <td>13.48</td>\n",
       "      <td>1</td>\n",
       "      <td>1</td>\n",
       "      <td>7</td>\n",
       "      <td>3</td>\n",
       "    </tr>\n",
       "    <tr>\n",
       "      <th>15177</th>\n",
       "      <td>1</td>\n",
       "      <td>1</td>\n",
       "      <td>0</td>\n",
       "      <td>0</td>\n",
       "      <td>0</td>\n",
       "      <td>1</td>\n",
       "      <td>0</td>\n",
       "      <td>0</td>\n",
       "      <td>0</td>\n",
       "      <td>0</td>\n",
       "      <td>0</td>\n",
       "      <td>1</td>\n",
       "      <td>16.20</td>\n",
       "      <td>1</td>\n",
       "      <td>1</td>\n",
       "      <td>2</td>\n",
       "      <td>3</td>\n",
       "    </tr>\n",
       "  </tbody>\n",
       "</table>\n",
       "</div>"
      ],
      "text/plain": [
       "       Biography  Self-Help  History  Beach-Read  Sci-Fi  Drama  Thriller  \\\n",
       "32296          1          0        0           0       0      0         0   \n",
       "1423           1          1        1           1       1      1         1   \n",
       "2685           1          1        0           1       0      1         0   \n",
       "3110           1          1        1           1       0      1         1   \n",
       "15177          1          1        0           0       0      1         0   \n",
       "\n",
       "       Pop-Psychology  Classic  notKnown  Romance  Pop-Sci  retailPrice  \\\n",
       "32296               0        0         0        0        0        12.87   \n",
       "1423                1        0         0        1        1        12.31   \n",
       "2685                0        1         0        1        0         9.16   \n",
       "3110                0        0         0        1        1        13.48   \n",
       "15177               0        0         0        0        1        16.20   \n",
       "\n",
       "       fiction_label  isReturning_label  genre_label  age_label  \n",
       "32296              0                  1            1          4  \n",
       "1423               1                  1            2          7  \n",
       "2685               1                  0            0          3  \n",
       "3110               1                  1            7          3  \n",
       "15177              1                  1            2          3  "
      ]
     },
     "execution_count": 67,
     "metadata": {},
     "output_type": "execute_result"
    }
   ],
   "source": [
    "X_train.head()"
   ]
  },
  {
   "cell_type": "code",
   "execution_count": 68,
   "metadata": {},
   "outputs": [],
   "source": [
    "predictiondf = pd.DataFrame({'actual': evalY, 'prediction':xgb_prediction})"
   ]
  },
  {
   "cell_type": "code",
   "execution_count": 69,
   "metadata": {},
   "outputs": [],
   "source": [
    "predictiondf.to_csv(\"spaceremoval_prediction.csv\", sep=\",\")"
   ]
  },
  {
   "cell_type": "markdown",
   "metadata": {},
   "source": [
    "####  checking model stability ####"
   ]
  },
  {
   "cell_type": "code",
   "execution_count": 70,
   "metadata": {},
   "outputs": [
    {
     "name": "stdout",
     "output_type": "stream",
     "text": [
      "XGB Model Metrics\n",
      "                   pre       rec       spe        f1       geo       iba       sup\n",
      "\n",
      "          0       0.75      0.87      0.48      0.80      0.65      0.44      2285\n",
      "          1       0.68      0.48      0.87      0.57      0.65      0.41      1315\n",
      "\n",
      "avg / total       0.72      0.73      0.63      0.72      0.65      0.43      3600\n",
      "\n"
     ]
    }
   ],
   "source": [
    "from imblearn.metrics import classification_report_imbalanced\n",
    "\n",
    "print(\"XGB Model Metrics\")\n",
    "print(classification_report_imbalanced(evalY, xgb_prediction))"
   ]
  },
  {
   "cell_type": "code",
   "execution_count": 37,
   "metadata": {},
   "outputs": [],
   "source": [
    "### save the model as joblib ###\n",
    "\n",
    "import pickle\n",
    "\n",
    "pickle.dump(xgb_clf, open(\"finalModel.pickle.dat\", \"wb\"))"
   ]
  },
  {
   "cell_type": "markdown",
   "metadata": {},
   "source": [
    "#### predict for the test data ####"
   ]
  },
  {
   "cell_type": "code",
   "execution_count": 38,
   "metadata": {},
   "outputs": [],
   "source": [
    "concat_customerfeature =concat_customerfeature.set_index('customer_id') #setting customer id as index"
   ]
  },
  {
   "cell_type": "code",
   "execution_count": 39,
   "metadata": {},
   "outputs": [
    {
     "name": "stdout",
     "output_type": "stream",
     "text": [
      "5000 rows, Finished fetching product details and customer intrests data\n",
      "10000 rows, Finished fetching product details and customer intrests data\n",
      "15000 rows, Finished fetching product details and customer intrests data\n",
      "20000 rows, Finished fetching product details and customer intrests data\n",
      "25000 rows, Finished fetching product details and customer intrests data\n",
      "30000 rows, Finished fetching product details and customer intrests data\n",
      "35000 rows, Finished fetching product details and customer intrests data\n",
      "40000 rows, Finished fetching product details and customer intrests data\n",
      "45000 rows, Finished fetching product details and customer intrests data\n",
      "50000 rows, Finished fetching product details and customer intrests data\n",
      "55000 rows, Finished fetching product details and customer intrests data\n"
     ]
    }
   ],
   "source": [
    "test_nrows = next_month_assort.shape[0]\n",
    "isfiction, genre = [], []\n",
    "\n",
    "test_customer_intrests =[] #empty dataframe\n",
    "\n",
    "for i in range(test_nrows):\n",
    "    #set the dataframe\n",
    "    getdf = next_month_assort.iloc[i]['product_id']\n",
    "    custdf = next_month_assort.iloc[i]['customer_id']\n",
    "    #get the product features\n",
    "    isfiction.append(prdfeat_copy.loc[getdf]['fiction'])\n",
    "    genre.append(prdfeat_copy.loc[getdf]['genre'])\n",
    "    #customer intrest dataframe\n",
    "    cdf = concat_customerfeature.loc[custdf].values.tolist()\n",
    "    #concatdf\n",
    "    test_customer_intrests.append(cdf)\n",
    "    \n",
    "    if i % 5000 == 0 and i!=0:\n",
    "        print(\"{} rows, Finished fetching product details and customer intrests data\".format(i))"
   ]
  },
  {
   "cell_type": "code",
   "execution_count": 40,
   "metadata": {},
   "outputs": [],
   "source": [
    "nextmonth_copy = next_month_assort.copy()\n",
    "\n",
    "#appended fiction and genre label\n",
    "nextmonth_copy['fiction_label'] = isfiction\n",
    "nextmonth_copy['genre_label'] = genre"
   ]
  },
  {
   "cell_type": "code",
   "execution_count": 41,
   "metadata": {},
   "outputs": [
    {
     "name": "stdout",
     "output_type": "stream",
     "text": [
      "56400 (56400, 4)\n"
     ]
    }
   ],
   "source": [
    "print(len(test_customer_intrests), nextmonth_copy.shape)"
   ]
  },
  {
   "cell_type": "code",
   "execution_count": 42,
   "metadata": {},
   "outputs": [
    {
     "data": {
      "text/plain": [
       "(56400, 14)"
      ]
     },
     "execution_count": 42,
     "metadata": {},
     "output_type": "execute_result"
    }
   ],
   "source": [
    "#convert into dataframe\n",
    "testCustdf = pd.DataFrame(test_customer_intrests, columns=concat_customerfeature.columns.tolist())\n",
    "testCustdf.shape"
   ]
  },
  {
   "cell_type": "code",
   "execution_count": 43,
   "metadata": {},
   "outputs": [
    {
     "data": {
      "text/plain": [
       "(56400, 18)"
      ]
     },
     "execution_count": 43,
     "metadata": {},
     "output_type": "execute_result"
    }
   ],
   "source": [
    "#concat the dataframe\n",
    "testdf = pd.concat([nextmonth_copy, testCustdf], axis=1)\n",
    "testdf.shape"
   ]
  },
  {
   "cell_type": "code",
   "execution_count": 44,
   "metadata": {},
   "outputs": [],
   "source": [
    "testdf['age_bucket'] = testdf['age_bucket'].fillna('')"
   ]
  },
  {
   "cell_type": "code",
   "execution_count": 45,
   "metadata": {},
   "outputs": [],
   "source": [
    "#add all those column in the dataset\n",
    "testdf['fiction_label'] = label_encoding(testdf['fiction_label'])\n",
    "testdf['isReturning_label'] = label_encoding(testdf['is_returning_customer'])\n",
    "testdf['age_label'] = label_encoding(testdf['age_bucket'])\n",
    "testdf['genre_label'] = label_encoding(testdf['genre_label'])"
   ]
  },
  {
   "cell_type": "markdown",
   "metadata": {},
   "source": [
    "#### concat retail price for the next assortment books ####"
   ]
  },
  {
   "cell_type": "code",
   "execution_count": 46,
   "metadata": {},
   "outputs": [
    {
     "data": {
      "text/html": [
       "<div>\n",
       "<style scoped>\n",
       "    .dataframe tbody tr th:only-of-type {\n",
       "        vertical-align: middle;\n",
       "    }\n",
       "\n",
       "    .dataframe tbody tr th {\n",
       "        vertical-align: top;\n",
       "    }\n",
       "\n",
       "    .dataframe thead th {\n",
       "        text-align: right;\n",
       "    }\n",
       "</style>\n",
       "<table border=\"1\" class=\"dataframe\">\n",
       "  <thead>\n",
       "    <tr style=\"text-align: right;\">\n",
       "      <th></th>\n",
       "      <th>quantity_purchased</th>\n",
       "      <th>cost_to_buy</th>\n",
       "      <th>retail_value</th>\n",
       "      <th>total_cost</th>\n",
       "    </tr>\n",
       "    <tr>\n",
       "      <th>product_id</th>\n",
       "      <th></th>\n",
       "      <th></th>\n",
       "      <th></th>\n",
       "      <th></th>\n",
       "    </tr>\n",
       "  </thead>\n",
       "  <tbody>\n",
       "    <tr>\n",
       "      <th>1479507</th>\n",
       "      <td>39</td>\n",
       "      <td>1.82</td>\n",
       "      <td>12.68</td>\n",
       "      <td>70.98</td>\n",
       "    </tr>\n",
       "    <tr>\n",
       "      <th>1681385</th>\n",
       "      <td>55</td>\n",
       "      <td>1.73</td>\n",
       "      <td>12.88</td>\n",
       "      <td>95.15</td>\n",
       "    </tr>\n",
       "    <tr>\n",
       "      <th>1771749</th>\n",
       "      <td>37</td>\n",
       "      <td>1.26</td>\n",
       "      <td>10.38</td>\n",
       "      <td>46.62</td>\n",
       "    </tr>\n",
       "    <tr>\n",
       "      <th>1605149</th>\n",
       "      <td>49</td>\n",
       "      <td>1.47</td>\n",
       "      <td>11.27</td>\n",
       "      <td>72.03</td>\n",
       "    </tr>\n",
       "    <tr>\n",
       "      <th>1861356</th>\n",
       "      <td>34</td>\n",
       "      <td>1.98</td>\n",
       "      <td>10.41</td>\n",
       "      <td>67.32</td>\n",
       "    </tr>\n",
       "  </tbody>\n",
       "</table>\n",
       "</div>"
      ],
      "text/plain": [
       "            quantity_purchased  cost_to_buy  retail_value  total_cost\n",
       "product_id                                                           \n",
       "1479507                     39         1.82         12.68       70.98\n",
       "1681385                     55         1.73         12.88       95.15\n",
       "1771749                     37         1.26         10.38       46.62\n",
       "1605149                     49         1.47         11.27       72.03\n",
       "1861356                     34         1.98         10.41       67.32"
      ]
     },
     "execution_count": 46,
     "metadata": {},
     "output_type": "execute_result"
    }
   ],
   "source": [
    "npo_copy = next_purchase_order.copy().set_index(\"product_id\")\n",
    "npo_copy.head()"
   ]
  },
  {
   "cell_type": "code",
   "execution_count": 47,
   "metadata": {},
   "outputs": [
    {
     "name": "stdout",
     "output_type": "stream",
     "text": [
      "39733\n"
     ]
    }
   ],
   "source": [
    "#check if all the product_id are present the next month assortment\n",
    "\n",
    "#product id not in the next purchase order list\n",
    "pdid_notin_nextmonthlist = [x for x in testdf['product_id'] if x not in npo_copy.index.tolist()]\n",
    "print(len(pdid_notin_nextmonthlist))"
   ]
  },
  {
   "cell_type": "code",
   "execution_count": 48,
   "metadata": {},
   "outputs": [
    {
     "data": {
      "text/html": [
       "<div>\n",
       "<style scoped>\n",
       "    .dataframe tbody tr th:only-of-type {\n",
       "        vertical-align: middle;\n",
       "    }\n",
       "\n",
       "    .dataframe tbody tr th {\n",
       "        vertical-align: top;\n",
       "    }\n",
       "\n",
       "    .dataframe thead th {\n",
       "        text-align: right;\n",
       "    }\n",
       "</style>\n",
       "<table border=\"1\" class=\"dataframe\">\n",
       "  <thead>\n",
       "    <tr style=\"text-align: right;\">\n",
       "      <th></th>\n",
       "      <th>quantity_purchased</th>\n",
       "      <th>cost_to_buy</th>\n",
       "      <th>retail_value</th>\n",
       "      <th>total_cost</th>\n",
       "    </tr>\n",
       "    <tr>\n",
       "      <th>product_id</th>\n",
       "      <th></th>\n",
       "      <th></th>\n",
       "      <th></th>\n",
       "      <th></th>\n",
       "    </tr>\n",
       "  </thead>\n",
       "  <tbody>\n",
       "    <tr>\n",
       "      <th>1769808</th>\n",
       "      <td>77</td>\n",
       "      <td>2.20</td>\n",
       "      <td>16.67</td>\n",
       "      <td>169.40</td>\n",
       "    </tr>\n",
       "    <tr>\n",
       "      <th>1896283</th>\n",
       "      <td>67</td>\n",
       "      <td>1.46</td>\n",
       "      <td>9.59</td>\n",
       "      <td>97.82</td>\n",
       "    </tr>\n",
       "    <tr>\n",
       "      <th>1889979</th>\n",
       "      <td>80</td>\n",
       "      <td>2.06</td>\n",
       "      <td>13.36</td>\n",
       "      <td>164.80</td>\n",
       "    </tr>\n",
       "    <tr>\n",
       "      <th>1341288</th>\n",
       "      <td>85</td>\n",
       "      <td>1.25</td>\n",
       "      <td>6.57</td>\n",
       "      <td>106.25</td>\n",
       "    </tr>\n",
       "    <tr>\n",
       "      <th>1666328</th>\n",
       "      <td>60</td>\n",
       "      <td>1.51</td>\n",
       "      <td>10.49</td>\n",
       "      <td>90.60</td>\n",
       "    </tr>\n",
       "  </tbody>\n",
       "</table>\n",
       "</div>"
      ],
      "text/plain": [
       "            quantity_purchased  cost_to_buy  retail_value  total_cost\n",
       "product_id                                                           \n",
       "1769808                     77         2.20         16.67      169.40\n",
       "1896283                     67         1.46          9.59       97.82\n",
       "1889979                     80         2.06         13.36      164.80\n",
       "1341288                     85         1.25          6.57      106.25\n",
       "1666328                     60         1.51         10.49       90.60"
      ]
     },
     "execution_count": 48,
     "metadata": {},
     "output_type": "execute_result"
    }
   ],
   "source": [
    "#check if those product id are the previous month list\n",
    "opo_copy = original_purchase_order.copy().set_index(\"product_id\")\n",
    "opo_copy.head()"
   ]
  },
  {
   "cell_type": "code",
   "execution_count": 49,
   "metadata": {},
   "outputs": [
    {
     "data": {
      "text/plain": [
       "[]"
      ]
     },
     "execution_count": 49,
     "metadata": {},
     "output_type": "execute_result"
    }
   ],
   "source": [
    "[x for x in pdid_notin_nextmonthlist if x not in opo_copy.index.tolist()]"
   ]
  },
  {
   "cell_type": "code",
   "execution_count": 50,
   "metadata": {},
   "outputs": [
    {
     "data": {
      "text/plain": [
       "(1300, 2)"
      ]
     },
     "execution_count": 50,
     "metadata": {},
     "output_type": "execute_result"
    }
   ],
   "source": [
    "#all the items that are not present in the next_purchase_order is\n",
    "#present in the original purchase order\n",
    "\n",
    "#concat next_purchase_order and original_purchase order\n",
    "nmpo_req = next_purchase_order[['product_id', 'retail_value']] #next month purchase order required\n",
    "opo_req = original_purchase_order[['product_id', 'retail_value']] #original purchase order required\n",
    "\n",
    "purchaseOrder = pd.concat([opo_req, nmpo_req], axis=0) #shape\n",
    "purchaseOrder.shape"
   ]
  },
  {
   "cell_type": "code",
   "execution_count": 51,
   "metadata": {},
   "outputs": [],
   "source": [
    "purchaseOrder = purchaseOrder.set_index('product_id') #set product value as an index"
   ]
  },
  {
   "cell_type": "code",
   "execution_count": 52,
   "metadata": {},
   "outputs": [],
   "source": [
    "#now we have all purchase order book and retail value\n",
    "#get the product_id retail value in the testdf\n",
    "testRetailValue = testdf.apply(lambda row: purchaseOrder.loc[row['product_id']]['retail_value'], axis=1)"
   ]
  },
  {
   "cell_type": "code",
   "execution_count": 53,
   "metadata": {},
   "outputs": [],
   "source": [
    "trv = [] #append the retail price\n",
    "for x in testRetailValue:\n",
    "    if type(x) != np.ndarray:\n",
    "        trv.append(x)\n",
    "    else:\n",
    "        trv.append(x[0])"
   ]
  },
  {
   "cell_type": "code",
   "execution_count": 54,
   "metadata": {},
   "outputs": [
    {
     "data": {
      "text/plain": [
       "(56400, 17)"
      ]
     },
     "execution_count": 54,
     "metadata": {},
     "output_type": "execute_result"
    }
   ],
   "source": [
    "testdf['retailPrice'] = trv #append the retail price column\n",
    "\n",
    "#get only input features\n",
    "testdf_ips = testdf[input_features]\n",
    "testdf_ips.shape"
   ]
  },
  {
   "cell_type": "code",
   "execution_count": 55,
   "metadata": {},
   "outputs": [
    {
     "data": {
      "text/html": [
       "<div>\n",
       "<style scoped>\n",
       "    .dataframe tbody tr th:only-of-type {\n",
       "        vertical-align: middle;\n",
       "    }\n",
       "\n",
       "    .dataframe tbody tr th {\n",
       "        vertical-align: top;\n",
       "    }\n",
       "\n",
       "    .dataframe thead th {\n",
       "        text-align: right;\n",
       "    }\n",
       "</style>\n",
       "<table border=\"1\" class=\"dataframe\">\n",
       "  <thead>\n",
       "    <tr style=\"text-align: right;\">\n",
       "      <th></th>\n",
       "      <th>retailPrice</th>\n",
       "      <th>isReturning_label</th>\n",
       "      <th>Pop-Psychology</th>\n",
       "      <th>Biography</th>\n",
       "      <th>Self-Help</th>\n",
       "      <th>History</th>\n",
       "      <th>Beach-Read</th>\n",
       "      <th>Sci-Fi</th>\n",
       "      <th>Drama</th>\n",
       "      <th>Thriller</th>\n",
       "      <th>notKnown</th>\n",
       "      <th>fiction_label</th>\n",
       "      <th>age_label</th>\n",
       "      <th>Classic</th>\n",
       "      <th>Romance</th>\n",
       "      <th>Pop-Sci</th>\n",
       "      <th>genre_label</th>\n",
       "    </tr>\n",
       "  </thead>\n",
       "  <tbody>\n",
       "    <tr>\n",
       "      <th>0</th>\n",
       "      <td>12.88</td>\n",
       "      <td>0</td>\n",
       "      <td>1</td>\n",
       "      <td>1</td>\n",
       "      <td>1</td>\n",
       "      <td>1</td>\n",
       "      <td>1</td>\n",
       "      <td>0</td>\n",
       "      <td>1</td>\n",
       "      <td>1</td>\n",
       "      <td>0</td>\n",
       "      <td>1</td>\n",
       "      <td>6</td>\n",
       "      <td>1</td>\n",
       "      <td>0</td>\n",
       "      <td>1</td>\n",
       "      <td>8</td>\n",
       "    </tr>\n",
       "    <tr>\n",
       "      <th>1</th>\n",
       "      <td>14.11</td>\n",
       "      <td>0</td>\n",
       "      <td>1</td>\n",
       "      <td>1</td>\n",
       "      <td>1</td>\n",
       "      <td>1</td>\n",
       "      <td>1</td>\n",
       "      <td>0</td>\n",
       "      <td>1</td>\n",
       "      <td>1</td>\n",
       "      <td>0</td>\n",
       "      <td>1</td>\n",
       "      <td>6</td>\n",
       "      <td>1</td>\n",
       "      <td>0</td>\n",
       "      <td>1</td>\n",
       "      <td>8</td>\n",
       "    </tr>\n",
       "    <tr>\n",
       "      <th>2</th>\n",
       "      <td>10.77</td>\n",
       "      <td>0</td>\n",
       "      <td>1</td>\n",
       "      <td>1</td>\n",
       "      <td>1</td>\n",
       "      <td>1</td>\n",
       "      <td>1</td>\n",
       "      <td>0</td>\n",
       "      <td>1</td>\n",
       "      <td>1</td>\n",
       "      <td>0</td>\n",
       "      <td>1</td>\n",
       "      <td>6</td>\n",
       "      <td>1</td>\n",
       "      <td>0</td>\n",
       "      <td>1</td>\n",
       "      <td>3</td>\n",
       "    </tr>\n",
       "    <tr>\n",
       "      <th>3</th>\n",
       "      <td>13.60</td>\n",
       "      <td>0</td>\n",
       "      <td>1</td>\n",
       "      <td>1</td>\n",
       "      <td>1</td>\n",
       "      <td>1</td>\n",
       "      <td>1</td>\n",
       "      <td>0</td>\n",
       "      <td>1</td>\n",
       "      <td>1</td>\n",
       "      <td>0</td>\n",
       "      <td>1</td>\n",
       "      <td>6</td>\n",
       "      <td>1</td>\n",
       "      <td>0</td>\n",
       "      <td>1</td>\n",
       "      <td>0</td>\n",
       "    </tr>\n",
       "    <tr>\n",
       "      <th>4</th>\n",
       "      <td>9.37</td>\n",
       "      <td>0</td>\n",
       "      <td>1</td>\n",
       "      <td>1</td>\n",
       "      <td>1</td>\n",
       "      <td>1</td>\n",
       "      <td>1</td>\n",
       "      <td>0</td>\n",
       "      <td>1</td>\n",
       "      <td>1</td>\n",
       "      <td>0</td>\n",
       "      <td>0</td>\n",
       "      <td>6</td>\n",
       "      <td>1</td>\n",
       "      <td>0</td>\n",
       "      <td>1</td>\n",
       "      <td>9</td>\n",
       "    </tr>\n",
       "  </tbody>\n",
       "</table>\n",
       "</div>"
      ],
      "text/plain": [
       "   retailPrice  isReturning_label  Pop-Psychology  Biography  Self-Help  \\\n",
       "0        12.88                  0               1          1          1   \n",
       "1        14.11                  0               1          1          1   \n",
       "2        10.77                  0               1          1          1   \n",
       "3        13.60                  0               1          1          1   \n",
       "4         9.37                  0               1          1          1   \n",
       "\n",
       "   History  Beach-Read  Sci-Fi  Drama  Thriller  notKnown  fiction_label  \\\n",
       "0        1           1       0      1         1         0              1   \n",
       "1        1           1       0      1         1         0              1   \n",
       "2        1           1       0      1         1         0              1   \n",
       "3        1           1       0      1         1         0              1   \n",
       "4        1           1       0      1         1         0              0   \n",
       "\n",
       "   age_label  Classic  Romance  Pop-Sci  genre_label  \n",
       "0          6        1        0        1            8  \n",
       "1          6        1        0        1            8  \n",
       "2          6        1        0        1            3  \n",
       "3          6        1        0        1            0  \n",
       "4          6        1        0        1            9  "
      ]
     },
     "execution_count": 55,
     "metadata": {},
     "output_type": "execute_result"
    }
   ],
   "source": [
    "modelSortFeatures = ['retailPrice','isReturning_label','Pop-Psychology','Biography','Self-Help','History', \n",
    "                     'Beach-Read','Sci-Fi','Drama','Thriller','notKnown','fiction_label','age_label','Classic', \n",
    "                     'Romance','Pop-Sci','genre_label']\n",
    "\n",
    "testdf_ips = testdf_ips[modelSortFeatures]\n",
    "testdf_ips.head()"
   ]
  },
  {
   "cell_type": "code",
   "execution_count": 65,
   "metadata": {},
   "outputs": [],
   "source": [
    "testdf_ips.to_csv(\"testdf.csv\", sep=\",\")"
   ]
  },
  {
   "cell_type": "code",
   "execution_count": 56,
   "metadata": {},
   "outputs": [
    {
     "name": "stderr",
     "output_type": "stream",
     "text": [
      "c:\\users\\madhivarman\\appdata\\local\\programs\\python\\python35\\lib\\site-packages\\ipykernel_launcher.py:4: FutureWarning: Method .as_matrix will be removed in a future version. Use .values instead.\n",
      "  after removing the cwd from sys.path.\n"
     ]
    }
   ],
   "source": [
    "import pickle\n",
    "loaded_model = pickle.load(open(\"finalModel.pickle.dat\", \"rb\"))\n",
    "# make predictions for test data\n",
    "test_prediction = loaded_model.predict(testdf_ips.as_matrix())\n",
    "#test_prediction = xgb_clf.predict(testdf_ips.as_matrix())"
   ]
  },
  {
   "cell_type": "code",
   "execution_count": 57,
   "metadata": {},
   "outputs": [],
   "source": [
    "#append the prediction to the next_month_assortment columns\n",
    "nma_copy = next_month_assort.copy()\n",
    "nma_copy['willbuy'] = test_prediction"
   ]
  },
  {
   "cell_type": "code",
   "execution_count": 58,
   "metadata": {},
   "outputs": [
    {
     "data": {
      "text/html": [
       "<div>\n",
       "<style scoped>\n",
       "    .dataframe tbody tr th:only-of-type {\n",
       "        vertical-align: middle;\n",
       "    }\n",
       "\n",
       "    .dataframe tbody tr th {\n",
       "        vertical-align: top;\n",
       "    }\n",
       "\n",
       "    .dataframe thead th {\n",
       "        text-align: right;\n",
       "    }\n",
       "</style>\n",
       "<table border=\"1\" class=\"dataframe\">\n",
       "  <thead>\n",
       "    <tr style=\"text-align: right;\">\n",
       "      <th></th>\n",
       "      <th>customer_id</th>\n",
       "      <th>product_id</th>\n",
       "      <th>willbuy</th>\n",
       "      <th>retail_price</th>\n",
       "    </tr>\n",
       "  </thead>\n",
       "  <tbody>\n",
       "    <tr>\n",
       "      <th>0</th>\n",
       "      <td>1600785</td>\n",
       "      <td>1443029</td>\n",
       "      <td>0</td>\n",
       "      <td>12.88</td>\n",
       "    </tr>\n",
       "    <tr>\n",
       "      <th>1</th>\n",
       "      <td>1600785</td>\n",
       "      <td>1164138</td>\n",
       "      <td>0</td>\n",
       "      <td>14.11</td>\n",
       "    </tr>\n",
       "    <tr>\n",
       "      <th>2</th>\n",
       "      <td>1600785</td>\n",
       "      <td>1636511</td>\n",
       "      <td>0</td>\n",
       "      <td>10.77</td>\n",
       "    </tr>\n",
       "    <tr>\n",
       "      <th>3</th>\n",
       "      <td>1600785</td>\n",
       "      <td>1832547</td>\n",
       "      <td>1</td>\n",
       "      <td>13.60</td>\n",
       "    </tr>\n",
       "    <tr>\n",
       "      <th>4</th>\n",
       "      <td>1600785</td>\n",
       "      <td>1237420</td>\n",
       "      <td>0</td>\n",
       "      <td>9.37</td>\n",
       "    </tr>\n",
       "  </tbody>\n",
       "</table>\n",
       "</div>"
      ],
      "text/plain": [
       "   customer_id  product_id  willbuy  retail_price\n",
       "0      1600785     1443029        0         12.88\n",
       "1      1600785     1164138        0         14.11\n",
       "2      1600785     1636511        0         10.77\n",
       "3      1600785     1832547        1         13.60\n",
       "4      1600785     1237420        0          9.37"
      ]
     },
     "execution_count": 58,
     "metadata": {},
     "output_type": "execute_result"
    }
   ],
   "source": [
    "#get the retail price for all the product id\n",
    "nma_copy['retail_price'] = testdf_ips['retailPrice']\n",
    "nma_copy.head()"
   ]
  },
  {
   "cell_type": "code",
   "execution_count": 59,
   "metadata": {},
   "outputs": [
    {
     "data": {
      "text/html": [
       "<div>\n",
       "<style scoped>\n",
       "    .dataframe tbody tr th:only-of-type {\n",
       "        vertical-align: middle;\n",
       "    }\n",
       "\n",
       "    .dataframe tbody tr th {\n",
       "        vertical-align: top;\n",
       "    }\n",
       "\n",
       "    .dataframe thead tr th {\n",
       "        text-align: left;\n",
       "    }\n",
       "\n",
       "    .dataframe thead tr:last-of-type th {\n",
       "        text-align: right;\n",
       "    }\n",
       "</style>\n",
       "<table border=\"1\" class=\"dataframe\">\n",
       "  <thead>\n",
       "    <tr>\n",
       "      <th></th>\n",
       "      <th>retail_price</th>\n",
       "    </tr>\n",
       "    <tr>\n",
       "      <th></th>\n",
       "      <th>sum</th>\n",
       "    </tr>\n",
       "    <tr>\n",
       "      <th>willbuy</th>\n",
       "      <th></th>\n",
       "    </tr>\n",
       "  </thead>\n",
       "  <tbody>\n",
       "    <tr>\n",
       "      <th>0</th>\n",
       "      <td>523365.1</td>\n",
       "    </tr>\n",
       "    <tr>\n",
       "      <th>1</th>\n",
       "      <td>157418.2</td>\n",
       "    </tr>\n",
       "  </tbody>\n",
       "</table>\n",
       "</div>"
      ],
      "text/plain": [
       "        retail_price\n",
       "                 sum\n",
       "willbuy             \n",
       "0           523365.1\n",
       "1           157418.2"
      ]
     },
     "execution_count": 59,
     "metadata": {},
     "output_type": "execute_result"
    }
   ],
   "source": [
    "nma_copy[['willbuy', 'retail_price']].groupby(['willbuy']).agg(['sum'])"
   ]
  },
  {
   "cell_type": "code",
   "execution_count": 80,
   "metadata": {},
   "outputs": [],
   "source": [
    "nma_copy.to_csv(\"resultSales.csv\", sep=\",\")"
   ]
  },
  {
   "cell_type": "code",
   "execution_count": 79,
   "metadata": {},
   "outputs": [
    {
     "data": {
      "text/plain": [
       "33840.0"
      ]
     },
     "execution_count": 79,
     "metadata": {},
     "output_type": "execute_result"
    }
   ],
   "source": [
    "#next month shipping charge\n",
    "nmsc = nma_copy.shape[0] * 0.60\n",
    "nmsc"
   ]
  },
  {
   "cell_type": "markdown",
   "metadata": {},
   "source": [
    "### conclusion ###"
   ]
  },
  {
   "cell_type": "markdown",
   "metadata": {},
   "source": [
    "1. total amount we get by selling next month assortment = 1,57,418\n",
    "2. next month purchase order  = 24155.51\n",
    "3. total loan amount = 135546.42\n",
    "\n",
    "--------------------------------------------------------------------------------\n",
    "1. next month purchase order + total loan amount = 1,59,701.42\n",
    "2. shipping charge for next month assortment order = 33840.0\n",
    "3. amount including shipping order = 1,93,541\n",
    "\n",
    "---------------------------------------------------------------------------------\n",
    "\n",
    "#### Question ####\n",
    "\n",
    "Will we be able to both pay back our loan and afford our next book purchase order?\n",
    "\n",
    "So, the with the sales we made by next month assortment batch We can able to pay back our loan and afford next month purchase order.\n",
    "\n",
    "**No! with next batch sales we cannot payback our loan and next month book assortment. we need Rs:2,283 additional amount to pay back our loan**"
   ]
  },
  {
   "cell_type": "code",
   "execution_count": null,
   "metadata": {},
   "outputs": [],
   "source": []
  }
 ],
 "metadata": {
  "kernelspec": {
   "display_name": "Python 3",
   "language": "python",
   "name": "python3"
  },
  "language_info": {
   "codemirror_mode": {
    "name": "ipython",
    "version": 3
   },
   "file_extension": ".py",
   "mimetype": "text/x-python",
   "name": "python",
   "nbconvert_exporter": "python",
   "pygments_lexer": "ipython3",
   "version": "3.5.2"
  }
 },
 "nbformat": 4,
 "nbformat_minor": 2
}
