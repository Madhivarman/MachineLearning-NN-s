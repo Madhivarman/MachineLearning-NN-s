{
 "cells": [
  {
   "cell_type": "code",
   "execution_count": 1,
   "metadata": {},
   "outputs": [
    {
     "name": "stderr",
     "output_type": "stream",
     "text": [
      "c:\\users\\madhivarman\\appdata\\local\\programs\\python\\python35\\lib\\site-packages\\h5py\\__init__.py:36: FutureWarning: Conversion of the second argument of issubdtype from `float` to `np.floating` is deprecated. In future, it will be treated as `np.float64 == np.dtype(float).type`.\n",
      "  from ._conv import register_converters as _register_converters\n"
     ]
    }
   ],
   "source": [
    "from __future__ import absolute_import\n",
    "from __future__ import division\n",
    "from __future__ import print_function\n",
    "\n",
    "import os\n",
    "import urllib\n",
    "\n",
    "import numpy as np\n",
    "import tensorflow as tf"
   ]
  },
  {
   "cell_type": "code",
   "execution_count": 2,
   "metadata": {},
   "outputs": [],
   "source": [
    "IRIS_TRAINING = \"iris_training.csv\"\n",
    "IRIS_TEST = \"iris_test.csv\""
   ]
  },
  {
   "cell_type": "code",
   "execution_count": 3,
   "metadata": {},
   "outputs": [
    {
     "name": "stdout",
     "output_type": "stream",
     "text": [
      "WARNING:tensorflow:From c:\\users\\madhivarman\\appdata\\local\\programs\\python\\python35\\lib\\site-packages\\tensorflow\\contrib\\learn\\python\\learn\\datasets\\base.py:198: retry (from tensorflow.contrib.learn.python.learn.datasets.base) is deprecated and will be removed in a future version.\n",
      "Instructions for updating:\n",
      "Use the retry module or similar alternatives.\n",
      "WARNING:tensorflow:From <ipython-input-3-6078a7f9eca9>:4: load_csv_with_header (from tensorflow.contrib.learn.python.learn.datasets.base) is deprecated and will be removed in a future version.\n",
      "Instructions for updating:\n",
      "Use tf.data instead.\n"
     ]
    }
   ],
   "source": [
    "training_set = tf.contrib.learn.datasets.base.load_csv_with_header(\n",
    "      filename=IRIS_TRAINING,\n",
    "      target_dtype=np.int,\n",
    "      features_dtype=np.float32)\n",
    "test_set = tf.contrib.learn.datasets.base.load_csv_with_header(\n",
    "      filename=IRIS_TEST,\n",
    "      target_dtype=np.int,\n",
    "      features_dtype=np.float32)"
   ]
  },
  {
   "cell_type": "code",
   "execution_count": 4,
   "metadata": {},
   "outputs": [
    {
     "name": "stdout",
     "output_type": "stream",
     "text": [
      "INFO:tensorflow:Using default config.\n",
      "INFO:tensorflow:Using config: {'_tf_random_seed': None, '_save_summary_steps': 100, '_model_dir': '/tmp/iris_model', '_task_id': 0, '_cluster_spec': <tensorflow.python.training.server_lib.ClusterSpec object at 0x000001C59489ACC0>, '_service': None, '_master': '', '_save_checkpoints_secs': 600, '_distribute': None, '_log_step_count_steps': 100, '_keep_checkpoint_max': 5, '_evaluation_master': '', '_session_config': None, '_num_worker_replicas': 1, '_keep_checkpoint_every_n_hours': 10000, '_global_id_in_cluster': 0, '_task_type': 'worker', '_num_ps_replicas': 0, '_is_chief': True, '_save_checkpoints_steps': None}\n"
     ]
    }
   ],
   "source": [
    "feature_columns = [tf.feature_column.numeric_column(\"x\", shape=[4])]\n",
    "\n",
    "classifier = tf.estimator.DNNClassifier(feature_columns=feature_columns,\n",
    "                                          hidden_units=[10, 20, 10],\n",
    "                                          n_classes=3,\n",
    "                                          model_dir=\"/tmp/iris_model\")"
   ]
  },
  {
   "cell_type": "code",
   "execution_count": 5,
   "metadata": {},
   "outputs": [],
   "source": [
    "train_input_fn = tf.estimator.inputs.numpy_input_fn(\n",
    "      x={\"x\": np.array(training_set.data)},\n",
    "      y=np.array(training_set.target),\n",
    "      num_epochs=None,\n",
    "      shuffle=True)"
   ]
  },
  {
   "cell_type": "code",
   "execution_count": 6,
   "metadata": {},
   "outputs": [
    {
     "name": "stdout",
     "output_type": "stream",
     "text": [
      "INFO:tensorflow:Calling model_fn.\n",
      "INFO:tensorflow:Done calling model_fn.\n",
      "INFO:tensorflow:Create CheckpointSaverHook.\n",
      "INFO:tensorflow:Graph was finalized.\n",
      "INFO:tensorflow:Running local_init_op.\n",
      "INFO:tensorflow:Done running local_init_op.\n",
      "INFO:tensorflow:Saving checkpoints for 1 into /tmp/iris_model\\model.ckpt.\n",
      "INFO:tensorflow:step = 0, loss = 135.15689\n",
      "INFO:tensorflow:global_step/sec: 412.124\n",
      "INFO:tensorflow:step = 100, loss = 16.442427 (0.245 sec)\n",
      "INFO:tensorflow:global_step/sec: 560.303\n",
      "INFO:tensorflow:step = 200, loss = 7.3320417 (0.177 sec)\n",
      "INFO:tensorflow:global_step/sec: 566.669\n",
      "INFO:tensorflow:step = 300, loss = 4.5396166 (0.177 sec)\n",
      "INFO:tensorflow:global_step/sec: 566.67\n",
      "INFO:tensorflow:step = 400, loss = 17.312366 (0.175 sec)\n",
      "INFO:tensorflow:global_step/sec: 583.24\n",
      "INFO:tensorflow:step = 500, loss = 10.625735 (0.172 sec)\n",
      "INFO:tensorflow:global_step/sec: 557.172\n",
      "INFO:tensorflow:step = 600, loss = 9.442772 (0.179 sec)\n",
      "INFO:tensorflow:global_step/sec: 547.989\n",
      "INFO:tensorflow:step = 700, loss = 11.043751 (0.182 sec)\n",
      "INFO:tensorflow:global_step/sec: 566.673\n",
      "INFO:tensorflow:step = 800, loss = 7.6071773 (0.176 sec)\n",
      "INFO:tensorflow:global_step/sec: 557.171\n",
      "INFO:tensorflow:step = 900, loss = 4.5113335 (0.179 sec)\n",
      "INFO:tensorflow:global_step/sec: 557.122\n",
      "INFO:tensorflow:step = 1000, loss = 5.424781 (0.179 sec)\n",
      "INFO:tensorflow:global_step/sec: 586.727\n",
      "INFO:tensorflow:step = 1100, loss = 5.6476517 (0.170 sec)\n",
      "INFO:tensorflow:global_step/sec: 590.142\n",
      "INFO:tensorflow:step = 1200, loss = 10.975506 (0.169 sec)\n",
      "INFO:tensorflow:global_step/sec: 604.446\n",
      "INFO:tensorflow:step = 1300, loss = 11.5172615 (0.165 sec)\n",
      "INFO:tensorflow:global_step/sec: 627.262\n",
      "INFO:tensorflow:step = 1400, loss = 5.2327447 (0.158 sec)\n",
      "INFO:tensorflow:global_step/sec: 623.334\n",
      "INFO:tensorflow:step = 1500, loss = 5.6090374 (0.160 sec)\n",
      "INFO:tensorflow:global_step/sec: 615.644\n",
      "INFO:tensorflow:step = 1600, loss = 5.5376043 (0.163 sec)\n",
      "INFO:tensorflow:global_step/sec: 604.448\n",
      "INFO:tensorflow:step = 1700, loss = 4.6585445 (0.165 sec)\n",
      "INFO:tensorflow:global_step/sec: 635.249\n",
      "INFO:tensorflow:step = 1800, loss = 6.1025105 (0.157 sec)\n",
      "INFO:tensorflow:global_step/sec: 623.334\n",
      "INFO:tensorflow:step = 1900, loss = 7.7112203 (0.159 sec)\n",
      "INFO:tensorflow:Saving checkpoints for 2000 into /tmp/iris_model\\model.ckpt.\n",
      "INFO:tensorflow:Loss for final step: 4.0888524.\n"
     ]
    },
    {
     "data": {
      "text/plain": [
       "<tensorflow.python.estimator.canned.dnn.DNNClassifier at 0x1c59489abe0>"
      ]
     },
     "execution_count": 6,
     "metadata": {},
     "output_type": "execute_result"
    }
   ],
   "source": [
    "classifier.train(input_fn=train_input_fn, steps=2000)"
   ]
  },
  {
   "cell_type": "code",
   "execution_count": 7,
   "metadata": {},
   "outputs": [],
   "source": [
    "test_input_fn = tf.estimator.inputs.numpy_input_fn(\n",
    "      x={\"x\": np.array(test_set.data)},\n",
    "      y=np.array(test_set.target),\n",
    "      num_epochs=1,\n",
    "      shuffle=False)"
   ]
  },
  {
   "cell_type": "code",
   "execution_count": 8,
   "metadata": {},
   "outputs": [
    {
     "name": "stdout",
     "output_type": "stream",
     "text": [
      "INFO:tensorflow:Calling model_fn.\n",
      "INFO:tensorflow:Done calling model_fn.\n",
      "INFO:tensorflow:Starting evaluation at 2018-05-22-14:34:52\n",
      "INFO:tensorflow:Graph was finalized.\n",
      "INFO:tensorflow:Restoring parameters from /tmp/iris_model\\model.ckpt-2000\n",
      "INFO:tensorflow:Running local_init_op.\n",
      "INFO:tensorflow:Done running local_init_op.\n",
      "INFO:tensorflow:Finished evaluation at 2018-05-22-14:34:53\n",
      "INFO:tensorflow:Saving dict for global step 2000: accuracy = 0.96666664, average_loss = 0.05356307, global_step = 2000, loss = 1.6068921\n",
      "\n",
      "Test Accuracy: 0.966667\n",
      "\n"
     ]
    }
   ],
   "source": [
    "accuracy_score = classifier.evaluate(input_fn=test_input_fn)[\"accuracy\"]\n",
    "print(\"\\nTest Accuracy: {0:f}\\n\".format(accuracy_score))"
   ]
  },
  {
   "cell_type": "code",
   "execution_count": 11,
   "metadata": {},
   "outputs": [],
   "source": [
    "#classify two samples\n",
    "new_samples = np.array(\n",
    "      [[5.1, 3.5, 1.4, 0.2],\n",
    "       [6.3,2.5,3.9,1.1]], dtype=np.float32)\n",
    "\n",
    "predict_input_fn = tf.estimator.inputs.numpy_input_fn(\n",
    "      x={\"x\": new_samples},\n",
    "      num_epochs=1,\n",
    "      shuffle=False)"
   ]
  },
  {
   "cell_type": "code",
   "execution_count": 12,
   "metadata": {},
   "outputs": [
    {
     "name": "stdout",
     "output_type": "stream",
     "text": [
      "INFO:tensorflow:Calling model_fn.\n",
      "INFO:tensorflow:Done calling model_fn.\n",
      "INFO:tensorflow:Graph was finalized.\n",
      "INFO:tensorflow:Restoring parameters from /tmp/iris_model\\model.ckpt-2000\n",
      "INFO:tensorflow:Running local_init_op.\n",
      "INFO:tensorflow:Done running local_init_op.\n"
     ]
    }
   ],
   "source": [
    "predictions = list(classifier.predict(input_fn=predict_input_fn))\n",
    "predicted_classes = [p[\"classes\"] for p in predictions]"
   ]
  },
  {
   "cell_type": "code",
   "execution_count": 13,
   "metadata": {},
   "outputs": [
    {
     "name": "stdout",
     "output_type": "stream",
     "text": [
      "New Samples, Class Predictions:[array([b'0'], dtype=object), array([b'1'], dtype=object)]\n",
      "\n"
     ]
    }
   ],
   "source": [
    "print(\"New Samples, Class Predictions:{}\\n\".format(predicted_classes))\n"
   ]
  },
  {
   "cell_type": "markdown",
   "metadata": {},
   "source": [
    "First sample predicted as 1 => Iris Versicolor\n",
    "\n",
    "\n",
    "Second sample predicted as 2 => Iris virginicia"
   ]
  },
  {
   "cell_type": "code",
   "execution_count": null,
   "metadata": {},
   "outputs": [],
   "source": []
  }
 ],
 "metadata": {
  "kernelspec": {
   "display_name": "Python 3",
   "language": "python",
   "name": "python3"
  },
  "language_info": {
   "codemirror_mode": {
    "name": "ipython",
    "version": 3
   },
   "file_extension": ".py",
   "mimetype": "text/x-python",
   "name": "python",
   "nbconvert_exporter": "python",
   "pygments_lexer": "ipython3",
   "version": "3.5.2"
  }
 },
 "nbformat": 4,
 "nbformat_minor": 2
}
