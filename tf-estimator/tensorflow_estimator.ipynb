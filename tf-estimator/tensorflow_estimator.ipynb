{
 "cells": [
  {
   "cell_type": "code",
   "execution_count": 1,
   "metadata": {},
   "outputs": [
    {
     "name": "stderr",
     "output_type": "stream",
     "text": [
      "c:\\users\\madhivarman\\appdata\\local\\programs\\python\\python35\\lib\\site-packages\\h5py\\__init__.py:36: FutureWarning: Conversion of the second argument of issubdtype from `float` to `np.floating` is deprecated. In future, it will be treated as `np.float64 == np.dtype(float).type`.\n",
      "  from ._conv import register_converters as _register_converters\n"
     ]
    }
   ],
   "source": [
    "from __future__ import absolute_import\n",
    "from __future__ import division\n",
    "from __future__ import print_function\n",
    "\n",
    "import os\n",
    "import urllib\n",
    "\n",
    "import numpy as np\n",
    "import tensorflow as tf"
   ]
  },
  {
   "cell_type": "code",
   "execution_count": 2,
   "metadata": {},
   "outputs": [],
   "source": [
    "IRIS_TRAINING = \"iris_training.csv\"\n",
    "IRIS_TEST = \"iris_test.csv\""
   ]
  },
  {
   "cell_type": "code",
   "execution_count": 3,
   "metadata": {},
   "outputs": [
    {
     "name": "stdout",
     "output_type": "stream",
     "text": [
      "WARNING:tensorflow:From c:\\users\\madhivarman\\appdata\\local\\programs\\python\\python35\\lib\\site-packages\\tensorflow\\contrib\\learn\\python\\learn\\datasets\\base.py:198: retry (from tensorflow.contrib.learn.python.learn.datasets.base) is deprecated and will be removed in a future version.\n",
      "Instructions for updating:\n",
      "Use the retry module or similar alternatives.\n",
      "WARNING:tensorflow:From <ipython-input-3-6078a7f9eca9>:4: load_csv_with_header (from tensorflow.contrib.learn.python.learn.datasets.base) is deprecated and will be removed in a future version.\n",
      "Instructions for updating:\n",
      "Use tf.data instead.\n"
     ]
    }
   ],
   "source": [
    "training_set = tf.contrib.learn.datasets.base.load_csv_with_header(\n",
    "      filename=IRIS_TRAINING,\n",
    "      target_dtype=np.int,\n",
    "      features_dtype=np.float32)\n",
    "test_set = tf.contrib.learn.datasets.base.load_csv_with_header(\n",
    "      filename=IRIS_TEST,\n",
    "      target_dtype=np.int,\n",
    "      features_dtype=np.float32)"
   ]
  },
  {
   "cell_type": "code",
   "execution_count": 4,
   "metadata": {},
   "outputs": [
    {
     "name": "stdout",
     "output_type": "stream",
     "text": [
      "INFO:tensorflow:Using default config.\n",
      "INFO:tensorflow:Using config: {'_save_summary_steps': 100, '_keep_checkpoint_every_n_hours': 10000, '_cluster_spec': <tensorflow.python.training.server_lib.ClusterSpec object at 0x000002406564E1D0>, '_distribute': None, '_global_id_in_cluster': 0, '_save_checkpoints_secs': 600, '_session_config': None, '_master': '', '_task_type': 'worker', '_num_ps_replicas': 0, '_model_dir': '/tmp/iris_model', '_tf_random_seed': None, '_num_worker_replicas': 1, '_keep_checkpoint_max': 5, '_evaluation_master': '', '_task_id': 0, '_service': None, '_log_step_count_steps': 100, '_save_checkpoints_steps': None, '_is_chief': True}\n"
     ]
    }
   ],
   "source": [
    "feature_columns = [tf.feature_column.numeric_column(\"x\", shape=[4])]\n",
    "\n",
    "classifier = tf.estimator.DNNClassifier(feature_columns=feature_columns,\n",
    "                                          hidden_units=[10, 20, 10],\n",
    "                                          n_classes=3,\n",
    "                                          model_dir=\"/tmp/iris_model\")"
   ]
  },
  {
   "cell_type": "code",
   "execution_count": 5,
   "metadata": {},
   "outputs": [],
   "source": [
    "train_input_fn = tf.estimator.inputs.numpy_input_fn(\n",
    "      x={\"x\": np.array(training_set.data)},\n",
    "      y=np.array(training_set.target),\n",
    "      num_epochs=None,\n",
    "      shuffle=True)"
   ]
  },
  {
   "cell_type": "code",
   "execution_count": 6,
   "metadata": {},
   "outputs": [
    {
     "name": "stdout",
     "output_type": "stream",
     "text": [
      "INFO:tensorflow:Calling model_fn.\n",
      "INFO:tensorflow:Done calling model_fn.\n",
      "INFO:tensorflow:Create CheckpointSaverHook.\n",
      "INFO:tensorflow:Graph was finalized.\n",
      "INFO:tensorflow:Restoring parameters from /tmp/iris_model\\model.ckpt-2000\n",
      "INFO:tensorflow:Running local_init_op.\n",
      "INFO:tensorflow:Done running local_init_op.\n",
      "INFO:tensorflow:Saving checkpoints for 2001 into /tmp/iris_model\\model.ckpt.\n",
      "INFO:tensorflow:step = 2000, loss = 5.778995\n",
      "INFO:tensorflow:global_step/sec: 439.358\n",
      "INFO:tensorflow:step = 2100, loss = 5.172195 (0.229 sec)\n",
      "INFO:tensorflow:global_step/sec: 557.172\n",
      "INFO:tensorflow:step = 2200, loss = 10.695717 (0.179 sec)\n",
      "INFO:tensorflow:global_step/sec: 586.671\n",
      "INFO:tensorflow:step = 2300, loss = 2.2121105 (0.171 sec)\n",
      "INFO:tensorflow:global_step/sec: 586.67\n",
      "INFO:tensorflow:step = 2400, loss = 4.7929983 (0.170 sec)\n",
      "INFO:tensorflow:global_step/sec: 586.67\n",
      "INFO:tensorflow:step = 2500, loss = 1.5334904 (0.170 sec)\n",
      "INFO:tensorflow:global_step/sec: 583.24\n",
      "INFO:tensorflow:step = 2600, loss = 4.602829 (0.171 sec)\n",
      "INFO:tensorflow:global_step/sec: 600.808\n",
      "INFO:tensorflow:step = 2700, loss = 6.631566 (0.166 sec)\n",
      "INFO:tensorflow:global_step/sec: 627.258\n",
      "INFO:tensorflow:step = 2800, loss = 2.9048007 (0.159 sec)\n",
      "INFO:tensorflow:global_step/sec: 619.467\n",
      "INFO:tensorflow:step = 2900, loss = 8.443099 (0.161 sec)\n",
      "INFO:tensorflow:global_step/sec: 533.336\n",
      "INFO:tensorflow:step = 3000, loss = 9.685358 (0.188 sec)\n",
      "INFO:tensorflow:global_step/sec: 435.512\n",
      "INFO:tensorflow:step = 3100, loss = 7.6308694 (0.231 sec)\n",
      "INFO:tensorflow:global_step/sec: 545.008\n",
      "INFO:tensorflow:step = 3200, loss = 3.9305782 (0.182 sec)\n",
      "INFO:tensorflow:global_step/sec: 631.227\n",
      "INFO:tensorflow:step = 3300, loss = 8.028358 (0.158 sec)\n",
      "INFO:tensorflow:global_step/sec: 627.256\n",
      "INFO:tensorflow:step = 3400, loss = 3.4212933 (0.158 sec)\n",
      "INFO:tensorflow:global_step/sec: 619.466\n",
      "INFO:tensorflow:step = 3500, loss = 6.389938 (0.162 sec)\n",
      "INFO:tensorflow:global_step/sec: 615.642\n",
      "INFO:tensorflow:step = 3600, loss = 7.0309925 (0.161 sec)\n",
      "INFO:tensorflow:global_step/sec: 627.257\n",
      "INFO:tensorflow:step = 3700, loss = 1.441752 (0.160 sec)\n",
      "INFO:tensorflow:global_step/sec: 608.136\n",
      "INFO:tensorflow:step = 3800, loss = 4.3493066 (0.163 sec)\n",
      "INFO:tensorflow:global_step/sec: 619.465\n",
      "INFO:tensorflow:step = 3900, loss = 3.5667582 (0.161 sec)\n",
      "INFO:tensorflow:Saving checkpoints for 4000 into /tmp/iris_model\\model.ckpt.\n",
      "INFO:tensorflow:Loss for final step: 5.3013787.\n"
     ]
    },
    {
     "data": {
      "text/plain": [
       "<tensorflow.python.estimator.canned.dnn.DNNClassifier at 0x240679cf898>"
      ]
     },
     "execution_count": 6,
     "metadata": {},
     "output_type": "execute_result"
    }
   ],
   "source": [
    "classifier.train(input_fn=train_input_fn, steps=2000)"
   ]
  },
  {
   "cell_type": "code",
   "execution_count": 7,
   "metadata": {},
   "outputs": [],
   "source": [
    "test_input_fn = tf.estimator.inputs.numpy_input_fn(\n",
    "      x={\"x\": np.array(test_set.data)},\n",
    "      y=np.array(test_set.target),\n",
    "      num_epochs=1,\n",
    "      shuffle=False)"
   ]
  },
  {
   "cell_type": "code",
   "execution_count": 8,
   "metadata": {},
   "outputs": [
    {
     "name": "stdout",
     "output_type": "stream",
     "text": [
      "INFO:tensorflow:Calling model_fn.\n",
      "INFO:tensorflow:Done calling model_fn.\n",
      "INFO:tensorflow:Starting evaluation at 2018-05-22-14:09:12\n",
      "INFO:tensorflow:Graph was finalized.\n",
      "INFO:tensorflow:Restoring parameters from /tmp/iris_model\\model.ckpt-4000\n",
      "INFO:tensorflow:Running local_init_op.\n",
      "INFO:tensorflow:Done running local_init_op.\n",
      "INFO:tensorflow:Finished evaluation at 2018-05-22-14:09:12\n",
      "INFO:tensorflow:Saving dict for global step 4000: accuracy = 0.96666664, average_loss = 0.08668006, global_step = 4000, loss = 2.6004019\n",
      "\n",
      "Test Accuracy: 0.966667\n",
      "\n"
     ]
    }
   ],
   "source": [
    "accuracy_score = classifier.evaluate(input_fn=test_input_fn)[\"accuracy\"]\n",
    "print(\"\\nTest Accuracy: {0:f}\\n\".format(accuracy_score))"
   ]
  },
  {
   "cell_type": "code",
   "execution_count": 9,
   "metadata": {},
   "outputs": [],
   "source": [
    "#classify two samples\n",
    "new_samples = np.array(\n",
    "      [[6.4, 3.2, 4.5, 1.5],\n",
    "       [5.8, 3.1, 5.0, 1.7]], dtype=np.float32)\n",
    "\n",
    "predict_input_fn = tf.estimator.inputs.numpy_input_fn(\n",
    "      x={\"x\": new_samples},\n",
    "      num_epochs=1,\n",
    "      shuffle=False)"
   ]
  },
  {
   "cell_type": "code",
   "execution_count": 10,
   "metadata": {},
   "outputs": [
    {
     "name": "stdout",
     "output_type": "stream",
     "text": [
      "INFO:tensorflow:Calling model_fn.\n",
      "INFO:tensorflow:Done calling model_fn.\n",
      "INFO:tensorflow:Graph was finalized.\n",
      "INFO:tensorflow:Restoring parameters from /tmp/iris_model\\model.ckpt-4000\n",
      "INFO:tensorflow:Running local_init_op.\n",
      "INFO:tensorflow:Done running local_init_op.\n"
     ]
    }
   ],
   "source": [
    "predictions = list(classifier.predict(input_fn=predict_input_fn))\n",
    "predicted_classes = [p[\"classes\"] for p in predictions]"
   ]
  },
  {
   "cell_type": "code",
   "execution_count": 11,
   "metadata": {},
   "outputs": [
    {
     "name": "stdout",
     "output_type": "stream",
     "text": [
      "New Samples, Class Predictions:[array([b'1'], dtype=object), array([b'1'], dtype=object)]\n",
      "\n"
     ]
    }
   ],
   "source": [
    "print(\"New Samples, Class Predictions:{}\\n\".format(predicted_classes))\n"
   ]
  },
  {
   "cell_type": "markdown",
   "metadata": {},
   "source": [
    "First sample predicted as 1 => Iris Versicolor\n",
    "\n",
    "\n",
    "Second sample predicted as 2 => Iris virginicia"
   ]
  },
  {
   "cell_type": "code",
   "execution_count": null,
   "metadata": {},
   "outputs": [],
   "source": []
  }
 ],
 "metadata": {
  "kernelspec": {
   "display_name": "Python 3",
   "language": "python",
   "name": "python3"
  },
  "language_info": {
   "codemirror_mode": {
    "name": "ipython",
    "version": 3
   },
   "file_extension": ".py",
   "mimetype": "text/x-python",
   "name": "python",
   "nbconvert_exporter": "python",
   "pygments_lexer": "ipython3",
   "version": "3.5.2"
  }
 },
 "nbformat": 4,
 "nbformat_minor": 2
}
