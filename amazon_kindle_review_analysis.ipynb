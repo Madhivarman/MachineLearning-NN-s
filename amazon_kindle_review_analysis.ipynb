{
 "cells": [
  {
   "cell_type": "markdown",
   "metadata": {},
   "source": [
    "### Amazon kindle Review Statistical Analysis and Visualization ###\n",
    "\n",
    "1. Sentiment Analysis\n",
    "2. finding outlier\n",
    "3. Statistical Analysis on comments per month/day/year\n",
    "4. Aspects that important to the review\n",
    "5. Frequency word calculation\n",
    "6. Visualization\n",
    "7. Correlation between authors/reviews"
   ]
  },
  {
   "cell_type": "code",
   "execution_count": 1,
   "metadata": {},
   "outputs": [],
   "source": [
    "#import necessary libraries\n",
    "import numpy as np\n",
    "import pandas as pd\n",
    "import matplotlib.pyplot as plt\n",
    "import seaborn as sb"
   ]
  },
  {
   "cell_type": "code",
   "execution_count": 2,
   "metadata": {},
   "outputs": [],
   "source": [
    "#read the data\n",
    "df = pd.read_csv('F:/Pucho-DataAnalysis/Round-1/kindle_review.csv')"
   ]
  },
  {
   "cell_type": "code",
   "execution_count": 3,
   "metadata": {},
   "outputs": [
    {
     "name": "stdout",
     "output_type": "stream",
     "text": [
      "<class 'pandas.core.frame.DataFrame'>\n",
      "RangeIndex: 980592 entries, 0 to 980591\n",
      "Data columns (total 13 columns):\n",
      "Unnamed: 0        980592 non-null int64\n",
      "asin              980592 non-null object\n",
      "helpfull          980592 non-null object\n",
      "overall           980498 non-null object\n",
      "reviewId          980592 non-null object\n",
      "review_text       975754 non-null object\n",
      "reviewerName      980530 non-null object\n",
      "summary           980290 non-null object\n",
      "unixReviewTime    980508 non-null object\n",
      "reviewTime        980592 non-null object\n",
      "review_year       980592 non-null int64\n",
      "review_month      980592 non-null int64\n",
      "review_date       980592 non-null int64\n",
      "dtypes: int64(4), object(9)\n",
      "memory usage: 97.3+ MB\n"
     ]
    }
   ],
   "source": [
    "#some information about csv file\n",
    "df.info()"
   ]
  },
  {
   "cell_type": "code",
   "execution_count": 4,
   "metadata": {},
   "outputs": [
    {
     "data": {
      "text/plain": [
       "(980592, 13)"
      ]
     },
     "execution_count": 4,
     "metadata": {},
     "output_type": "execute_result"
    }
   ],
   "source": [
    "#shape and size\n",
    "df.shape"
   ]
  },
  {
   "cell_type": "code",
   "execution_count": 5,
   "metadata": {},
   "outputs": [
    {
     "data": {
      "text/html": [
       "<div>\n",
       "<style scoped>\n",
       "    .dataframe tbody tr th:only-of-type {\n",
       "        vertical-align: middle;\n",
       "    }\n",
       "\n",
       "    .dataframe tbody tr th {\n",
       "        vertical-align: top;\n",
       "    }\n",
       "\n",
       "    .dataframe thead th {\n",
       "        text-align: right;\n",
       "    }\n",
       "</style>\n",
       "<table border=\"1\" class=\"dataframe\">\n",
       "  <thead>\n",
       "    <tr style=\"text-align: right;\">\n",
       "      <th></th>\n",
       "      <th>Unnamed: 0</th>\n",
       "      <th>asin</th>\n",
       "      <th>helpfull</th>\n",
       "      <th>overall</th>\n",
       "      <th>reviewId</th>\n",
       "      <th>review_text</th>\n",
       "      <th>reviewerName</th>\n",
       "      <th>summary</th>\n",
       "      <th>unixReviewTime</th>\n",
       "      <th>reviewTime</th>\n",
       "      <th>review_year</th>\n",
       "      <th>review_month</th>\n",
       "      <th>review_date</th>\n",
       "    </tr>\n",
       "  </thead>\n",
       "  <tbody>\n",
       "    <tr>\n",
       "      <th>0</th>\n",
       "      <td>0</td>\n",
       "      <td>B000F83SZQ</td>\n",
       "      <td>0, 0</td>\n",
       "      <td>5.0</td>\n",
       "      <td>A1F6404F1VG29J</td>\n",
       "      <td>I enjoy vintage books and movies so I enjoyed ...</td>\n",
       "      <td>Avidreader</td>\n",
       "      <td>Nice vintage story</td>\n",
       "      <td>1399248000</td>\n",
       "      <td>05- 5- 2014</td>\n",
       "      <td>2014</td>\n",
       "      <td>5</td>\n",
       "      <td>5</td>\n",
       "    </tr>\n",
       "    <tr>\n",
       "      <th>1</th>\n",
       "      <td>1</td>\n",
       "      <td>B000F83SZQ</td>\n",
       "      <td>2, 2</td>\n",
       "      <td>4.0</td>\n",
       "      <td>AN0N05A9LIJEQ</td>\n",
       "      <td>This book is a reissue of an old one; the auth...</td>\n",
       "      <td>critters</td>\n",
       "      <td>Different...</td>\n",
       "      <td>1388966400</td>\n",
       "      <td>01- 6- 2014</td>\n",
       "      <td>2014</td>\n",
       "      <td>1</td>\n",
       "      <td>6</td>\n",
       "    </tr>\n",
       "    <tr>\n",
       "      <th>2</th>\n",
       "      <td>2</td>\n",
       "      <td>B000F83SZQ</td>\n",
       "      <td>2, 2</td>\n",
       "      <td>4.0</td>\n",
       "      <td>A795DMNCJILA6</td>\n",
       "      <td>This was a fairly interesting read.  It had ol...</td>\n",
       "      <td>dot</td>\n",
       "      <td>Oldie</td>\n",
       "      <td>1396569600</td>\n",
       "      <td>04- 4- 2014</td>\n",
       "      <td>2014</td>\n",
       "      <td>4</td>\n",
       "      <td>4</td>\n",
       "    </tr>\n",
       "    <tr>\n",
       "      <th>3</th>\n",
       "      <td>3</td>\n",
       "      <td>B000F83SZQ</td>\n",
       "      <td>1, 1</td>\n",
       "      <td>5.0</td>\n",
       "      <td>A1FV0SX13TWVXQ</td>\n",
       "      <td>I'd never read any of the Amy Brewster mysteri...</td>\n",
       "      <td>Elaine H. Turley \\\"Montana Songbird\\</td>\n",
       "      <td>I really liked it.</td>\n",
       "      <td>1392768000</td>\n",
       "      <td>02-19- 2014</td>\n",
       "      <td>2014</td>\n",
       "      <td>2</td>\n",
       "      <td>19</td>\n",
       "    </tr>\n",
       "    <tr>\n",
       "      <th>4</th>\n",
       "      <td>4</td>\n",
       "      <td>B000F83SZQ</td>\n",
       "      <td>0, 1</td>\n",
       "      <td>4.0</td>\n",
       "      <td>A3SPTOKDG7WBLN</td>\n",
       "      <td>If you like period pieces - clothing, lingo, y...</td>\n",
       "      <td>Father Dowling Fan</td>\n",
       "      <td>Period Mystery</td>\n",
       "      <td>1395187200</td>\n",
       "      <td>03-19- 2014</td>\n",
       "      <td>2014</td>\n",
       "      <td>3</td>\n",
       "      <td>19</td>\n",
       "    </tr>\n",
       "  </tbody>\n",
       "</table>\n",
       "</div>"
      ],
      "text/plain": [
       "   Unnamed: 0        asin helpfull overall        reviewId  \\\n",
       "0           0  B000F83SZQ     0, 0     5.0  A1F6404F1VG29J   \n",
       "1           1  B000F83SZQ     2, 2     4.0   AN0N05A9LIJEQ   \n",
       "2           2  B000F83SZQ     2, 2     4.0   A795DMNCJILA6   \n",
       "3           3  B000F83SZQ     1, 1     5.0  A1FV0SX13TWVXQ   \n",
       "4           4  B000F83SZQ     0, 1     4.0  A3SPTOKDG7WBLN   \n",
       "\n",
       "                                         review_text  \\\n",
       "0  I enjoy vintage books and movies so I enjoyed ...   \n",
       "1  This book is a reissue of an old one; the auth...   \n",
       "2  This was a fairly interesting read.  It had ol...   \n",
       "3  I'd never read any of the Amy Brewster mysteri...   \n",
       "4  If you like period pieces - clothing, lingo, y...   \n",
       "\n",
       "                           reviewerName             summary unixReviewTime  \\\n",
       "0                            Avidreader  Nice vintage story     1399248000   \n",
       "1                              critters        Different...     1388966400   \n",
       "2                                   dot               Oldie     1396569600   \n",
       "3  Elaine H. Turley \\\"Montana Songbird\\  I really liked it.     1392768000   \n",
       "4                    Father Dowling Fan      Period Mystery     1395187200   \n",
       "\n",
       "    reviewTime  review_year  review_month  review_date  \n",
       "0  05- 5- 2014         2014             5            5  \n",
       "1  01- 6- 2014         2014             1            6  \n",
       "2  04- 4- 2014         2014             4            4  \n",
       "3  02-19- 2014         2014             2           19  \n",
       "4  03-19- 2014         2014             3           19  "
      ]
     },
     "execution_count": 5,
     "metadata": {},
     "output_type": "execute_result"
    }
   ],
   "source": [
    "df.head(5)"
   ]
  },
  {
   "cell_type": "code",
   "execution_count": 6,
   "metadata": {},
   "outputs": [
    {
     "data": {
      "text/html": [
       "<div>\n",
       "<style scoped>\n",
       "    .dataframe tbody tr th:only-of-type {\n",
       "        vertical-align: middle;\n",
       "    }\n",
       "\n",
       "    .dataframe tbody tr th {\n",
       "        vertical-align: top;\n",
       "    }\n",
       "\n",
       "    .dataframe thead th {\n",
       "        text-align: right;\n",
       "    }\n",
       "</style>\n",
       "<table border=\"1\" class=\"dataframe\">\n",
       "  <thead>\n",
       "    <tr style=\"text-align: right;\">\n",
       "      <th></th>\n",
       "      <th>asin</th>\n",
       "      <th>helpfull</th>\n",
       "      <th>overall</th>\n",
       "      <th>reviewId</th>\n",
       "      <th>review_text</th>\n",
       "      <th>reviewerName</th>\n",
       "      <th>summary</th>\n",
       "      <th>unixReviewTime</th>\n",
       "      <th>reviewTime</th>\n",
       "      <th>review_year</th>\n",
       "      <th>review_month</th>\n",
       "      <th>review_date</th>\n",
       "    </tr>\n",
       "  </thead>\n",
       "  <tbody>\n",
       "    <tr>\n",
       "      <th>0</th>\n",
       "      <td>B000F83SZQ</td>\n",
       "      <td>0, 0</td>\n",
       "      <td>5.0</td>\n",
       "      <td>A1F6404F1VG29J</td>\n",
       "      <td>I enjoy vintage books and movies so I enjoyed ...</td>\n",
       "      <td>Avidreader</td>\n",
       "      <td>Nice vintage story</td>\n",
       "      <td>1399248000</td>\n",
       "      <td>05- 5- 2014</td>\n",
       "      <td>2014</td>\n",
       "      <td>5</td>\n",
       "      <td>5</td>\n",
       "    </tr>\n",
       "    <tr>\n",
       "      <th>1</th>\n",
       "      <td>B000F83SZQ</td>\n",
       "      <td>2, 2</td>\n",
       "      <td>4.0</td>\n",
       "      <td>AN0N05A9LIJEQ</td>\n",
       "      <td>This book is a reissue of an old one; the auth...</td>\n",
       "      <td>critters</td>\n",
       "      <td>Different...</td>\n",
       "      <td>1388966400</td>\n",
       "      <td>01- 6- 2014</td>\n",
       "      <td>2014</td>\n",
       "      <td>1</td>\n",
       "      <td>6</td>\n",
       "    </tr>\n",
       "    <tr>\n",
       "      <th>2</th>\n",
       "      <td>B000F83SZQ</td>\n",
       "      <td>2, 2</td>\n",
       "      <td>4.0</td>\n",
       "      <td>A795DMNCJILA6</td>\n",
       "      <td>This was a fairly interesting read.  It had ol...</td>\n",
       "      <td>dot</td>\n",
       "      <td>Oldie</td>\n",
       "      <td>1396569600</td>\n",
       "      <td>04- 4- 2014</td>\n",
       "      <td>2014</td>\n",
       "      <td>4</td>\n",
       "      <td>4</td>\n",
       "    </tr>\n",
       "    <tr>\n",
       "      <th>3</th>\n",
       "      <td>B000F83SZQ</td>\n",
       "      <td>1, 1</td>\n",
       "      <td>5.0</td>\n",
       "      <td>A1FV0SX13TWVXQ</td>\n",
       "      <td>I'd never read any of the Amy Brewster mysteri...</td>\n",
       "      <td>Elaine H. Turley \\\"Montana Songbird\\</td>\n",
       "      <td>I really liked it.</td>\n",
       "      <td>1392768000</td>\n",
       "      <td>02-19- 2014</td>\n",
       "      <td>2014</td>\n",
       "      <td>2</td>\n",
       "      <td>19</td>\n",
       "    </tr>\n",
       "    <tr>\n",
       "      <th>4</th>\n",
       "      <td>B000F83SZQ</td>\n",
       "      <td>0, 1</td>\n",
       "      <td>4.0</td>\n",
       "      <td>A3SPTOKDG7WBLN</td>\n",
       "      <td>If you like period pieces - clothing, lingo, y...</td>\n",
       "      <td>Father Dowling Fan</td>\n",
       "      <td>Period Mystery</td>\n",
       "      <td>1395187200</td>\n",
       "      <td>03-19- 2014</td>\n",
       "      <td>2014</td>\n",
       "      <td>3</td>\n",
       "      <td>19</td>\n",
       "    </tr>\n",
       "  </tbody>\n",
       "</table>\n",
       "</div>"
      ],
      "text/plain": [
       "         asin helpfull overall        reviewId  \\\n",
       "0  B000F83SZQ     0, 0     5.0  A1F6404F1VG29J   \n",
       "1  B000F83SZQ     2, 2     4.0   AN0N05A9LIJEQ   \n",
       "2  B000F83SZQ     2, 2     4.0   A795DMNCJILA6   \n",
       "3  B000F83SZQ     1, 1     5.0  A1FV0SX13TWVXQ   \n",
       "4  B000F83SZQ     0, 1     4.0  A3SPTOKDG7WBLN   \n",
       "\n",
       "                                         review_text  \\\n",
       "0  I enjoy vintage books and movies so I enjoyed ...   \n",
       "1  This book is a reissue of an old one; the auth...   \n",
       "2  This was a fairly interesting read.  It had ol...   \n",
       "3  I'd never read any of the Amy Brewster mysteri...   \n",
       "4  If you like period pieces - clothing, lingo, y...   \n",
       "\n",
       "                           reviewerName             summary unixReviewTime  \\\n",
       "0                            Avidreader  Nice vintage story     1399248000   \n",
       "1                              critters        Different...     1388966400   \n",
       "2                                   dot               Oldie     1396569600   \n",
       "3  Elaine H. Turley \\\"Montana Songbird\\  I really liked it.     1392768000   \n",
       "4                    Father Dowling Fan      Period Mystery     1395187200   \n",
       "\n",
       "    reviewTime  review_year  review_month  review_date  \n",
       "0  05- 5- 2014         2014             5            5  \n",
       "1  01- 6- 2014         2014             1            6  \n",
       "2  04- 4- 2014         2014             4            4  \n",
       "3  02-19- 2014         2014             2           19  \n",
       "4  03-19- 2014         2014             3           19  "
      ]
     },
     "execution_count": 6,
     "metadata": {},
     "output_type": "execute_result"
    }
   ],
   "source": [
    "#drop the column 1 axis\n",
    "df = df.drop(df.columns[0],axis=1)\n",
    "df.head(5)"
   ]
  },
  {
   "cell_type": "code",
   "execution_count": 7,
   "metadata": {},
   "outputs": [
    {
     "data": {
      "image/png": "[encoded data removed]",
      "text/plain": [
       "<Figure size 432x288 with 1 Axes>"
      ]
     },
     "metadata": {},
     "output_type": "display_data"
    }
   ],
   "source": [
    "#lets visualize comments per year\n",
    "comments_per_year = df.groupby(\"review_year\").count()[\"review_text\"].plot.bar()\n",
    "comments_per_year.set_xticklabels(comments_per_year.get_xticklabels(),rotation=30)\n",
    "plt.title('COMMENTS PER YEAR')\n",
    "sb.set_context(font_scale=1)  #in year 2013 400000 product is reviewed"
   ]
  },
  {
   "cell_type": "code",
   "execution_count": 8,
   "metadata": {},
   "outputs": [
    {
     "data": {
      "image/png": "[encoded data removed]",
      "text/plain": [
       "<Figure size 432x288 with 1 Axes>"
      ]
     },
     "metadata": {},
     "output_type": "display_data"
    }
   ],
   "source": [
    "#now lets dig deeper on days/month\n",
    "comments_per_month = df.groupby(\"review_month\").count()[\"review_text\"].plot.bar()\n",
    "comments_per_month.set_xticklabels(comments_per_month.get_xticklabels(),rotation=30)\n",
    "plt.title('COMMENTS PER MONTH')\n",
    "sb.set_context(font_scale=1)"
   ]
  },
  {
   "cell_type": "code",
   "execution_count": 9,
   "metadata": {},
   "outputs": [
    {
     "data": {
      "text/plain": [
       "pandas.core.series.Series"
      ]
     },
     "execution_count": 9,
     "metadata": {},
     "output_type": "execute_result"
    }
   ],
   "source": [
    "#lets review users who most reviewed\n",
    "users_most_reviewed = df.groupby(\"reviewerName\").count()[\"review_text\"]\n",
    "type(users_most_reviewed)"
   ]
  },
  {
   "cell_type": "code",
   "execution_count": 10,
   "metadata": {},
   "outputs": [],
   "source": [
    "number_of_reviews = []\n",
    "for value in users_most_reviewed:\n",
    "    number_of_reviews.append(value)"
   ]
  },
  {
   "cell_type": "code",
   "execution_count": 11,
   "metadata": {},
   "outputs": [
    {
     "data": {
      "text/plain": [
       "55446"
      ]
     },
     "execution_count": 11,
     "metadata": {},
     "output_type": "execute_result"
    }
   ],
   "source": [
    "len(number_of_reviews)"
   ]
  },
  {
   "cell_type": "code",
   "execution_count": 12,
   "metadata": {},
   "outputs": [
    {
     "data": {
      "text/plain": [
       "[53719, 10389, 3087, 1171, 1023, 1007, 928, 844, 829, 778]"
      ]
     },
     "execution_count": 12,
     "metadata": {},
     "output_type": "execute_result"
    }
   ],
   "source": [
    "top_reviewers = sorted(number_of_reviews,reverse=True)[:10]\n",
    "top_reviewers"
   ]
  },
  {
   "cell_type": "code",
   "execution_count": 13,
   "metadata": {},
   "outputs": [
    {
     "data": {
      "text/plain": [
       "<Figure size 1440x1440 with 0 Axes>"
      ]
     },
     "metadata": {},
     "output_type": "display_data"
    }
   ],
   "source": [
    "plt.figure(figsize=(20,20))\n",
    "sb.set_style('whitegrid')\n",
    "\n",
    "most_reviewed = pd.DataFrame({'username':users_most_reviewed.index,\"no_of_reviews\":users_most_reviewed.values})"
   ]
  },
  {
   "cell_type": "code",
   "execution_count": 14,
   "metadata": {},
   "outputs": [
    {
     "data": {
      "text/html": [
       "<div>\n",
       "<style scoped>\n",
       "    .dataframe tbody tr th:only-of-type {\n",
       "        vertical-align: middle;\n",
       "    }\n",
       "\n",
       "    .dataframe tbody tr th {\n",
       "        vertical-align: top;\n",
       "    }\n",
       "\n",
       "    .dataframe thead th {\n",
       "        text-align: right;\n",
       "    }\n",
       "</style>\n",
       "<table border=\"1\" class=\"dataframe\">\n",
       "  <thead>\n",
       "    <tr style=\"text-align: right;\">\n",
       "      <th></th>\n",
       "      <th>no_of_reviews</th>\n",
       "      <th>username</th>\n",
       "    </tr>\n",
       "  </thead>\n",
       "  <tbody>\n",
       "    <tr>\n",
       "      <th>0</th>\n",
       "      <td>8</td>\n",
       "      <td>!!!DONNA!!!</td>\n",
       "    </tr>\n",
       "    <tr>\n",
       "      <th>1</th>\n",
       "      <td>5</td>\n",
       "      <td>#goodreads</td>\n",
       "    </tr>\n",
       "    <tr>\n",
       "      <th>2</th>\n",
       "      <td>22</td>\n",
       "      <td>#somanybooks</td>\n",
       "    </tr>\n",
       "    <tr>\n",
       "      <th>3</th>\n",
       "      <td>8</td>\n",
       "      <td>$ugar Bear</td>\n",
       "    </tr>\n",
       "    <tr>\n",
       "      <th>4</th>\n",
       "      <td>8</td>\n",
       "      <td>&amp;#10059; blbards1 &amp;#10059;</td>\n",
       "    </tr>\n",
       "  </tbody>\n",
       "</table>\n",
       "</div>"
      ],
      "text/plain": [
       "   no_of_reviews                    username\n",
       "0              8                 !!!DONNA!!!\n",
       "1              5                  #goodreads\n",
       "2             22                #somanybooks\n",
       "3              8                  $ugar Bear\n",
       "4              8  &#10059; blbards1 &#10059;"
      ]
     },
     "execution_count": 14,
     "metadata": {},
     "output_type": "execute_result"
    }
   ],
   "source": [
    "most_reviewed.head(5)"
   ]
  },
  {
   "cell_type": "code",
   "execution_count": 15,
   "metadata": {},
   "outputs": [
    {
     "data": {
      "text/html": [
       "<div>\n",
       "<style scoped>\n",
       "    .dataframe tbody tr th:only-of-type {\n",
       "        vertical-align: middle;\n",
       "    }\n",
       "\n",
       "    .dataframe tbody tr th {\n",
       "        vertical-align: top;\n",
       "    }\n",
       "\n",
       "    .dataframe thead th {\n",
       "        text-align: right;\n",
       "    }\n",
       "</style>\n",
       "<table border=\"1\" class=\"dataframe\">\n",
       "  <thead>\n",
       "    <tr style=\"text-align: right;\">\n",
       "      <th></th>\n",
       "      <th>no_of_reviews</th>\n",
       "      <th>username</th>\n",
       "    </tr>\n",
       "  </thead>\n",
       "  <tbody>\n",
       "    <tr>\n",
       "      <th>1175</th>\n",
       "      <td>829</td>\n",
       "      <td>Alexis</td>\n",
       "    </tr>\n",
       "    <tr>\n",
       "      <th>1627</th>\n",
       "      <td>53719</td>\n",
       "      <td>Amazon Customer</td>\n",
       "    </tr>\n",
       "    <tr>\n",
       "      <th>24118</th>\n",
       "      <td>10389</td>\n",
       "      <td>Kindle Customer</td>\n",
       "    </tr>\n",
       "    <tr>\n",
       "      <th>25135</th>\n",
       "      <td>1171</td>\n",
       "      <td>LAS Reviewer \\\"The Long and the Short Of It Re...</td>\n",
       "    </tr>\n",
       "    <tr>\n",
       "      <th>26766</th>\n",
       "      <td>928</td>\n",
       "      <td>Lisa</td>\n",
       "    </tr>\n",
       "    <tr>\n",
       "      <th>28574</th>\n",
       "      <td>844</td>\n",
       "      <td>MNix</td>\n",
       "    </tr>\n",
       "    <tr>\n",
       "      <th>41325</th>\n",
       "      <td>1007</td>\n",
       "      <td>Stuart Powell</td>\n",
       "    </tr>\n",
       "    <tr>\n",
       "      <th>44532</th>\n",
       "      <td>1023</td>\n",
       "      <td>Unknown</td>\n",
       "    </tr>\n",
       "    <tr>\n",
       "      <th>46237</th>\n",
       "      <td>3087</td>\n",
       "      <td>[0</td>\n",
       "    </tr>\n",
       "    <tr>\n",
       "      <th>46568</th>\n",
       "      <td>778</td>\n",
       "      <td>andrewsheath</td>\n",
       "    </tr>\n",
       "  </tbody>\n",
       "</table>\n",
       "</div>"
      ],
      "text/plain": [
       "       no_of_reviews                                           username\n",
       "1175             829                                             Alexis\n",
       "1627           53719                                    Amazon Customer\n",
       "24118          10389                                    Kindle Customer\n",
       "25135           1171  LAS Reviewer \\\"The Long and the Short Of It Re...\n",
       "26766            928                                               Lisa\n",
       "28574            844                                               MNix\n",
       "41325           1007                                      Stuart Powell\n",
       "44532           1023                                            Unknown\n",
       "46237           3087                                                 [0\n",
       "46568            778                                       andrewsheath"
      ]
     },
     "execution_count": 15,
     "metadata": {},
     "output_type": "execute_result"
    }
   ],
   "source": [
    "user_name = most_reviewed[most_reviewed['no_of_reviews'].isin(top_reviewers)]\n",
    "user_name"
   ]
  },
  {
   "cell_type": "code",
   "execution_count": 16,
   "metadata": {},
   "outputs": [
    {
     "data": {
      "text/plain": [
       "Text(0.5,1,'USERS WHO REVIEWD MOST')"
      ]
     },
     "execution_count": 16,
     "metadata": {},
     "output_type": "execute_result"
    },
    {
     "data": {
      "image/png": "[encoded data removed]",
      "text/plain": [
       "<Figure size 432x288 with 1 Axes>"
      ]
     },
     "metadata": {},
     "output_type": "display_data"
    }
   ],
   "source": [
    "ax = sb.barplot(x='username',y='no_of_reviews',data = user_name)\n",
    "ax.set_xticklabels(ax.get_xticklabels(),rotation=50)\n",
    "plt.title('USERS WHO REVIEWD MOST')"
   ]
  },
  {
   "cell_type": "code",
   "execution_count": 17,
   "metadata": {},
   "outputs": [
    {
     "data": {
      "text/plain": [
       "Text(0.5,1,'OCCURENCE OF ASIN ID')"
      ]
     },
     "execution_count": 17,
     "metadata": {},
     "output_type": "execute_result"
    },
    {
     "data": {
      "image/png": "[encoded data removed]",
      "text/plain": [
       "<Figure size 360x360 with 1 Axes>"
      ]
     },
     "metadata": {},
     "output_type": "display_data"
    }
   ],
   "source": [
    "#occurence of asin in terms of ID\n",
    "plt.figure(figsize=(5,5))\n",
    "asin_id = df['asin'].value_counts().plot()\n",
    "asin_id.set_xticklabels(asin_id.get_xticklabels(),rotation=90)\n",
    "plt.title('OCCURENCE OF ASIN ID')"
   ]
  },
  {
   "cell_type": "code",
   "execution_count": 18,
   "metadata": {},
   "outputs": [
    {
     "data": {
      "text/plain": [
       "<matplotlib.axes._subplots.AxesSubplot at 0x1a9839d27f0>"
      ]
     },
     "execution_count": 18,
     "metadata": {},
     "output_type": "execute_result"
    },
    {
     "data": {
      "image/png": "[encoded data removed]",
      "text/plain": [
       "<Figure size 360x360 with 2 Axes>"
      ]
     },
     "metadata": {},
     "output_type": "display_data"
    }
   ],
   "source": [
    "#highest month user reviewed\n",
    "highest_month_user_reviewed = df.groupby([\"review_month\",\"review_year\"]).count()[\"review_text\"].unstack()\n",
    "plt.figure(figsize=(5,5))\n",
    "sb.heatmap(highest_month_user_reviewed,cmap='viridis')"
   ]
  },
  {
   "cell_type": "markdown",
   "metadata": {},
   "source": [
    "On month **May,June 2014** maximum kindle books are reviewed"
   ]
  },
  {
   "cell_type": "markdown",
   "metadata": {},
   "source": [
    "#### Visualizing how much reviews are helpfull #####\n",
    "visualizing how many comments are usefull. The representation **2,2** is out of 2 comments both 2 comments are useful. If **helpful** column has **0,10** out of 10 reviews **no reviews** are usefull to the customers"
   ]
  },
  {
   "cell_type": "code",
   "execution_count": 19,
   "metadata": {},
   "outputs": [
    {
     "data": {
      "text/plain": [
       "980592"
      ]
     },
     "execution_count": 19,
     "metadata": {},
     "output_type": "execute_result"
    }
   ],
   "source": [
    "#before we count the values, we need to preprocess the helpfull column to get insights\n",
    "helpfull = pd.Series(df[\"helpfull\"])\n",
    "len(helpfull)"
   ]
  },
  {
   "cell_type": "code",
   "execution_count": 20,
   "metadata": {},
   "outputs": [
    {
     "data": {
      "text/plain": [
       "739"
      ]
     },
     "execution_count": 20,
     "metadata": {},
     "output_type": "execute_result"
    }
   ],
   "source": [
    "import re\n",
    "\n",
    "rows_to_remove = []\n",
    "regex = '^[a-zA-Z]+'\n",
    "\n",
    "def isalpha(index,data):\n",
    "    boolvalue = False\n",
    "    \n",
    "    if re.match(regex,data):\n",
    "        boolvalue = True\n",
    "        return index,boolvalue\n",
    "    else:\n",
    "        return index,boolvalue\n",
    "    \n",
    "for index,value in enumerate(helpfull):\n",
    "    ind,boolvalue = isalpha(index,value)\n",
    "    if boolvalue == True:\n",
    "        rows_to_remove.append(index)\n",
    "\n",
    "len(rows_to_remove)"
   ]
  },
  {
   "cell_type": "code",
   "execution_count": 21,
   "metadata": {},
   "outputs": [
    {
     "data": {
      "text/plain": [
       "5854"
      ]
     },
     "execution_count": 21,
     "metadata": {},
     "output_type": "execute_result"
    }
   ],
   "source": [
    "rows_to_remove[5]"
   ]
  },
  {
   "cell_type": "code",
   "execution_count": 22,
   "metadata": {},
   "outputs": [
    {
     "data": {
      "text/plain": [
       "(980592, 12)"
      ]
     },
     "execution_count": 22,
     "metadata": {},
     "output_type": "execute_result"
    }
   ],
   "source": [
    "#now copy the df\n",
    "dup_df = df\n",
    "dup_df.shape"
   ]
  },
  {
   "cell_type": "code",
   "execution_count": 23,
   "metadata": {},
   "outputs": [],
   "source": [
    "dup_df = dup_df.drop(dup_df.index[rows_to_remove])"
   ]
  },
  {
   "cell_type": "code",
   "execution_count": 24,
   "metadata": {},
   "outputs": [
    {
     "data": {
      "text/plain": [
       "(979853, 12)"
      ]
     },
     "execution_count": 24,
     "metadata": {},
     "output_type": "execute_result"
    }
   ],
   "source": [
    "dup_df.shape"
   ]
  },
  {
   "cell_type": "code",
   "execution_count": 25,
   "metadata": {},
   "outputs": [
    {
     "data": {
      "text/plain": [
       "(979852, 12)"
      ]
     },
     "execution_count": 25,
     "metadata": {},
     "output_type": "execute_result"
    }
   ],
   "source": [
    "dup_df = dup_df.drop(dup_df.index[384])\n",
    "dup_df.shape"
   ]
  },
  {
   "cell_type": "code",
   "execution_count": 26,
   "metadata": {},
   "outputs": [
    {
     "data": {
      "text/plain": [
       "3862"
      ]
     },
     "execution_count": 26,
     "metadata": {},
     "output_type": "execute_result"
    }
   ],
   "source": [
    "#now take value_counts\n",
    "import string\n",
    "\n",
    "how_much_reviews_helpfull = pd.Series(dup_df['helpfull'])\n",
    "review_rank = []\n",
    "us_row = []\n",
    "for count,reviews in enumerate(how_much_reviews_helpfull):\n",
    "    #to check if string starts with alphanumeric\n",
    "    alpha = string.ascii_letters\n",
    "    if reviews.startswith(alpha) or reviews.startswith('\"') or reviews.startswith(\"'\"):\n",
    "        us_row.append(count)\n",
    "\n",
    "len(us_row)"
   ]
  },
  {
   "cell_type": "code",
   "execution_count": 27,
   "metadata": {},
   "outputs": [
    {
     "data": {
      "text/plain": [
       "(975990, 12)"
      ]
     },
     "execution_count": 27,
     "metadata": {},
     "output_type": "execute_result"
    }
   ],
   "source": [
    "dup_df = dup_df.drop(dup_df.index[us_row])\n",
    "dup_df.shape"
   ]
  },
  {
   "cell_type": "code",
   "execution_count": 35,
   "metadata": {},
   "outputs": [
    {
     "data": {
      "text/html": [
       "<div>\n",
       "<style scoped>\n",
       "    .dataframe tbody tr th:only-of-type {\n",
       "        vertical-align: middle;\n",
       "    }\n",
       "\n",
       "    .dataframe tbody tr th {\n",
       "        vertical-align: top;\n",
       "    }\n",
       "\n",
       "    .dataframe thead th {\n",
       "        text-align: right;\n",
       "    }\n",
       "</style>\n",
       "<table border=\"1\" class=\"dataframe\">\n",
       "  <thead>\n",
       "    <tr style=\"text-align: right;\">\n",
       "      <th></th>\n",
       "      <th>asin</th>\n",
       "      <th>helpfull</th>\n",
       "      <th>overall</th>\n",
       "      <th>reviewId</th>\n",
       "      <th>review_text</th>\n",
       "      <th>reviewerName</th>\n",
       "      <th>summary</th>\n",
       "      <th>unixReviewTime</th>\n",
       "      <th>reviewTime</th>\n",
       "      <th>review_year</th>\n",
       "      <th>review_month</th>\n",
       "      <th>review_date</th>\n",
       "    </tr>\n",
       "  </thead>\n",
       "  <tbody>\n",
       "    <tr>\n",
       "      <th>25</th>\n",
       "      <td>B000FBFMVG</td>\n",
       "      <td>0, 0</td>\n",
       "      <td>5.0</td>\n",
       "      <td>A3AZH0OO0GUAI3</td>\n",
       "      <td>Really shouldn't have Han Solo on the cover as...</td>\n",
       "      <td>Amazon Customer</td>\n",
       "      <td>An interesting short story.</td>\n",
       "      <td>1392422400</td>\n",
       "      <td>02-15- 2014</td>\n",
       "      <td>2014</td>\n",
       "      <td>2</td>\n",
       "      <td>15</td>\n",
       "    </tr>\n",
       "    <tr>\n",
       "      <th>137</th>\n",
       "      <td>B000JMKX4W</td>\n",
       "      <td>0, 0</td>\n",
       "      <td>4.0</td>\n",
       "      <td>A3L37OKQ8YTJQ5</td>\n",
       "      <td>I guess his diary was just like anybodies. It ...</td>\n",
       "      <td>Amazon Customer</td>\n",
       "      <td>Diary of a Nobody</td>\n",
       "      <td>1379462400</td>\n",
       "      <td>09-18- 2013</td>\n",
       "      <td>2013</td>\n",
       "      <td>9</td>\n",
       "      <td>18</td>\n",
       "    </tr>\n",
       "    <tr>\n",
       "      <th>138</th>\n",
       "      <td>B000JMKX4W</td>\n",
       "      <td>0, 0</td>\n",
       "      <td>3.0</td>\n",
       "      <td>A1SD8Y9Q1KESLB</td>\n",
       "      <td>It's funny. Definitely worth the price (free)....</td>\n",
       "      <td>Amazon Customer</td>\n",
       "      <td>Fun read</td>\n",
       "      <td>1386460800</td>\n",
       "      <td>12- 8- 2013</td>\n",
       "      <td>2013</td>\n",
       "      <td>12</td>\n",
       "      <td>8</td>\n",
       "    </tr>\n",
       "    <tr>\n",
       "      <th>149</th>\n",
       "      <td>B000JMKXYW</td>\n",
       "      <td>0, 0</td>\n",
       "      <td>3.0</td>\n",
       "      <td>A3L37OKQ8YTJQ5</td>\n",
       "      <td>It was an OK read although at sixty seven I fo...</td>\n",
       "      <td>Amazon Customer</td>\n",
       "      <td>Captain Stormfield's Visit to Heaven</td>\n",
       "      <td>1379462400</td>\n",
       "      <td>09-18- 2013</td>\n",
       "      <td>2013</td>\n",
       "      <td>9</td>\n",
       "      <td>18</td>\n",
       "    </tr>\n",
       "    <tr>\n",
       "      <th>178</th>\n",
       "      <td>B000JML2H4</td>\n",
       "      <td>0, 0</td>\n",
       "      <td>3.0</td>\n",
       "      <td>A38ZV2FL84EUF5</td>\n",
       "      <td>I thought it would be sweet to share these wit...</td>\n",
       "      <td>Amazon Customer</td>\n",
       "      <td>I prefer free form prayer</td>\n",
       "      <td>1354060800</td>\n",
       "      <td>11-28- 2012</td>\n",
       "      <td>2012</td>\n",
       "      <td>11</td>\n",
       "      <td>28</td>\n",
       "    </tr>\n",
       "  </tbody>\n",
       "</table>\n",
       "</div>"
      ],
      "text/plain": [
       "           asin helpfull overall        reviewId  \\\n",
       "25   B000FBFMVG     0, 0     5.0  A3AZH0OO0GUAI3   \n",
       "137  B000JMKX4W     0, 0     4.0  A3L37OKQ8YTJQ5   \n",
       "138  B000JMKX4W     0, 0     3.0  A1SD8Y9Q1KESLB   \n",
       "149  B000JMKXYW     0, 0     3.0  A3L37OKQ8YTJQ5   \n",
       "178  B000JML2H4     0, 0     3.0  A38ZV2FL84EUF5   \n",
       "\n",
       "                                           review_text     reviewerName  \\\n",
       "25   Really shouldn't have Han Solo on the cover as...  Amazon Customer   \n",
       "137  I guess his diary was just like anybodies. It ...  Amazon Customer   \n",
       "138  It's funny. Definitely worth the price (free)....  Amazon Customer   \n",
       "149  It was an OK read although at sixty seven I fo...  Amazon Customer   \n",
       "178  I thought it would be sweet to share these wit...  Amazon Customer   \n",
       "\n",
       "                                  summary unixReviewTime   reviewTime  \\\n",
       "25            An interesting short story.     1392422400  02-15- 2014   \n",
       "137                     Diary of a Nobody     1379462400  09-18- 2013   \n",
       "138                              Fun read     1386460800  12- 8- 2013   \n",
       "149  Captain Stormfield's Visit to Heaven     1379462400  09-18- 2013   \n",
       "178             I prefer free form prayer     1354060800  11-28- 2012   \n",
       "\n",
       "     review_year  review_month  review_date  \n",
       "25          2014             2           15  \n",
       "137         2013             9           18  \n",
       "138         2013            12            8  \n",
       "149         2013             9           18  \n",
       "178         2012            11           28  "
      ]
     },
     "execution_count": 35,
     "metadata": {},
     "output_type": "execute_result"
    }
   ],
   "source": [
    "#lets get more insights from amazon customer data\n",
    "most_reviewed_person = df[df['reviewerName'] == \"Amazon Customer\"]\n",
    "most_reviewed_person.head(5)"
   ]
  },
  {
   "cell_type": "code",
   "execution_count": 36,
   "metadata": {},
   "outputs": [
    {
     "data": {
      "text/plain": [
       "(4934,)"
      ]
     },
     "execution_count": 36,
     "metadata": {},
     "output_type": "execute_result"
    }
   ],
   "source": [
    "highest_id_reviews = most_reviewed_person.groupby([\"reviewId\"]).count()[\"review_year\"]\n",
    "highest_id_reviews.shape"
   ]
  },
  {
   "cell_type": "code",
   "execution_count": 37,
   "metadata": {},
   "outputs": [
    {
     "data": {
      "text/plain": [
       "Text(0.5,1,'MOST REVIEWED ID')"
      ]
     },
     "execution_count": 37,
     "metadata": {},
     "output_type": "execute_result"
    },
    {
     "data": {
      "image/png": "[encoded data removed]",
      "text/plain": [
       "<Figure size 720x720 with 1 Axes>"
      ]
     },
     "metadata": {},
     "output_type": "display_data"
    }
   ],
   "source": [
    "highest_id_df = pd.DataFrame({\"id\":highest_id_reviews.index,\"freq\":highest_id_reviews.values})\n",
    "h_freq = highest_id_df.sort_values(by=\"freq\",ascending=False)\n",
    "h_freq = h_freq.head(15)\n",
    "h_freq.set_index(\"id\",inplace=True)\n",
    "\n",
    "plt.style.use(\"ggplot\")\n",
    "sb.set(rc={\"figure.figsize\":(10,10)})\n",
    "h_freq.plot.barh() #to plot horizontally\n",
    "plt.title(\"MOST REVIEWED ID\")"
   ]
  },
  {
   "cell_type": "markdown",
   "metadata": {},
   "source": [
    "Let's visualize the aspects that most customer used in reviews"
   ]
  },
  {
   "cell_type": "code",
   "execution_count": 42,
   "metadata": {},
   "outputs": [],
   "source": [
    "from collections import Counter\n",
    "from nltk.tokenize import RegexpTokenizer\n",
    "from nltk import word_tokenize\n",
    "from nltk.corpus import stopwords\n",
    "import re\n",
    "\n",
    "top_n = 10\n",
    "stop_words = set(stopwords.words('english'))"
   ]
  },
  {
   "cell_type": "markdown",
   "metadata": {},
   "source": [
    "The data is too huge to load and tokenize all **review_text** to the variable. There are more that **(>900000)** rows in the dataset and while tokenizing those data it may lead to more than **2000000000** words, which is heavy data to load in the cache. So  we going to separate into small batch size and analyse the top 5 aspects in the each batch and its frequency."
   ]
  },
  {
   "cell_type": "code",
   "execution_count": 44,
   "metadata": {},
   "outputs": [
    {
     "data": {
      "text/plain": [
       "(980592, 12)"
      ]
     },
     "execution_count": 44,
     "metadata": {},
     "output_type": "execute_result"
    }
   ],
   "source": [
    "batch_size =  50000\n",
    "starting_point = 0\n",
    "total_iter = 20\n",
    "df.shape #so total data is 980592 which we need total 20 iterations"
   ]
  },
  {
   "cell_type": "code",
   "execution_count": 96,
   "metadata": {},
   "outputs": [],
   "source": [
    "import nltk\n",
    "\n",
    "def do_the_analysis(series_review_data):\n",
    "    columns = ['word','frequency']\n",
    "    word_tokens_tags = word_tokenize(series_review_data)\n",
    "    filtered_sentence = [w for w in word_tokens_tags if not w in stop_words]\n",
    "    #preprocessing\n",
    "    meaningfull_char = [words for words in filtered_sentence if len(words) > 3]\n",
    "    #remove numbers\n",
    "    remove_numerical_characters = [words for words in meaningfull_char if not words.isnumeric()]\n",
    "    #calculate frequency distribution\n",
    "    words_dist_tags = nltk.FreqDist(remove_numerical_characters)\n",
    "    mst_cmn = pd.DataFrame(words_dist_tags.most_common(top_n),columns=columns)\n",
    "    \n",
    "    #plot the graph\n",
    "    plt.figure(figsize=(10,10))\n",
    "    sb.set_style('whitegrid')\n",
    "    sb.barplot(x='word',y='frequency',data=mst_cmn.head(10))"
   ]
  },
  {
   "cell_type": "code",
   "execution_count": 97,
   "metadata": {},
   "outputs": [
    {
     "data": {
      "image/png": "[encoded data removed]",
      "text/plain": [
       "<Figure size 720x720 with 1 Axes>"
      ]
     },
     "metadata": {},
     "output_type": "display_data"
    }
   ],
   "source": [
    "reviews = df[\"review_text\"].iloc[0:50000]\n",
    "reviews = reviews.str.lower().str.cat(sep=' ')\n",
    "reviews = re.sub('[^A-Za-z+]',' ',reviews)\n",
    "\n",
    "do_the_analysis(reviews)"
   ]
  },
  {
   "cell_type": "markdown",
   "metadata": {},
   "source": [
    "Using same dataframe for different batches just append to the dataframe. For every batches we sort of need to **create a new dataframe with new name** to store top 10 words in each batch size. To do this, we need to introduce a **third variable** to create a different dataframe name."
   ]
  },
  {
   "cell_type": "code",
   "execution_count": 103,
   "metadata": {},
   "outputs": [
    {
     "name": "stdout",
     "output_type": "stream",
     "text": [
      "Finished Analysing Sentiment for 10000 data in dataframe\n",
      "Finished Analysing Sentiment for 20000 data in dataframe\n",
      "Finished Analysing Sentiment for 30000 data in dataframe\n",
      "Finished Analysing Sentiment for 40000 data in dataframe\n",
      "Finished Analysing Sentiment for 50000 data in dataframe\n",
      "Finished Analysing Sentiment for 60000 data in dataframe\n",
      "Finished Analysing Sentiment for 70000 data in dataframe\n",
      "Finished Analysing Sentiment for 80000 data in dataframe\n",
      "Finished Analysing Sentiment for 90000 data in dataframe\n",
      "Finished Analysing Sentiment for 100000 data in dataframe\n",
      "Finished Analysing Sentiment for 110000 data in dataframe\n",
      "Finished Analysing Sentiment for 120000 data in dataframe\n",
      "Finished Analysing Sentiment for 130000 data in dataframe\n",
      "Finished Analysing Sentiment for 140000 data in dataframe\n",
      "Finished Analysing Sentiment for 150000 data in dataframe\n",
      "Finished Analysing Sentiment for 160000 data in dataframe\n",
      "Finished Analysing Sentiment for 170000 data in dataframe\n",
      "Finished Analysing Sentiment for 180000 data in dataframe\n",
      "Finished Analysing Sentiment for 190000 data in dataframe\n",
      "Finished Analysing Sentiment for 200000 data in dataframe\n"
     ]
    },
    {
     "data": {
      "text/plain": [
       "Text(0.5,1,'SENTIMENT ANALYSIS FOR FIRST 200000 DESCRIPTION')"
      ]
     },
     "execution_count": 103,
     "metadata": {},
     "output_type": "execute_result"
    },
    {
     "data": {
      "image/png": "[encoded data removed]",
      "text/plain": [
       "<Figure size 720x720 with 1 Axes>"
      ]
     },
     "metadata": {},
     "output_type": "display_data"
    }
   ],
   "source": [
    "#now calculate the sentiment analysis for review_text\n",
    "from textblob import TextBlob\n",
    "\n",
    "sentiment_list = list()\n",
    "description = df['review_text'].iloc[0:200000].astype(str)\n",
    "\n",
    "i=1\n",
    "for desc in description:\n",
    "    blob = TextBlob(desc)\n",
    "    sentiment_list.append((desc,blob.sentiment.polarity,blob.sentiment.subjectivity))\n",
    "    polarity_df = pd.DataFrame(sentiment_list,columns=['sentence','sentiment','polarity'])\n",
    "    \n",
    "    if i % 10000 == 0:\n",
    "        print(\"Finished Analysing Sentiment for {val} data in dataframe\".format(val=i))\n",
    "    \n",
    "    i+=1 #increment the value i\n",
    "      \n",
    "def f(polarity_df):\n",
    "     \n",
    "    if polarity_df['sentiment'] > 0:\n",
    "        val = 'Positive'\n",
    "    elif polarity_df['sentiment'] == 0:\n",
    "        val = 'Neutral'\n",
    "    else:\n",
    "        val = 'Negative'\n",
    "    \n",
    "    return val\n",
    "\n",
    "\n",
    "polarity_df['sentiment'] = polarity_df.apply(f,axis=1)\n",
    "sb.set_style('whitegrid')\n",
    "sb.countplot(x='sentiment',data=polarity_df)\n",
    "plt.title('SENTIMENT ANALYSIS FOR FIRST 200000 DESCRIPTION')"
   ]
  },
  {
   "cell_type": "code",
   "execution_count": 104,
   "metadata": {},
   "outputs": [],
   "source": [
    "#save the dataframe\n",
    "polarity_df.to_csv('sentiment_reviews.csv',sep=\",\")"
   ]
  },
  {
   "cell_type": "code",
   "execution_count": null,
   "metadata": {},
   "outputs": [],
   "source": []
  }
 ],
 "metadata": {
  "kernelspec": {
   "display_name": "Python 3",
   "language": "python",
   "name": "python3"
  },
  "language_info": {
   "codemirror_mode": {
    "name": "ipython",
    "version": 3
   },
   "file_extension": ".py",
   "mimetype": "text/x-python",
   "name": "python",
   "nbconvert_exporter": "python",
   "pygments_lexer": "ipython3",
   "version": "3.5.2"
  }
 },
 "nbformat": 4,
 "nbformat_minor": 2
}
