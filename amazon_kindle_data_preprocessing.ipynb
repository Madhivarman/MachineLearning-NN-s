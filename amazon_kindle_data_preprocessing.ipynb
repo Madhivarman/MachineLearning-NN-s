{
 "cells": [
  {
   "cell_type": "code",
   "execution_count": 104,
   "metadata": {},
   "outputs": [],
   "source": [
    "# import necessary libraries for the analysis\n",
    "\n",
    "import pandas as pd #for processing the data\n",
    "import numpy as np #linear algebra \n",
    "import json #to load json file\n",
    "import matplotlib.pyplot as plt #to plot the data\n",
    "import seaborn as sb\n",
    "\n",
    "%matplotlib inline"
   ]
  },
  {
   "cell_type": "code",
   "execution_count": 105,
   "metadata": {},
   "outputs": [],
   "source": [
    "#load the json file\n",
    "json_file = open('F:/Pucho-DataAnalysis/Round-1/kindle-reviews/kindle_reviews.json').read()\n",
    "#split by new line\n",
    "json_file = json_file.split(\"\\n\")"
   ]
  },
  {
   "cell_type": "markdown",
   "metadata": {},
   "source": [
    "so line 5 is **review description** and line 4 has data like **0,0,reviewText** and line 9 **\"01 6 2014\"** which is a same data instead of space split write - and their format is **month-date-year**"
   ]
  },
  {
   "cell_type": "code",
   "execution_count": 106,
   "metadata": {},
   "outputs": [
    {
     "data": {
      "text/plain": [
       "'{\"reviewerID\": \"AQZH7YTWQPOBE\", \"asin\": \"B000FA64PA\", \"reviewerName\": \"Enjolras\", \"helpful\": [0, 0], \"reviewText\": \"This is a short story focused on Darth Maul\\'s role in helping the Trade Federation gain a mining colony. It\\'s not bad, but it\\'s also nothing exceptional. It\\'s fairly short so we don\\'t really get to see any characters develop. The few events that do happen seem to go by quickly, including what should have been major battles. The story is included in the novelShadow Hunter (Star Wars Darth Maul), which is worth reading, so don\\'t bother to buy this one separately.\", \"overall\": 4.0, \"summary\": \"Not bad, not exceptional\", \"unixReviewTime\": 1297555200, \"reviewTime\": \"02 13, 2011\"}'"
      ]
     },
     "execution_count": 106,
     "metadata": {},
     "output_type": "execute_result"
    }
   ],
   "source": [
    "json_file[9]"
   ]
  },
  {
   "cell_type": "code",
   "execution_count": 107,
   "metadata": {},
   "outputs": [],
   "source": [
    "from collections import defaultdict\n",
    "import re\n",
    "\n",
    "json_dump_data = defaultdict(list)\n",
    "\n",
    "for index,review in enumerate(json_file):\n",
    "    data_split = review.split(':')\n",
    "    for index,values in enumerate(data_split):\n",
    "        if index == 0:\n",
    "            continue\n",
    "        else:\n",
    "            if index == 9:\n",
    "                json_dump_data[index].append(values)\n",
    "            elif index == 4:\n",
    "                json_dump_data[index].append(values)\n",
    "            elif index == 5:\n",
    "                json_dump_data[index].append(values[:-9])\n",
    "            else:\n",
    "                sample = values.split(\",\")\n",
    "                json_dump_data[index].append(sample[0])"
   ]
  },
  {
   "cell_type": "code",
   "execution_count": 108,
   "metadata": {},
   "outputs": [
    {
     "data": {
      "text/plain": [
       "' \"Michelle @ In Libris Veritas\"'"
      ]
     },
     "execution_count": 108,
     "metadata": {},
     "output_type": "execute_result"
    }
   ],
   "source": [
    "json_dump_data[3][67890]"
   ]
  },
  {
   "cell_type": "code",
   "execution_count": 109,
   "metadata": {},
   "outputs": [],
   "source": [
    "#now create a dataframe\n",
    "amazon_df = pd.DataFrame({'reviewId':json_dump_data[1],\n",
    "                          'asin':json_dump_data[2],\n",
    "                          'reviewerName':json_dump_data[3],\n",
    "                          'helpfull':json_dump_data[4],\n",
    "                          'review_text':json_dump_data[5],\n",
    "                          'overall':json_dump_data[6],\n",
    "                          'summary':json_dump_data[7],\n",
    "                         'unixReviewTime':json_dump_data[8]})"
   ]
  },
  {
   "cell_type": "code",
   "execution_count": 110,
   "metadata": {},
   "outputs": [
    {
     "data": {
      "text/plain": [
       "(982619, 8)"
      ]
     },
     "execution_count": 110,
     "metadata": {},
     "output_type": "execute_result"
    }
   ],
   "source": [
    "amazon_df.shape"
   ]
  },
  {
   "cell_type": "code",
   "execution_count": 111,
   "metadata": {},
   "outputs": [
    {
     "data": {
      "text/html": [
       "<div>\n",
       "<style scoped>\n",
       "    .dataframe tbody tr th:only-of-type {\n",
       "        vertical-align: middle;\n",
       "    }\n",
       "\n",
       "    .dataframe tbody tr th {\n",
       "        vertical-align: top;\n",
       "    }\n",
       "\n",
       "    .dataframe thead th {\n",
       "        text-align: right;\n",
       "    }\n",
       "</style>\n",
       "<table border=\"1\" class=\"dataframe\">\n",
       "  <thead>\n",
       "    <tr style=\"text-align: right;\">\n",
       "      <th></th>\n",
       "      <th>asin</th>\n",
       "      <th>helpfull</th>\n",
       "      <th>overall</th>\n",
       "      <th>reviewId</th>\n",
       "      <th>review_text</th>\n",
       "      <th>reviewerName</th>\n",
       "      <th>summary</th>\n",
       "      <th>unixReviewTime</th>\n",
       "    </tr>\n",
       "  </thead>\n",
       "  <tbody>\n",
       "    <tr>\n",
       "      <th>900</th>\n",
       "      <td>\"B000WCWUWM\"</td>\n",
       "      <td>[0, 0], \"reviewText\"</td>\n",
       "      <td>he's too cute to be true</td>\n",
       "      <td>\"A1RXR105ND8OSH\"</td>\n",
       "      <td>\"What I liked Layne and Dev, the leading pair...</td>\n",
       "      <td>\"manutwo\"</td>\n",
       "      <td>* The fight scene didn't satisfy me. It seemed...</td>\n",
       "      <td>4.0</td>\n",
       "    </tr>\n",
       "    <tr>\n",
       "      <th>901</th>\n",
       "      <td>\"B000WCWUWM\"</td>\n",
       "      <td>[0, 0], \"reviewText\"</td>\n",
       "      <td>1.0</td>\n",
       "      <td>\"A2CW87RLOPPQNX\"</td>\n",
       "      <td>\"After reading the sample for this I was disa...</td>\n",
       "      <td>\"readerofmanybooks\"</td>\n",
       "      <td>\"Don't buy\"</td>\n",
       "      <td>1313712000</td>\n",
       "    </tr>\n",
       "    <tr>\n",
       "      <th>902</th>\n",
       "      <td>\"B000WCWUWM\"</td>\n",
       "      <td>[0, 0], \"reviewText\"</td>\n",
       "      <td>4.0</td>\n",
       "      <td>\"A22B7YJ2U9SKJK\"</td>\n",
       "      <td>\"Fans of the \\\"with\\\" series should recognise...</td>\n",
       "      <td>\"Rina\"</td>\n",
       "      <td>\"Not bad if you know the series\"</td>\n",
       "      <td>1383091200</td>\n",
       "    </tr>\n",
       "    <tr>\n",
       "      <th>903</th>\n",
       "      <td>\"B000WCWUWM\"</td>\n",
       "      <td>[0, 0], \"reviewText\"</td>\n",
       "      <td>4.0</td>\n",
       "      <td>\"A1N3GNCJWXQ1ZP\"</td>\n",
       "      <td>\"J. L. Langley created a wonderful world of w...</td>\n",
       "      <td>\"Robert Carnevali \\\"Typical</td>\n",
       "      <td>\"A great take on werewolf/shifter love and ro...</td>\n",
       "      <td>1276214400</td>\n",
       "    </tr>\n",
       "    <tr>\n",
       "      <th>904</th>\n",
       "      <td>\"B000WCWUWM\"</td>\n",
       "      <td>[5, 5], \"reviewText\"</td>\n",
       "      <td>3.0</td>\n",
       "      <td>\"A1LB6RLZCNTGJ0\"</td>\n",
       "      <td>\"I read the first story in this series and th...</td>\n",
       "      <td>\"Shelby P\"</td>\n",
       "      <td>\"I Could Have Done \\\"Without\\\" This Story\"</td>\n",
       "      <td>1311552000</td>\n",
       "    </tr>\n",
       "    <tr>\n",
       "      <th>905</th>\n",
       "      <td>\"B000WCWUWM\"</td>\n",
       "      <td>[0, 0], \"reviewText\"</td>\n",
       "      <td>5.0</td>\n",
       "      <td>\"A29T92HFUVM2NT\"</td>\n",
       "      <td>\"I like this type of story were love conquers...</td>\n",
       "      <td>\"Soft Cover C\"</td>\n",
       "      <td>\"Short &amp; Sweet\"</td>\n",
       "      <td>1291420800</td>\n",
       "    </tr>\n",
       "    <tr>\n",
       "      <th>906</th>\n",
       "      <td>\"B000WCWUWM\"</td>\n",
       "      <td>[0, 0], \"reviewText\"</td>\n",
       "      <td>3.0</td>\n",
       "      <td>\"A3MT311233OHMQ\"</td>\n",
       "      <td>\"This story jumped right in with both feet an...</td>\n",
       "      <td>\"Sophia Rose \\\"Guest Reviewer for Delighted R...</td>\n",
       "      <td>\"Quick Fun Read That Jumps Right in With the ...</td>\n",
       "      <td>1352419200</td>\n",
       "    </tr>\n",
       "    <tr>\n",
       "      <th>907</th>\n",
       "      <td>\"B000WCWUWM\"</td>\n",
       "      <td>[0, 1], \"reviewText\"</td>\n",
       "      <td>1.0</td>\n",
       "      <td>\"A1KWPH8LNF1NJQ\"</td>\n",
       "      <td>\"This book is so bad it's totally funny.  Tak...</td>\n",
       "      <td>\"Thimblina\"</td>\n",
       "      <td>\"Ridiculous\"</td>\n",
       "      <td>1338854400</td>\n",
       "    </tr>\n",
       "    <tr>\n",
       "      <th>908</th>\n",
       "      <td>\"B000WCWV30\"</td>\n",
       "      <td>[0, 0], \"reviewText\"</td>\n",
       "      <td>5.0</td>\n",
       "      <td>\"A1W0ZKR945Z1ZT\"</td>\n",
       "      <td>\"I loved this story!! The main character Amel...</td>\n",
       "      <td>\"Carmen \\\"Portillo Family\\\"\"</td>\n",
       "      <td>\"A rekindle of love.\"</td>\n",
       "      <td>1359158400</td>\n",
       "    </tr>\n",
       "    <tr>\n",
       "      <th>909</th>\n",
       "      <td>\"B000WCWV30\"</td>\n",
       "      <td>[3, 3], \"reviewText\"</td>\n",
       "      <td>5.0</td>\n",
       "      <td>\"A1NLZ3GQM63UYH\"</td>\n",
       "      <td>\"Lady Amelia has decided to take a lover. Ann...</td>\n",
       "      <td>\"Gina Hott \\\"Gina ~ Hott Books\\\"\"</td>\n",
       "      <td>\"Although this isn't on of her longer novels</td>\n",
       "      <td>1317686400</td>\n",
       "    </tr>\n",
       "  </tbody>\n",
       "</table>\n",
       "</div>"
      ],
      "text/plain": [
       "              asin               helpfull                    overall  \\\n",
       "900   \"B000WCWUWM\"   [0, 0], \"reviewText\"   he's too cute to be true   \n",
       "901   \"B000WCWUWM\"   [0, 0], \"reviewText\"                        1.0   \n",
       "902   \"B000WCWUWM\"   [0, 0], \"reviewText\"                        4.0   \n",
       "903   \"B000WCWUWM\"   [0, 0], \"reviewText\"                        4.0   \n",
       "904   \"B000WCWUWM\"   [5, 5], \"reviewText\"                        3.0   \n",
       "905   \"B000WCWUWM\"   [0, 0], \"reviewText\"                        5.0   \n",
       "906   \"B000WCWUWM\"   [0, 0], \"reviewText\"                        3.0   \n",
       "907   \"B000WCWUWM\"   [0, 1], \"reviewText\"                        1.0   \n",
       "908   \"B000WCWV30\"   [0, 0], \"reviewText\"                        5.0   \n",
       "909   \"B000WCWV30\"   [3, 3], \"reviewText\"                        5.0   \n",
       "\n",
       "              reviewId                                        review_text  \\\n",
       "900   \"A1RXR105ND8OSH\"   \"What I liked Layne and Dev, the leading pair...   \n",
       "901   \"A2CW87RLOPPQNX\"   \"After reading the sample for this I was disa...   \n",
       "902   \"A22B7YJ2U9SKJK\"   \"Fans of the \\\"with\\\" series should recognise...   \n",
       "903   \"A1N3GNCJWXQ1ZP\"   \"J. L. Langley created a wonderful world of w...   \n",
       "904   \"A1LB6RLZCNTGJ0\"   \"I read the first story in this series and th...   \n",
       "905   \"A29T92HFUVM2NT\"   \"I like this type of story were love conquers...   \n",
       "906   \"A3MT311233OHMQ\"   \"This story jumped right in with both feet an...   \n",
       "907   \"A1KWPH8LNF1NJQ\"   \"This book is so bad it's totally funny.  Tak...   \n",
       "908   \"A1W0ZKR945Z1ZT\"   \"I loved this story!! The main character Amel...   \n",
       "909   \"A1NLZ3GQM63UYH\"   \"Lady Amelia has decided to take a lover. Ann...   \n",
       "\n",
       "                                          reviewerName  \\\n",
       "900                                          \"manutwo\"   \n",
       "901                                \"readerofmanybooks\"   \n",
       "902                                             \"Rina\"   \n",
       "903                        \"Robert Carnevali \\\"Typical   \n",
       "904                                         \"Shelby P\"   \n",
       "905                                     \"Soft Cover C\"   \n",
       "906   \"Sophia Rose \\\"Guest Reviewer for Delighted R...   \n",
       "907                                        \"Thimblina\"   \n",
       "908                       \"Carmen \\\"Portillo Family\\\"\"   \n",
       "909                  \"Gina Hott \\\"Gina ~ Hott Books\\\"\"   \n",
       "\n",
       "                                               summary unixReviewTime  \n",
       "900  * The fight scene didn't satisfy me. It seemed...            4.0  \n",
       "901                                        \"Don't buy\"     1313712000  \n",
       "902                   \"Not bad if you know the series\"     1383091200  \n",
       "903   \"A great take on werewolf/shifter love and ro...     1276214400  \n",
       "904         \"I Could Have Done \\\"Without\\\" This Story\"     1311552000  \n",
       "905                                    \"Short & Sweet\"     1291420800  \n",
       "906   \"Quick Fun Read That Jumps Right in With the ...     1352419200  \n",
       "907                                       \"Ridiculous\"     1338854400  \n",
       "908                              \"A rekindle of love.\"     1359158400  \n",
       "909       \"Although this isn't on of her longer novels     1317686400  "
      ]
     },
     "execution_count": 111,
     "metadata": {},
     "output_type": "execute_result"
    }
   ],
   "source": [
    "amazon_df.iloc[900:910]"
   ]
  },
  {
   "cell_type": "code",
   "execution_count": 112,
   "metadata": {},
   "outputs": [],
   "source": [
    "#remove \"reviewText from the dataframe\" column\n",
    "amazon_df['helpfull'] = amazon_df['helpfull'].map(lambda x: x.lstrip(' [ +').rstrip('\",reviewText ]+\"'))\n",
    "amazon_df['asin'] = amazon_df['asin'].map(lambda x:x.lstrip(' \" ').rstrip('\"\"'))\n",
    "amazon_df['reviewerName'] = amazon_df['reviewerName'].map(lambda x:x.lstrip(' \" ').rstrip(' \"\\\" '))\n",
    "amazon_df['summary'] = amazon_df['summary'].map(lambda x:x.lstrip(' \" ').rstrip('\"\"'))\n",
    "amazon_df['review_text'] = amazon_df['review_text'].map(lambda x:x.lstrip(' \" ').rstrip(' \". '))\n",
    "amazon_df['reviewId'] = amazon_df[\"reviewId\"].map(lambda x:x.lstrip(' \" ').rstrip(' \" '))"
   ]
  },
  {
   "cell_type": "code",
   "execution_count": 113,
   "metadata": {},
   "outputs": [
    {
     "data": {
      "text/html": [
       "<div>\n",
       "<style scoped>\n",
       "    .dataframe tbody tr th:only-of-type {\n",
       "        vertical-align: middle;\n",
       "    }\n",
       "\n",
       "    .dataframe tbody tr th {\n",
       "        vertical-align: top;\n",
       "    }\n",
       "\n",
       "    .dataframe thead th {\n",
       "        text-align: right;\n",
       "    }\n",
       "</style>\n",
       "<table border=\"1\" class=\"dataframe\">\n",
       "  <thead>\n",
       "    <tr style=\"text-align: right;\">\n",
       "      <th></th>\n",
       "      <th>asin</th>\n",
       "      <th>helpfull</th>\n",
       "      <th>overall</th>\n",
       "      <th>reviewId</th>\n",
       "      <th>review_text</th>\n",
       "      <th>reviewerName</th>\n",
       "      <th>summary</th>\n",
       "      <th>unixReviewTime</th>\n",
       "    </tr>\n",
       "  </thead>\n",
       "  <tbody>\n",
       "    <tr>\n",
       "      <th>0</th>\n",
       "      <td>B000F83SZQ</td>\n",
       "      <td>0, 0</td>\n",
       "      <td>5.0</td>\n",
       "      <td>A1F6404F1VG29J</td>\n",
       "      <td>I enjoy vintage books and movies so I enjoyed ...</td>\n",
       "      <td>Avidreader</td>\n",
       "      <td>Nice vintage story</td>\n",
       "      <td>1399248000</td>\n",
       "    </tr>\n",
       "    <tr>\n",
       "      <th>1</th>\n",
       "      <td>B000F83SZQ</td>\n",
       "      <td>2, 2</td>\n",
       "      <td>4.0</td>\n",
       "      <td>AN0N05A9LIJEQ</td>\n",
       "      <td>This book is a reissue of an old one; the auth...</td>\n",
       "      <td>critters</td>\n",
       "      <td>Different...</td>\n",
       "      <td>1388966400</td>\n",
       "    </tr>\n",
       "    <tr>\n",
       "      <th>2</th>\n",
       "      <td>B000F83SZQ</td>\n",
       "      <td>2, 2</td>\n",
       "      <td>4.0</td>\n",
       "      <td>A795DMNCJILA6</td>\n",
       "      <td>This was a fairly interesting read.  It had ol...</td>\n",
       "      <td>dot</td>\n",
       "      <td>Oldie</td>\n",
       "      <td>1396569600</td>\n",
       "    </tr>\n",
       "    <tr>\n",
       "      <th>3</th>\n",
       "      <td>B000F83SZQ</td>\n",
       "      <td>1, 1</td>\n",
       "      <td>5.0</td>\n",
       "      <td>A1FV0SX13TWVXQ</td>\n",
       "      <td>I'd never read any of the Amy Brewster mysteri...</td>\n",
       "      <td>Elaine H. Turley \\\"Montana Songbird\\</td>\n",
       "      <td>I really liked it.</td>\n",
       "      <td>1392768000</td>\n",
       "    </tr>\n",
       "    <tr>\n",
       "      <th>4</th>\n",
       "      <td>B000F83SZQ</td>\n",
       "      <td>0, 1</td>\n",
       "      <td>4.0</td>\n",
       "      <td>A3SPTOKDG7WBLN</td>\n",
       "      <td>If you like period pieces - clothing, lingo, y...</td>\n",
       "      <td>Father Dowling Fan</td>\n",
       "      <td>Period Mystery</td>\n",
       "      <td>1395187200</td>\n",
       "    </tr>\n",
       "  </tbody>\n",
       "</table>\n",
       "</div>"
      ],
      "text/plain": [
       "         asin helpfull overall        reviewId  \\\n",
       "0  B000F83SZQ     0, 0     5.0  A1F6404F1VG29J   \n",
       "1  B000F83SZQ     2, 2     4.0   AN0N05A9LIJEQ   \n",
       "2  B000F83SZQ     2, 2     4.0   A795DMNCJILA6   \n",
       "3  B000F83SZQ     1, 1     5.0  A1FV0SX13TWVXQ   \n",
       "4  B000F83SZQ     0, 1     4.0  A3SPTOKDG7WBLN   \n",
       "\n",
       "                                         review_text  \\\n",
       "0  I enjoy vintage books and movies so I enjoyed ...   \n",
       "1  This book is a reissue of an old one; the auth...   \n",
       "2  This was a fairly interesting read.  It had ol...   \n",
       "3  I'd never read any of the Amy Brewster mysteri...   \n",
       "4  If you like period pieces - clothing, lingo, y...   \n",
       "\n",
       "                           reviewerName             summary unixReviewTime  \n",
       "0                            Avidreader  Nice vintage story     1399248000  \n",
       "1                              critters        Different...     1388966400  \n",
       "2                                   dot               Oldie     1396569600  \n",
       "3  Elaine H. Turley \\\"Montana Songbird\\  I really liked it.     1392768000  \n",
       "4                    Father Dowling Fan      Period Mystery     1395187200  "
      ]
     },
     "execution_count": 113,
     "metadata": {},
     "output_type": "execute_result"
    }
   ],
   "source": [
    "amazon_df.head(5)"
   ]
  },
  {
   "cell_type": "code",
   "execution_count": 114,
   "metadata": {},
   "outputs": [
    {
     "name": "stdout",
     "output_type": "stream",
     "text": [
      "<class 'pandas.core.frame.DataFrame'>\n",
      "RangeIndex: 982619 entries, 0 to 982618\n",
      "Data columns (total 8 columns):\n",
      "asin              982619 non-null object\n",
      "helpfull          982619 non-null object\n",
      "overall           982619 non-null object\n",
      "reviewId          982619 non-null object\n",
      "review_text       982619 non-null object\n",
      "reviewerName      982619 non-null object\n",
      "summary           982619 non-null object\n",
      "unixReviewTime    982619 non-null object\n",
      "dtypes: object(8)\n",
      "memory usage: 60.0+ MB\n"
     ]
    }
   ],
   "source": [
    "#Data is little clean now, now we have to check if there is any null data\n",
    "amazon_df.info()"
   ]
  },
  {
   "cell_type": "code",
   "execution_count": 115,
   "metadata": {},
   "outputs": [],
   "source": [
    "#add time to the dataframe\n",
    "review_time = []\n",
    "for time in json_file:\n",
    "    review_time.append(time[-14:])"
   ]
  },
  {
   "cell_type": "code",
   "execution_count": 116,
   "metadata": {},
   "outputs": [],
   "source": [
    "amazon_df['reviewTime'] = review_time"
   ]
  },
  {
   "cell_type": "code",
   "execution_count": 117,
   "metadata": {},
   "outputs": [
    {
     "data": {
      "text/plain": [
       "pandas.core.series.Series"
      ]
     },
     "execution_count": 117,
     "metadata": {},
     "output_type": "execute_result"
    }
   ],
   "source": [
    "amazon_df['reviewTime'] = amazon_df[\"reviewTime\"].map(lambda x:x.lstrip(' \" ').rstrip(' \"}'))\n",
    "reviewTime = pd.Series(amazon_df['reviewTime'])\n",
    "type(reviewTime)"
   ]
  },
  {
   "cell_type": "code",
   "execution_count": 118,
   "metadata": {},
   "outputs": [],
   "source": [
    "reviewTimeNew = []\n",
    "for reviewtime in reviewTime:\n",
    "    data = reviewtime.replace(',','-')\n",
    "    data = data[:2]+\"-\"+data[-8:]\n",
    "    reviewTimeNew.append(data)"
   ]
  },
  {
   "cell_type": "code",
   "execution_count": 119,
   "metadata": {},
   "outputs": [
    {
     "data": {
      "text/plain": [
       "'05-17- 2011'"
      ]
     },
     "execution_count": 119,
     "metadata": {},
     "output_type": "execute_result"
    }
   ],
   "source": [
    "reviewTimeNew[23]"
   ]
  },
  {
   "cell_type": "code",
   "execution_count": 120,
   "metadata": {},
   "outputs": [
    {
     "data": {
      "text/html": [
       "<div>\n",
       "<style scoped>\n",
       "    .dataframe tbody tr th:only-of-type {\n",
       "        vertical-align: middle;\n",
       "    }\n",
       "\n",
       "    .dataframe tbody tr th {\n",
       "        vertical-align: top;\n",
       "    }\n",
       "\n",
       "    .dataframe thead th {\n",
       "        text-align: right;\n",
       "    }\n",
       "</style>\n",
       "<table border=\"1\" class=\"dataframe\">\n",
       "  <thead>\n",
       "    <tr style=\"text-align: right;\">\n",
       "      <th></th>\n",
       "      <th>asin</th>\n",
       "      <th>helpfull</th>\n",
       "      <th>overall</th>\n",
       "      <th>reviewId</th>\n",
       "      <th>review_text</th>\n",
       "      <th>reviewerName</th>\n",
       "      <th>summary</th>\n",
       "      <th>unixReviewTime</th>\n",
       "      <th>reviewTime</th>\n",
       "    </tr>\n",
       "  </thead>\n",
       "  <tbody>\n",
       "    <tr>\n",
       "      <th>0</th>\n",
       "      <td>B000F83SZQ</td>\n",
       "      <td>0, 0</td>\n",
       "      <td>5.0</td>\n",
       "      <td>A1F6404F1VG29J</td>\n",
       "      <td>I enjoy vintage books and movies so I enjoyed ...</td>\n",
       "      <td>Avidreader</td>\n",
       "      <td>Nice vintage story</td>\n",
       "      <td>1399248000</td>\n",
       "      <td>05- 5- 2014</td>\n",
       "    </tr>\n",
       "    <tr>\n",
       "      <th>1</th>\n",
       "      <td>B000F83SZQ</td>\n",
       "      <td>2, 2</td>\n",
       "      <td>4.0</td>\n",
       "      <td>AN0N05A9LIJEQ</td>\n",
       "      <td>This book is a reissue of an old one; the auth...</td>\n",
       "      <td>critters</td>\n",
       "      <td>Different...</td>\n",
       "      <td>1388966400</td>\n",
       "      <td>01- 6- 2014</td>\n",
       "    </tr>\n",
       "    <tr>\n",
       "      <th>2</th>\n",
       "      <td>B000F83SZQ</td>\n",
       "      <td>2, 2</td>\n",
       "      <td>4.0</td>\n",
       "      <td>A795DMNCJILA6</td>\n",
       "      <td>This was a fairly interesting read.  It had ol...</td>\n",
       "      <td>dot</td>\n",
       "      <td>Oldie</td>\n",
       "      <td>1396569600</td>\n",
       "      <td>04- 4- 2014</td>\n",
       "    </tr>\n",
       "    <tr>\n",
       "      <th>3</th>\n",
       "      <td>B000F83SZQ</td>\n",
       "      <td>1, 1</td>\n",
       "      <td>5.0</td>\n",
       "      <td>A1FV0SX13TWVXQ</td>\n",
       "      <td>I'd never read any of the Amy Brewster mysteri...</td>\n",
       "      <td>Elaine H. Turley \\\"Montana Songbird\\</td>\n",
       "      <td>I really liked it.</td>\n",
       "      <td>1392768000</td>\n",
       "      <td>02-19- 2014</td>\n",
       "    </tr>\n",
       "    <tr>\n",
       "      <th>4</th>\n",
       "      <td>B000F83SZQ</td>\n",
       "      <td>0, 1</td>\n",
       "      <td>4.0</td>\n",
       "      <td>A3SPTOKDG7WBLN</td>\n",
       "      <td>If you like period pieces - clothing, lingo, y...</td>\n",
       "      <td>Father Dowling Fan</td>\n",
       "      <td>Period Mystery</td>\n",
       "      <td>1395187200</td>\n",
       "      <td>03-19- 2014</td>\n",
       "    </tr>\n",
       "  </tbody>\n",
       "</table>\n",
       "</div>"
      ],
      "text/plain": [
       "         asin helpfull overall        reviewId  \\\n",
       "0  B000F83SZQ     0, 0     5.0  A1F6404F1VG29J   \n",
       "1  B000F83SZQ     2, 2     4.0   AN0N05A9LIJEQ   \n",
       "2  B000F83SZQ     2, 2     4.0   A795DMNCJILA6   \n",
       "3  B000F83SZQ     1, 1     5.0  A1FV0SX13TWVXQ   \n",
       "4  B000F83SZQ     0, 1     4.0  A3SPTOKDG7WBLN   \n",
       "\n",
       "                                         review_text  \\\n",
       "0  I enjoy vintage books and movies so I enjoyed ...   \n",
       "1  This book is a reissue of an old one; the auth...   \n",
       "2  This was a fairly interesting read.  It had ol...   \n",
       "3  I'd never read any of the Amy Brewster mysteri...   \n",
       "4  If you like period pieces - clothing, lingo, y...   \n",
       "\n",
       "                           reviewerName             summary unixReviewTime  \\\n",
       "0                            Avidreader  Nice vintage story     1399248000   \n",
       "1                              critters        Different...     1388966400   \n",
       "2                                   dot               Oldie     1396569600   \n",
       "3  Elaine H. Turley \\\"Montana Songbird\\  I really liked it.     1392768000   \n",
       "4                    Father Dowling Fan      Period Mystery     1395187200   \n",
       "\n",
       "    reviewTime  \n",
       "0  05- 5- 2014  \n",
       "1  01- 6- 2014  \n",
       "2  04- 4- 2014  \n",
       "3  02-19- 2014  \n",
       "4  03-19- 2014  "
      ]
     },
     "execution_count": 120,
     "metadata": {},
     "output_type": "execute_result"
    }
   ],
   "source": [
    "amazon_df[\"reviewTime\"] = reviewTimeNew #replace the column\n",
    "amazon_df.head()"
   ]
  },
  {
   "cell_type": "code",
   "execution_count": 121,
   "metadata": {},
   "outputs": [],
   "source": [
    "# we need to create Review Date,Month,Year for efficient analysis\n",
    "data_time_stamp = pd.Series(amazon_df['reviewTime'])\n",
    "#to store individual data list\n",
    "year = []\n",
    "month= []\n",
    "date = []\n",
    "\n",
    "for mdy in data_time_stamp:\n",
    "    data = mdy.split(\"-\")\n",
    "    month.append(data[0])\n",
    "    date.append(data[1])\n",
    "    year.append(data[2])"
   ]
  },
  {
   "cell_type": "code",
   "execution_count": 122,
   "metadata": {},
   "outputs": [
    {
     "data": {
      "text/html": [
       "<div>\n",
       "<style scoped>\n",
       "    .dataframe tbody tr th:only-of-type {\n",
       "        vertical-align: middle;\n",
       "    }\n",
       "\n",
       "    .dataframe tbody tr th {\n",
       "        vertical-align: top;\n",
       "    }\n",
       "\n",
       "    .dataframe thead th {\n",
       "        text-align: right;\n",
       "    }\n",
       "</style>\n",
       "<table border=\"1\" class=\"dataframe\">\n",
       "  <thead>\n",
       "    <tr style=\"text-align: right;\">\n",
       "      <th></th>\n",
       "      <th>asin</th>\n",
       "      <th>helpfull</th>\n",
       "      <th>overall</th>\n",
       "      <th>reviewId</th>\n",
       "      <th>review_text</th>\n",
       "      <th>reviewerName</th>\n",
       "      <th>summary</th>\n",
       "      <th>unixReviewTime</th>\n",
       "      <th>reviewTime</th>\n",
       "      <th>review_year</th>\n",
       "      <th>review_month</th>\n",
       "      <th>review_date</th>\n",
       "    </tr>\n",
       "  </thead>\n",
       "  <tbody>\n",
       "    <tr>\n",
       "      <th>0</th>\n",
       "      <td>B000F83SZQ</td>\n",
       "      <td>0, 0</td>\n",
       "      <td>5.0</td>\n",
       "      <td>A1F6404F1VG29J</td>\n",
       "      <td>I enjoy vintage books and movies so I enjoyed ...</td>\n",
       "      <td>Avidreader</td>\n",
       "      <td>Nice vintage story</td>\n",
       "      <td>1399248000</td>\n",
       "      <td>05- 5- 2014</td>\n",
       "      <td>2014</td>\n",
       "      <td>05</td>\n",
       "      <td>5</td>\n",
       "    </tr>\n",
       "    <tr>\n",
       "      <th>1</th>\n",
       "      <td>B000F83SZQ</td>\n",
       "      <td>2, 2</td>\n",
       "      <td>4.0</td>\n",
       "      <td>AN0N05A9LIJEQ</td>\n",
       "      <td>This book is a reissue of an old one; the auth...</td>\n",
       "      <td>critters</td>\n",
       "      <td>Different...</td>\n",
       "      <td>1388966400</td>\n",
       "      <td>01- 6- 2014</td>\n",
       "      <td>2014</td>\n",
       "      <td>01</td>\n",
       "      <td>6</td>\n",
       "    </tr>\n",
       "    <tr>\n",
       "      <th>2</th>\n",
       "      <td>B000F83SZQ</td>\n",
       "      <td>2, 2</td>\n",
       "      <td>4.0</td>\n",
       "      <td>A795DMNCJILA6</td>\n",
       "      <td>This was a fairly interesting read.  It had ol...</td>\n",
       "      <td>dot</td>\n",
       "      <td>Oldie</td>\n",
       "      <td>1396569600</td>\n",
       "      <td>04- 4- 2014</td>\n",
       "      <td>2014</td>\n",
       "      <td>04</td>\n",
       "      <td>4</td>\n",
       "    </tr>\n",
       "    <tr>\n",
       "      <th>3</th>\n",
       "      <td>B000F83SZQ</td>\n",
       "      <td>1, 1</td>\n",
       "      <td>5.0</td>\n",
       "      <td>A1FV0SX13TWVXQ</td>\n",
       "      <td>I'd never read any of the Amy Brewster mysteri...</td>\n",
       "      <td>Elaine H. Turley \\\"Montana Songbird\\</td>\n",
       "      <td>I really liked it.</td>\n",
       "      <td>1392768000</td>\n",
       "      <td>02-19- 2014</td>\n",
       "      <td>2014</td>\n",
       "      <td>02</td>\n",
       "      <td>19</td>\n",
       "    </tr>\n",
       "    <tr>\n",
       "      <th>4</th>\n",
       "      <td>B000F83SZQ</td>\n",
       "      <td>0, 1</td>\n",
       "      <td>4.0</td>\n",
       "      <td>A3SPTOKDG7WBLN</td>\n",
       "      <td>If you like period pieces - clothing, lingo, y...</td>\n",
       "      <td>Father Dowling Fan</td>\n",
       "      <td>Period Mystery</td>\n",
       "      <td>1395187200</td>\n",
       "      <td>03-19- 2014</td>\n",
       "      <td>2014</td>\n",
       "      <td>03</td>\n",
       "      <td>19</td>\n",
       "    </tr>\n",
       "  </tbody>\n",
       "</table>\n",
       "</div>"
      ],
      "text/plain": [
       "         asin helpfull overall        reviewId  \\\n",
       "0  B000F83SZQ     0, 0     5.0  A1F6404F1VG29J   \n",
       "1  B000F83SZQ     2, 2     4.0   AN0N05A9LIJEQ   \n",
       "2  B000F83SZQ     2, 2     4.0   A795DMNCJILA6   \n",
       "3  B000F83SZQ     1, 1     5.0  A1FV0SX13TWVXQ   \n",
       "4  B000F83SZQ     0, 1     4.0  A3SPTOKDG7WBLN   \n",
       "\n",
       "                                         review_text  \\\n",
       "0  I enjoy vintage books and movies so I enjoyed ...   \n",
       "1  This book is a reissue of an old one; the auth...   \n",
       "2  This was a fairly interesting read.  It had ol...   \n",
       "3  I'd never read any of the Amy Brewster mysteri...   \n",
       "4  If you like period pieces - clothing, lingo, y...   \n",
       "\n",
       "                           reviewerName             summary unixReviewTime  \\\n",
       "0                            Avidreader  Nice vintage story     1399248000   \n",
       "1                              critters        Different...     1388966400   \n",
       "2                                   dot               Oldie     1396569600   \n",
       "3  Elaine H. Turley \\\"Montana Songbird\\  I really liked it.     1392768000   \n",
       "4                    Father Dowling Fan      Period Mystery     1395187200   \n",
       "\n",
       "    reviewTime review_year review_month review_date  \n",
       "0  05- 5- 2014        2014           05           5  \n",
       "1  01- 6- 2014        2014           01           6  \n",
       "2  04- 4- 2014        2014           04           4  \n",
       "3  02-19- 2014        2014           02          19  \n",
       "4  03-19- 2014        2014           03          19  "
      ]
     },
     "execution_count": 122,
     "metadata": {},
     "output_type": "execute_result"
    }
   ],
   "source": [
    "amazon_df['review_year'] = year\n",
    "amazon_df['review_month'] = month\n",
    "amazon_df['review_date'] = date\n",
    "\n",
    "amazon_df.head()"
   ]
  },
  {
   "cell_type": "code",
   "execution_count": 123,
   "metadata": {},
   "outputs": [
    {
     "data": {
      "text/plain": [
       "pandas.core.series.Series"
      ]
     },
     "execution_count": 123,
     "metadata": {},
     "output_type": "execute_result"
    }
   ],
   "source": [
    "#still there are lot of string data present in the unixReviewTime, we going to eliminate those rows from the dataframe\n",
    "unixTimeFrame = pd.Series(amazon_df['unixReviewTime'])\n",
    "type(unixTimeFrame)"
   ]
  },
  {
   "cell_type": "code",
   "execution_count": 127,
   "metadata": {},
   "outputs": [],
   "source": [
    "result_unix_tf = []\n",
    "count = 1\n",
    "some_data = 11"
   ]
  },
  {
   "cell_type": "code",
   "execution_count": 128,
   "metadata": {},
   "outputs": [],
   "source": [
    "regex = '^[a-zA-Z]+'\n",
    "result_unix_tf = [] #clear the memory\n",
    "\n",
    "def isalpha(index,data):\n",
    "    boolvalue = False\n",
    "    \n",
    "    if re.match(regex,data):\n",
    "        boolvalue = True\n",
    "        return index,boolvalue\n",
    "    else:\n",
    "        return index,boolvalue\n",
    "\n",
    "drop_rows = [] #to drop all rows in the dataframe\n",
    "\n",
    "for index,value in enumerate(unixTimeFrame):\n",
    "    ind,boolvalue = isalpha(index,value)\n",
    "    \n",
    "    if boolvalue == True:\n",
    "        drop_rows.append(index)"
   ]
  },
  {
   "cell_type": "code",
   "execution_count": 129,
   "metadata": {},
   "outputs": [
    {
     "data": {
      "text/plain": [
       "862"
      ]
     },
     "execution_count": 129,
     "metadata": {},
     "output_type": "execute_result"
    }
   ],
   "source": [
    "drop_rows[3]"
   ]
  },
  {
   "cell_type": "code",
   "execution_count": 130,
   "metadata": {},
   "outputs": [],
   "source": [
    "#drop rows that have noisy data\n",
    "amazon_df = amazon_df.drop(amazon_df.index[drop_rows])"
   ]
  },
  {
   "cell_type": "code",
   "execution_count": 132,
   "metadata": {},
   "outputs": [
    {
     "data": {
      "text/plain": [
       "(980593, 12)"
      ]
     },
     "execution_count": 132,
     "metadata": {},
     "output_type": "execute_result"
    }
   ],
   "source": [
    "amazon_df.shape"
   ]
  },
  {
   "cell_type": "code",
   "execution_count": 133,
   "metadata": {},
   "outputs": [
    {
     "data": {
      "text/plain": [
       "(980592, 12)"
      ]
     },
     "execution_count": 133,
     "metadata": {},
     "output_type": "execute_result"
    }
   ],
   "source": [
    "amazon_df = amazon_df.drop(amazon_df.index[13])\n",
    "amazon_df.shape"
   ]
  },
  {
   "cell_type": "code",
   "execution_count": 134,
   "metadata": {},
   "outputs": [],
   "source": [
    "#save the file\n",
    "amazon_df.to_csv('kindle_review.csv',sep=\",\")"
   ]
  },
  {
   "cell_type": "code",
   "execution_count": 135,
   "metadata": {},
   "outputs": [
    {
     "data": {
      "text/plain": [
       "906    A3MT311233OHMQ\n",
       "907    A1KWPH8LNF1NJQ\n",
       "908    A1W0ZKR945Z1ZT\n",
       "909    A1NLZ3GQM63UYH\n",
       "910    A2YX1QL07CL7B8\n",
       "911    A1ZLRDFXEQFBLV\n",
       "912    A3EBJDZ5N1UEI5\n",
       "913    A36CNQTLRIL6LM\n",
       "914    A3JR6D5B9WF5J8\n",
       "915    A2YLHICVCWNNCC\n",
       "916    A1YFEYYDFZCLHL\n",
       "917     AWPN47SSWK1JV\n",
       "918    A16U0EYXN7WALA\n",
       "919    A3CRIAYI2EQ3S0\n",
       "920    A3KWUXU0F9U6O9\n",
       "921    A3F4TFY7766LQO\n",
       "922     AQA76AX85FU33\n",
       "923    A3CWYI90CBZD9G\n",
       "924    A2MFW0D6S1HV6Y\n",
       "925    A3RQGL2IJ1YODP\n",
       "926    A2HS439ICAGX2Y\n",
       "927    A1LWBT4OIUF49X\n",
       "928     ATLXNM5LYXLHQ\n",
       "929     A23DBYDZGF1D0\n",
       "930     AO79KZQM6WAAG\n",
       "931    A3MCPJ5MWRJ7QE\n",
       "932     AHRGDW27U6PUP\n",
       "933     A2RPZTZP8W80W\n",
       "934     AY6F4T8177PW1\n",
       "935    A2NCAUG4L75GTH\n",
       "            ...      \n",
       "956    A37DU46UVHGVNT\n",
       "957    A1FA4WVFVMBLZS\n",
       "958    A3CQFLIOMTS898\n",
       "959    A2LYK9EGBNXLCL\n",
       "960    A2QDZAXAJO32LX\n",
       "961    A3HZOYPO3CYECQ\n",
       "962    A2S240V8EUUZUR\n",
       "963    A33EMFFJOHSZYG\n",
       "964    A3TUHCWWTHE7RR\n",
       "965    A2UQGX6YMQ5BAL\n",
       "966    A1R72M38H80XO8\n",
       "967    A2NUHWMHA9XNKV\n",
       "968     A320TMDV6KCFU\n",
       "969    A2RYXURV8OLYEA\n",
       "970     ABNX7AFER0SHK\n",
       "971     AZHZZONN1SO6P\n",
       "972    A2AY83K9N60V38\n",
       "973    A2EM6O6EAMREAV\n",
       "974    A1PW5SQLR0Z6IH\n",
       "975    A36WJCEZEJMA0P\n",
       "976    A1IHSK7AZSG4UJ\n",
       "977    A1FTB3KM7X78OX\n",
       "978    A3MVKGNVN644UC\n",
       "979     AGGDI4VWPPZ6J\n",
       "980    A3AOYF3QNXJOAA\n",
       "981    A3C0WH1SKU906H\n",
       "982    A2RY1ZTS123A6J\n",
       "983     AVGYENZU56KBR\n",
       "984    A1IVBVMEUCSD5A\n",
       "985     A1B7DR0K0VCMM\n",
       "Name: reviewId, Length: 80, dtype: object"
      ]
     },
     "execution_count": 135,
     "metadata": {},
     "output_type": "execute_result"
    }
   ],
   "source": [
    "amazon_df[\"reviewId\"].iloc[900:910]"
   ]
  },
  {
   "cell_type": "code",
   "execution_count": null,
   "metadata": {},
   "outputs": [],
   "source": []
  }
 ],
 "metadata": {
  "kernelspec": {
   "display_name": "Python 3",
   "language": "python",
   "name": "python3"
  },
  "language_info": {
   "codemirror_mode": {
    "name": "ipython",
    "version": 3
   },
   "file_extension": ".py",
   "mimetype": "text/x-python",
   "name": "python",
   "nbconvert_exporter": "python",
   "pygments_lexer": "ipython3",
   "version": "3.5.2"
  }
 },
 "nbformat": 4,
 "nbformat_minor": 2
}
