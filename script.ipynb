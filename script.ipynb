{
 "cells": [
  {
   "cell_type": "markdown",
   "metadata": {
    "_uuid": "f9a69c5344bffbbbe09a1f35220971061aba679a"
   },
   "source": [
    "## Objective is To Analyze Entire Youtube(USA) Data of 2017-18\n"
   ]
  },
  {
   "cell_type": "markdown",
   "metadata": {
    "_uuid": "5e3bf37188a7cd943301eb434466e64a720bdaaf"
   },
   "source": [
    "**Notes**\n",
    "\n",
    "** I'm Not Droping Any Duplicate Columns**\n",
    "\n",
    "** I Try to Write Codes as Simple as I Can**\n",
    "\n",
    "** I Will Love to Listen From You for Further Enhancement**"
   ]
  },
  {
   "cell_type": "markdown",
   "metadata": {
    "_uuid": "24239fe1385e0126ce5986041b1d88b3f1a8ab0d"
   },
   "source": [
    "**Importing Useful Libarries**"
   ]
  },
  {
   "cell_type": "code",
   "execution_count": 2,
   "metadata": {
    "_uuid": "fcbadb5283aadc19428430026ef5a1e1305d93d6"
   },
   "outputs": [],
   "source": [
    "import numpy as np\n",
    "import pandas as pd\n",
    "import matplotlib.pyplot as plt\n",
    "import seaborn as sb\n",
    "import json\n",
    "%matplotlib inline"
   ]
  },
  {
   "cell_type": "markdown",
   "metadata": {
    "_uuid": "e5b6a2c46826ca786c0fa7ca71a0778eacb87a3f"
   },
   "source": [
    "**Reading The Data**"
   ]
  },
  {
   "cell_type": "code",
   "execution_count": null,
   "metadata": {
    "_uuid": "73ac35ca5abb8d8504f13a0d6c4647f4b0410ca0"
   },
   "outputs": [],
   "source": [
    "df1=pd.read_csv(\"../input/USvideos.csv\")\n",
    "df1.head(3)"
   ]
  },
  {
   "cell_type": "code",
   "execution_count": null,
   "metadata": {
    "_uuid": "deaa38d6d9be57a3e9a3755fc8e3483d887b07fa",
    "collapsed": true
   },
   "outputs": [],
   "source": [
    "#Here We're Importing and Process the Data From Json File To Get Our Categories  \n",
    "blank_category={}#This will hold entire data extracted from json file\n",
    "with open(\"../input/US_category_id.json\",\"r\") as d:#by creating a function I automate the task of data collection\n",
    "    data=json.load(d)\n",
    "    for category in data[\"items\"]:\n",
    "        blank_category[category[\"id\"]]=category[\"snippet\"][\"title\"]#it Stores the category id with category name"
   ]
  },
  {
   "cell_type": "code",
   "execution_count": null,
   "metadata": {
    "_uuid": "28720ea8f9c39bd263c1ca3b578aac975f29f1e0"
   },
   "outputs": [],
   "source": [
    "blank_category"
   ]
  },
  {
   "cell_type": "markdown",
   "metadata": {
    "_uuid": "8953af411cf858498138658f9c071cff723faf01"
   },
   "source": [
    "** Now Converting Trending Date and Publish_Time into Standard Pandas Data**"
   ]
  },
  {
   "cell_type": "code",
   "execution_count": null,
   "metadata": {
    "_uuid": "eede95b71e97a0a982ebe35c786a17966e37d59d",
    "collapsed": true
   },
   "outputs": [],
   "source": [
    "#The give format in \"trending_date\" column is not standardized so I need to mention it\n",
    "df1[\"trending_date\"]=pd.to_datetime(df1[\"trending_date\"],format=\"%y.%d.%m\")\n",
    "df1[\"publish_time\"]=pd.to_datetime(df1[\"publish_time\"])"
   ]
  },
  {
   "cell_type": "markdown",
   "metadata": {
    "_uuid": "26947111ea6697132b825ac1e5a03f1b0aa0c913"
   },
   "source": [
    "** Now Creating New Columns For Each Category**"
   ]
  },
  {
   "cell_type": "code",
   "execution_count": null,
   "metadata": {
    "_uuid": "d9f44b4b51baefd168733a9a2b91c9b9aef5a923",
    "collapsed": true
   },
   "outputs": [],
   "source": [
    "#By Creating New columns for each time category we can get insights in much efficient manner\n",
    "df1[\"Trending_Year\"]=df1[\"trending_date\"].apply(lambda time:time.year)\n",
    "df1[\"Trending_Month\"]=df1[\"trending_date\"].apply(lambda time:time.month)\n",
    "df1[\"Trending_Day\"]=df1[\"trending_date\"].apply(lambda time:time.day)\n",
    "df1[\"Trending_Day_of_Week\"]=df1[\"trending_date\"].apply(lambda time:time.dayofweek)\n",
    "df1[\"publish_Year\"]=df1[\"publish_time\"].apply(lambda time:time.year)\n",
    "df1[\"publish_Month\"]=df1[\"publish_time\"].apply(lambda time:time.month)\n",
    "df1[\"publish_Day\"]=df1[\"publish_time\"].apply(lambda time:time.day)\n",
    "df1[\"publish_Day_of_Week\"]=df1[\"publish_time\"].apply(lambda time:time.dayofweek)\n",
    "df1[\"Publish_Hour\"]=df1[\"publish_time\"].apply(lambda time:time.hour)"
   ]
  },
  {
   "cell_type": "code",
   "execution_count": null,
   "metadata": {
    "_uuid": "78567d68fb5fb7afcba25afcf973ddb948f70bfd"
   },
   "outputs": [],
   "source": [
    "df1.head(2)#New Data Frame Created But day of week in numeric format we need to convert it"
   ]
  },
  {
   "cell_type": "markdown",
   "metadata": {
    "_uuid": "5f4821e34beee79d4a440eb68e83c315855c6c1c"
   },
   "source": [
    "**Now Creating Map Function**"
   ]
  },
  {
   "cell_type": "code",
   "execution_count": null,
   "metadata": {
    "_uuid": "a92dd57cf684ad450c227babb1703fff2b2dc8c9"
   },
   "outputs": [],
   "source": [
    "dmap1 = {0:'Mon',1:'Tue',2:'Wed',3:'Thu',4:'Fri',5:'Sat',6:'Sun'}#We're Using this Dictionary to Map our column\n",
    "df1[\"publish_Day_of_Week\"]=df1[\"publish_Day_of_Week\"].map(dmap1)\n",
    "df1[\"Trending_Day_of_Week\"]=df1[\"Trending_Day_of_Week\"].map(dmap1)\n",
    "df1.head(2)#Checking Result"
   ]
  },
  {
   "cell_type": "markdown",
   "metadata": {
    "_uuid": "5f6e51b35a40ff9949558c343911492bed87a309"
   },
   "source": [
    "**Now Check The Data Set for Missing Values**"
   ]
  },
  {
   "cell_type": "code",
   "execution_count": null,
   "metadata": {
    "_uuid": "a9296449283b5bea311f419f6ec8bbce565e0e82"
   },
   "outputs": [],
   "source": [
    "df1.info()\n",
    "#This Data Set Has Negligible Missing Values Which Can Be Neglected For our Analysis"
   ]
  },
  {
   "cell_type": "markdown",
   "metadata": {
    "_uuid": "b74f1e2480bf20d9c4f084785dc7dfaf75dd5fac"
   },
   "source": [
    "**Now Converting Data Frame Columns into Suitable Format**"
   ]
  },
  {
   "cell_type": "code",
   "execution_count": null,
   "metadata": {
    "_uuid": "163219ccdce76784661b335c4a40dc40b0001897",
    "collapsed": true
   },
   "outputs": [],
   "source": [
    "list1=[\"views likes dislikes comment_count\".split()]\n",
    "for column in list1:\n",
    "    df1[column]=df1[column].astype(int)\n",
    "# We Need To Convert The Category_id into String,because later we're going to map it with data extracted from json file    \n",
    "list2=[\"category_id\"] \n",
    "for column in list2:\n",
    "    df1[column]=df1[column].astype(str)\n",
    "df1[\"Category\"]=df1[\"category_id\"].map(blank_category)#We've Created blank_category{} to store value from JSON file    "
   ]
  },
  {
   "cell_type": "markdown",
   "metadata": {
    "_uuid": "1e3d8908f28485e711d484b141499324cafa4a33"
   },
   "source": [
    "**Now Jump Into Visualization**"
   ]
  },
  {
   "cell_type": "code",
   "execution_count": null,
   "metadata": {
    "_uuid": "8945f96accfa67edc549d4cb25d018b6826bf328"
   },
   "outputs": [],
   "source": [
    "plt.style.use('ggplot')\n",
    "plt.figure(figsize=(8,8))\n",
    "list3=df1.groupby(\"Publish_Hour\").count()[\"Category\"].plot.bar()\n",
    "list3.set_xticklabels(list3.get_xticklabels(),rotation=30)\n",
    "plt.title(\"Publish Time of Videos\")\n",
    "sb.set_context(font_scale=1)"
   ]
  },
  {
   "cell_type": "markdown",
   "metadata": {
    "_uuid": "c39c1be1b2ead58d785f3f5d7f154a185b139f9b"
   },
   "source": [
    "- This Shows The Pattern How the Videos Uploaded on Particular Time"
   ]
  },
  {
   "cell_type": "code",
   "execution_count": null,
   "metadata": {
    "_uuid": "4f7726c233f705d78a17310dab7197138fd309c3"
   },
   "outputs": [],
   "source": [
    "list5=df1[df1[\"Publish_Hour\"]==17].groupby([\"Category\",\"publish_Day\"]).count()[\"video_id\"].unstack()\n",
    "plt.figure(figsize=(9,9))#You can Arrange The Size As Per Requirement\n",
    "sb.heatmap(list5)\n",
    "plt.title(\"Category v/s Date Published on 17 hours\")"
   ]
  },
  {
   "cell_type": "code",
   "execution_count": null,
   "metadata": {
    "_uuid": "2aab6941f3de15bd75b7bbf45aa4ba1bdf7345de"
   },
   "outputs": [],
   "source": [
    "plt.style.use('ggplot')\n",
    "plt.figure(figsize=(8,8))\n",
    "df1.groupby(\"Category\").count()[\"views\"].plot.bar()\n",
    "plt.title(\"Category Wise Uploads\")\n"
   ]
  },
  {
   "cell_type": "markdown",
   "metadata": {
    "_uuid": "3bc63be7eca213f4140224a8c3d413aaa2fe6f75"
   },
   "source": [
    "- \"Entertainment\" has the Highest Uploads "
   ]
  },
  {
   "cell_type": "code",
   "execution_count": null,
   "metadata": {
    "_uuid": "359828a61fc10e81ff316dbe7d37e9632847fc40"
   },
   "outputs": [],
   "source": [
    "plt.style.use('ggplot')\n",
    "sb.set(rc={\"figure.figsize\":(20,10)})\n",
    "df1[df1[\"Category\"]==\"Entertainment\"].groupby([\"views\",\"title\"]).count()[4108:][\"video_id\"].reset_index(\"views\").plot.bar()\n",
    "plt.title(\"Top 10 videos in Entertainment Category\")"
   ]
  },
  {
   "cell_type": "markdown",
   "metadata": {
    "_uuid": "f6b3ac85ac36ef1e230af9603a90e815ef8996e5"
   },
   "source": [
    "- As You Can See There're Lots of Duplicate Videos Which Trends Across Various Days\n",
    "- You Can Analyze Each Video,According To Trending Days"
   ]
  },
  {
   "cell_type": "code",
   "execution_count": null,
   "metadata": {
    "_uuid": "aec307a8b9d57cbe1dc282dec74d89047970b00a"
   },
   "outputs": [],
   "source": [
    "list6=sb.jointplot(x=\"publish_Day\",y=\"Trending_Day\",data=df1,size=8,kind=\"hex\")\n",
    "plt.title(\"Filter Out The Trending & Non Trending Videos\")"
   ]
  },
  {
   "cell_type": "code",
   "execution_count": null,
   "metadata": {
    "_uuid": "9b739ffdb00187c42bd8acee36f60d83756f0eb7"
   },
   "outputs": [],
   "source": [
    "plt.style.use('ggplot')\n",
    "plt.figure(figsize=(8,8))\n",
    "list7=df1[\"video_id\"].value_counts().plot()\n",
    "list7.set_xticklabels(list7.get_xticklabels(),rotation=90)\n",
    "plt.title(\"This Show The The Occurance of Video in term of Id\")"
   ]
  },
  {
   "cell_type": "code",
   "execution_count": null,
   "metadata": {
    "_uuid": "1f116bed67bd092d0f871aada1d81ac09de5671e"
   },
   "outputs": [],
   "source": [
    "plt.style.use('ggplot')\n",
    "list8=df1.groupby([\"publish_Month\",\"publish_Day_of_Week\"]).count()[\"video_id\"].unstack()\n",
    "plt.figure(figsize=(12,10))\n",
    "sb.heatmap(list8,cmap='viridis')"
   ]
  },
  {
   "cell_type": "markdown",
   "metadata": {
    "_uuid": "6babcbdc26f446565dc7ff9b1f1bfa1a69982ecb"
   },
   "source": [
    "**As We Can See Here in December Month's \"Friday\" highest no.of videos uploaded**\n",
    "\n",
    "**Same Process Can Be Done To Check the Date and Hour**"
   ]
  },
  {
   "cell_type": "markdown",
   "metadata": {
    "_uuid": "c1f6bff0e1064262b633d8387b24afb939e76c62"
   },
   "source": [
    "**Let's Find Top 10 Most Watched Video of 2017**"
   ]
  },
  {
   "cell_type": "code",
   "execution_count": null,
   "metadata": {
    "_uuid": "b3670652a417f2e687239c08a01721fe49f1da49"
   },
   "outputs": [],
   "source": [
    "list10=df1[[\"title\",\"views\"]].sort_values(by=\"views\",ascending=True)\n",
    "list10.drop_duplicates(\"title\",keep=\"last\",inplace=True)\n",
    "list11=list10.sort_values(by=\"views\",ascending=False)\n",
    "list12=list11.head(10)\n",
    "list12.set_index(\"title\",inplace=True)\n",
    "#I'm not eliminating any data from the Mian Data Frame\n",
    "#Instead I create a sub set for sake of simplicity\n",
    "plt.style.use('ggplot')\n",
    "sb.set(rc={\"figure.figsize\":(10,10)})\n",
    "list12.plot.barh()\n",
    "plt.title(\"Most Watched Video on YouTube\")\n",
    "#Same Technique Can Be Applied to Find Most Commented,Liked,disliked videos"
   ]
  },
  {
   "cell_type": "markdown",
   "metadata": {
    "_uuid": "5dea762ea12befb34a8353f87515f6303f0a42af"
   },
   "source": [
    "**Now Let's Check The Insights from \"Youtube Rewind Video\"**"
   ]
  },
  {
   "cell_type": "code",
   "execution_count": null,
   "metadata": {
    "_uuid": "aafb52daf59e0940f6aeb2014c68b2a2f946c181",
    "collapsed": true
   },
   "outputs": [],
   "source": [
    "#We Need To Grab The Location of The Video\n",
    "list13=df1[df1[\"title\"].str.match(\"YouTube Rewind\")]#.str.match will grab the titles have \"YouTube Rewind\""
   ]
  },
  {
   "cell_type": "code",
   "execution_count": null,
   "metadata": {
    "_uuid": "870c48d2b01a2f65364718740ef0e2b518528991"
   },
   "outputs": [],
   "source": [
    "sb.factorplot(x=\"video_id\",y=\"likes\",hue=\"Trending_Day\",data=list13,size=8,kind=\"point\")\n",
    "plt.title(\"Trending Days v/s Like\")"
   ]
  },
  {
   "cell_type": "code",
   "execution_count": null,
   "metadata": {
    "_uuid": "f96d9324393770ffc80738d0a71889b66893816e"
   },
   "outputs": [],
   "source": [
    "sb.factorplot(x=\"Trending_Day\",y=\"views\",hue=\"publish_Day\",data=list13,size=8,kind=\"point\")\n",
    "plt.title(\"Trending Days and Views Analysis with Respect To Publish Day\")"
   ]
  },
  {
   "cell_type": "markdown",
   "metadata": {
    "_uuid": "5d36d60d0b3346b1ad3c0e6932d078020a0e7f2b"
   },
   "source": [
    "**We Can Analyze More Data If Trending Time Has Given**"
   ]
  },
  {
   "cell_type": "code",
   "execution_count": null,
   "metadata": {
    "_uuid": "a81bc8b6042487f5614ae7f3b7d89c3dbf4a0e47"
   },
   "outputs": [],
   "source": [
    "sb.factorplot(x=\"likes\",y=\"dislikes\",hue=\"Trending_Day\",data=list13,size=8,kind=\"bar\",palette=\"gnuplot2\")\n",
    "plt.title(\"Dislikes Increasing With Respect To Trading Days\")"
   ]
  },
  {
   "cell_type": "code",
   "execution_count": null,
   "metadata": {
    "_uuid": "e2fa69bd004cb5140014a0c8982fcd1d57d4777a"
   },
   "outputs": [],
   "source": [
    "sb.factorplot(x=\"views\",y=\"comment_count\",hue=\"Trending_Day\",data=list13,size=8,kind=\"bar\",palette=\"CMRmap\")\n",
    "plt.title(\"Comments With Respect To View\")"
   ]
  },
  {
   "cell_type": "code",
   "execution_count": null,
   "metadata": {
    "_uuid": "7f87cf684188ed6b53c258344e2c870f792f866b"
   },
   "outputs": [],
   "source": [
    "sb.factorplot(x=\"views\",y=\"Trending_Day_of_Week\",hue=\"Trending_Day\",data=list13,size=6,kind=\"bar\",palette=\"Dark2\")\n",
    "plt.title(\"Views With Respect To Day of Week\")"
   ]
  },
  {
   "cell_type": "code",
   "execution_count": null,
   "metadata": {
    "_uuid": "9070ac090b3f30b8b57c2cc7d12a1e46c5e15d9f"
   },
   "outputs": [],
   "source": [
    "plt.style.use('ggplot')\n",
    "list14=list13.groupby([\"views\",\"Trending_Day_of_Week\"]).count()[\"title\"].unstack()\n",
    "plt.figure(figsize=(8,8))\n",
    "sb.heatmap(list14,cmap='viridis')"
   ]
  },
  {
   "cell_type": "code",
   "execution_count": null,
   "metadata": {
    "_uuid": "0b826abd772d086b2414d5ac749ba1247cb1326c"
   },
   "outputs": [],
   "source": [
    "sb.jointplot(x=\"Trending_Day\",y=\"dislikes\",data=list13,kind=\"resid\",size=8,color=\"red\")\n",
    "plt.title(\"Relation Between Trending Day and Dislike\")"
   ]
  },
  {
   "cell_type": "markdown",
   "metadata": {
    "_uuid": "c9aa7e2aea660de6981097efce0b1225125e0876"
   },
   "source": [
    "**Analyzing Data From Most Disliked Video**"
   ]
  },
  {
   "cell_type": "code",
   "execution_count": null,
   "metadata": {
    "_uuid": "1bb74253478b9e7c16f7602a34bfeab72104fb8a"
   },
   "outputs": [],
   "source": [
    "list15=df1[[\"title\",\"dislikes\"]].sort_values(\"dislikes\",ascending=True)\n",
    "list15.drop_duplicates(\"title\",keep=\"last\",inplace=True)\n",
    "list16=list15.sort_values(\"dislikes\",ascending=False).head(10)\n",
    "list16.set_index(\"title\",inplace=True)#Data Preparation\n",
    "sb.set(rc={\"figure.figsize\":(10,10)})\n",
    "plt.style.use('ggplot')\n",
    "list16.plot.bar()#So Sorry is The Most Disliked Video"
   ]
  },
  {
   "cell_type": "code",
   "execution_count": null,
   "metadata": {
    "_uuid": "2c25bd7d75ec264134d02e9a51f3e0b1dd85bb60"
   },
   "outputs": [],
   "source": [
    "#Let's Dig Little Deeper\n",
    "list17=df1[df1[\"title\"].str.match(\"So Sorry\")]\n",
    "sb.factorplot(x=\"video_id\",y=\"likes\",hue=\"Trending_Day\",data=list17,size=6,kind=\"point\")\n",
    "plt.title(\"Trending Days v/s Like\")"
   ]
  },
  {
   "cell_type": "code",
   "execution_count": null,
   "metadata": {
    "_uuid": "0ba0fd8c90cb6492236c50c1c1dcefe8a5ea0a2b"
   },
   "outputs": [],
   "source": [
    "plt.style.use('ggplot')\n",
    "sb.factorplot(x=\"Trending_Day\",y=\"views\",hue=\"publish_Day\",data=list17,size=6,kind=\"point\")\n",
    "plt.title(\"Trending Days and Views Analysis with Respect To Publish Day\")#Trending Days v/s Views\n",
    "sb.factorplot(x=\"Trending_Day\",y=\"likes\",hue=\"publish_Day\",data=list17,size=6,kind=\"point\")\n",
    "plt.title(\"Trending Days and likes Analysis with Respect To Publish Day\")#Trending Days v/s Likes\n",
    "sb.factorplot(x=\"likes\",y=\"dislikes\",hue=\"publish_Day\",data=list17,size=6,kind=\"point\")\n",
    "plt.title(\"likes and dislikes Analysis with Respect To Publish Day\")#likes v/s dislikes"
   ]
  },
  {
   "cell_type": "markdown",
   "metadata": {
    "_uuid": "7ec75949197dab9ee9f5c823d709bd8e72be6c7a"
   },
   "source": [
    "** We're Getting No Significant Insights From These 3 plots**"
   ]
  },
  {
   "cell_type": "code",
   "execution_count": null,
   "metadata": {
    "_uuid": "d645197432c7bd6fdb7c7b542af5670bb06694f9"
   },
   "outputs": [],
   "source": [
    "plt.style.use('ggplot')\n",
    "sb.jointplot(x=\"dislikes\",y=\"likes\",data=list17,kind=\"resid\")\n",
    "sb.jointplot(x=\"dislikes\",y=\"likes\",data=list17,kind=\"kde\")"
   ]
  },
  {
   "cell_type": "markdown",
   "metadata": {
    "_uuid": "a400859f18baccc2ac52129935f257f638c7641b"
   },
   "source": [
    "- It Seem To Have A Curvilinear Realtion In Between Likes and Dislikes"
   ]
  },
  {
   "cell_type": "code",
   "execution_count": null,
   "metadata": {
    "_uuid": "729b8fc7a63ffde02eb8adaa0d1e008151f22342"
   },
   "outputs": [],
   "source": [
    "plt.style.use('ggplot')\n",
    "sb.swarmplot(x=\"likes\",y=\"dislikes\",hue=\"Trending_Day\",data=list17,size=8,palette=\"inferno\")\n",
    "plt.title(\"Dislikes Increasing With Respect To Trading Days\")"
   ]
  },
  {
   "cell_type": "code",
   "execution_count": null,
   "metadata": {
    "_uuid": "eb147198b76499a00746d453b5fc9e978aced007"
   },
   "outputs": [],
   "source": [
    "plt.style.use('ggplot')\n",
    "sb.factorplot(x=\"likes\",y=\"comment_count\",hue=\"Trending_Day\",data=list17,size=6,kind=\"point\",palette=\"inferno\")\n",
    "plt.title(\"Comments With like\")\n",
    "#Initially This Video Floods with comment but there's drop on 6th day"
   ]
  },
  {
   "cell_type": "code",
   "execution_count": null,
   "metadata": {
    "_uuid": "724e58097cb275f6257652c3219221e6d2f14770"
   },
   "outputs": [],
   "source": [
    "plt.style.use('ggplot')\n",
    "sb.set(rc={\"figure.figsize\":(10,10)})\n",
    "list17[[\"likes\",\"dislikes\"]].plot.bar(stacked=True)\n",
    "plt.title(\"We're Comparing Likes and Dislikes With Trending Days \")\n",
    "#These Plots Visualize That initially likes are more but as the time passes the dislikes increases"
   ]
  },
  {
   "cell_type": "markdown",
   "metadata": {
    "_uuid": "50cbfef7820852fff7bf29c2c2fe5b35bcfc1d95"
   },
   "source": [
    "# Final Words: -> Coded With Love :)"
   ]
  }
 ],
 "metadata": {
  "kernelspec": {
   "display_name": "Python 3",
   "language": "python",
   "name": "python3"
  },
  "language_info": {
   "codemirror_mode": {
    "name": "ipython",
    "version": 3
   },
   "file_extension": ".py",
   "mimetype": "text/x-python",
   "name": "python",
   "nbconvert_exporter": "python",
   "pygments_lexer": "ipython3",
   "version": "3.5.2"
  }
 },
 "nbformat": 4,
 "nbformat_minor": 1
}
