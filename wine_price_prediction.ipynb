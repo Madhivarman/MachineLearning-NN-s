{
 "cells": [
  {
   "cell_type": "code",
   "execution_count": 1,
   "metadata": {},
   "outputs": [],
   "source": [
    "from __future__ import absolute_import\n",
    "from __future__ import division\n",
    "from __future__ import print_function"
   ]
  },
  {
   "cell_type": "code",
   "execution_count": 3,
   "metadata": {},
   "outputs": [
    {
     "name": "stderr",
     "output_type": "stream",
     "text": [
      "c:\\users\\madhivarman\\appdata\\local\\programs\\python\\python35\\lib\\site-packages\\h5py\\__init__.py:36: FutureWarning: Conversion of the second argument of issubdtype from `float` to `np.floating` is deprecated. In future, it will be treated as `np.float64 == np.dtype(float).type`.\n",
      "  from ._conv import register_converters as _register_converters\n"
     ]
    }
   ],
   "source": [
    "import itertools\n",
    "import pandas as pd\n",
    "import numpy as np\n",
    "import tensorflow as tf\n",
    "import math\n",
    "\n",
    "from sklearn.preprocessing import LabelEncoder\n",
    "from tensorflow import keras\n",
    "\n",
    "layers = keras.layers #import keras layers"
   ]
  },
  {
   "cell_type": "code",
   "execution_count": 5,
   "metadata": {},
   "outputs": [],
   "source": [
    "data_path = \"F:/NN/kaggle_competition/wine_reviews/wine-reviews/winemag-data_first150k.csv\""
   ]
  },
  {
   "cell_type": "code",
   "execution_count": 6,
   "metadata": {},
   "outputs": [
    {
     "data": {
      "text/html": [
       "<div>\n",
       "<style scoped>\n",
       "    .dataframe tbody tr th:only-of-type {\n",
       "        vertical-align: middle;\n",
       "    }\n",
       "\n",
       "    .dataframe tbody tr th {\n",
       "        vertical-align: top;\n",
       "    }\n",
       "\n",
       "    .dataframe thead th {\n",
       "        text-align: right;\n",
       "    }\n",
       "</style>\n",
       "<table border=\"1\" class=\"dataframe\">\n",
       "  <thead>\n",
       "    <tr style=\"text-align: right;\">\n",
       "      <th></th>\n",
       "      <th>Unnamed: 0</th>\n",
       "      <th>country</th>\n",
       "      <th>description</th>\n",
       "      <th>designation</th>\n",
       "      <th>points</th>\n",
       "      <th>price</th>\n",
       "      <th>province</th>\n",
       "      <th>region_1</th>\n",
       "      <th>region_2</th>\n",
       "      <th>variety</th>\n",
       "      <th>winery</th>\n",
       "    </tr>\n",
       "  </thead>\n",
       "  <tbody>\n",
       "    <tr>\n",
       "      <th>0</th>\n",
       "      <td>0</td>\n",
       "      <td>US</td>\n",
       "      <td>This tremendous 100% varietal wine hails from ...</td>\n",
       "      <td>Martha's Vineyard</td>\n",
       "      <td>96</td>\n",
       "      <td>235.0</td>\n",
       "      <td>California</td>\n",
       "      <td>Napa Valley</td>\n",
       "      <td>Napa</td>\n",
       "      <td>Cabernet Sauvignon</td>\n",
       "      <td>Heitz</td>\n",
       "    </tr>\n",
       "    <tr>\n",
       "      <th>1</th>\n",
       "      <td>1</td>\n",
       "      <td>Spain</td>\n",
       "      <td>Ripe aromas of fig, blackberry and cassis are ...</td>\n",
       "      <td>Carodorum Selección Especial Reserva</td>\n",
       "      <td>96</td>\n",
       "      <td>110.0</td>\n",
       "      <td>Northern Spain</td>\n",
       "      <td>Toro</td>\n",
       "      <td>NaN</td>\n",
       "      <td>Tinta de Toro</td>\n",
       "      <td>Bodega Carmen Rodríguez</td>\n",
       "    </tr>\n",
       "    <tr>\n",
       "      <th>2</th>\n",
       "      <td>2</td>\n",
       "      <td>US</td>\n",
       "      <td>Mac Watson honors the memory of a wine once ma...</td>\n",
       "      <td>Special Selected Late Harvest</td>\n",
       "      <td>96</td>\n",
       "      <td>90.0</td>\n",
       "      <td>California</td>\n",
       "      <td>Knights Valley</td>\n",
       "      <td>Sonoma</td>\n",
       "      <td>Sauvignon Blanc</td>\n",
       "      <td>Macauley</td>\n",
       "    </tr>\n",
       "    <tr>\n",
       "      <th>3</th>\n",
       "      <td>3</td>\n",
       "      <td>US</td>\n",
       "      <td>This spent 20 months in 30% new French oak, an...</td>\n",
       "      <td>Reserve</td>\n",
       "      <td>96</td>\n",
       "      <td>65.0</td>\n",
       "      <td>Oregon</td>\n",
       "      <td>Willamette Valley</td>\n",
       "      <td>Willamette Valley</td>\n",
       "      <td>Pinot Noir</td>\n",
       "      <td>Ponzi</td>\n",
       "    </tr>\n",
       "    <tr>\n",
       "      <th>4</th>\n",
       "      <td>4</td>\n",
       "      <td>France</td>\n",
       "      <td>This is the top wine from La Bégude, named aft...</td>\n",
       "      <td>La Brûlade</td>\n",
       "      <td>95</td>\n",
       "      <td>66.0</td>\n",
       "      <td>Provence</td>\n",
       "      <td>Bandol</td>\n",
       "      <td>NaN</td>\n",
       "      <td>Provence red blend</td>\n",
       "      <td>Domaine de la Bégude</td>\n",
       "    </tr>\n",
       "  </tbody>\n",
       "</table>\n",
       "</div>"
      ],
      "text/plain": [
       "   Unnamed: 0 country                                        description  \\\n",
       "0           0      US  This tremendous 100% varietal wine hails from ...   \n",
       "1           1   Spain  Ripe aromas of fig, blackberry and cassis are ...   \n",
       "2           2      US  Mac Watson honors the memory of a wine once ma...   \n",
       "3           3      US  This spent 20 months in 30% new French oak, an...   \n",
       "4           4  France  This is the top wine from La Bégude, named aft...   \n",
       "\n",
       "                            designation  points  price        province  \\\n",
       "0                     Martha's Vineyard      96  235.0      California   \n",
       "1  Carodorum Selección Especial Reserva      96  110.0  Northern Spain   \n",
       "2         Special Selected Late Harvest      96   90.0      California   \n",
       "3                               Reserve      96   65.0          Oregon   \n",
       "4                            La Brûlade      95   66.0        Provence   \n",
       "\n",
       "            region_1           region_2             variety  \\\n",
       "0        Napa Valley               Napa  Cabernet Sauvignon   \n",
       "1               Toro                NaN       Tinta de Toro   \n",
       "2     Knights Valley             Sonoma     Sauvignon Blanc   \n",
       "3  Willamette Valley  Willamette Valley          Pinot Noir   \n",
       "4             Bandol                NaN  Provence red blend   \n",
       "\n",
       "                    winery  \n",
       "0                    Heitz  \n",
       "1  Bodega Carmen Rodríguez  \n",
       "2                 Macauley  \n",
       "3                    Ponzi  \n",
       "4     Domaine de la Bégude  "
      ]
     },
     "execution_count": 6,
     "metadata": {},
     "output_type": "execute_result"
    }
   ],
   "source": [
    "data = pd.read_csv(data_path)\n",
    "data.head()"
   ]
  },
  {
   "cell_type": "code",
   "execution_count": 7,
   "metadata": {},
   "outputs": [],
   "source": [
    "#preprocessing to limit the dataset\n",
    "data = data[pd.notnull(data['country'])] \n",
    "data = data[pd.notnull(data['price'])]\n",
    "data = data.drop(data.columns[0],axis=1)\n",
    "\n",
    "threshold = 500 #anything that comes under 500 will automatically removed\n",
    "value_counts = data['variety'].value_counts() #count variety of wines available\n",
    "to_remove = value_counts[value_counts <= threshold].index\n",
    "data.replace(to_remove,np.nan,inplace=True)\n",
    "data = data[pd.notnull(data['variety'])]"
   ]
  },
  {
   "cell_type": "code",
   "execution_count": 10,
   "metadata": {},
   "outputs": [
    {
     "data": {
      "text/plain": [
       "Chardonnay            13775\n",
       "Pinot Noir            13625\n",
       "Cabernet Sauvignon    12671\n",
       "Red Blend              9377\n",
       "Sauvignon Blanc        6054\n",
       "Name: variety, dtype: int64"
      ]
     },
     "execution_count": 10,
     "metadata": {},
     "output_type": "execute_result"
    }
   ],
   "source": [
    "value_counts.head()"
   ]
  },
  {
   "cell_type": "code",
   "execution_count": 11,
   "metadata": {},
   "outputs": [
    {
     "name": "stdout",
     "output_type": "stream",
     "text": [
      "Training Data Size:95647\n"
     ]
    }
   ],
   "source": [
    "train_size = int(len(data)*.8)\n",
    "print(\"Training Data Size:{total_values}\".format(total_values=train_size))"
   ]
  },
  {
   "cell_type": "code",
   "execution_count": 12,
   "metadata": {},
   "outputs": [
    {
     "name": "stdout",
     "output_type": "stream",
     "text": [
      "Test Data Size:23912\n"
     ]
    }
   ],
   "source": [
    "print(\"Test Data Size:{test_datasize}\".format(test_datasize=len(data)-train_size))"
   ]
  },
  {
   "cell_type": "code",
   "execution_count": 13,
   "metadata": {},
   "outputs": [],
   "source": [
    "description_train = data['description'][:train_size]\n",
    "variety_train = data['variety'][:train_size]\n",
    "labels_train = data['price'][:train_size]\n",
    "\n",
    "description_test = data['description'][train_size:]\n",
    "variety_test = data['variety'][train_size:]\n",
    "labels_test = data['price'][train_size:]"
   ]
  },
  {
   "cell_type": "code",
   "execution_count": 15,
   "metadata": {},
   "outputs": [],
   "source": [
    "#create a tokenizer to preprocess our text description\n",
    "vocab_size = 12000\n",
    "tokenize = keras.preprocessing.text.Tokenizer(num_words=vocab_size,char_level=False)\n",
    "tokenize.fit_on_texts(description_train) #only fit on train"
   ]
  },
  {
   "cell_type": "code",
   "execution_count": 16,
   "metadata": {},
   "outputs": [
    {
     "data": {
      "text/plain": [
       "<tensorflow.python.keras._impl.keras.preprocessing.text.Tokenizer at 0x20bfffed550>"
      ]
     },
     "execution_count": 16,
     "metadata": {},
     "output_type": "execute_result"
    }
   ],
   "source": [
    "tokenize"
   ]
  },
  {
   "cell_type": "code",
   "execution_count": 17,
   "metadata": {},
   "outputs": [],
   "source": [
    "#bow\n",
    "description_bow_train = tokenize.texts_to_matrix(description_train)\n",
    "description_bow_test = tokenize.texts_to_matrix(description_test)"
   ]
  },
  {
   "cell_type": "code",
   "execution_count": 18,
   "metadata": {},
   "outputs": [],
   "source": [
    "#one hot Encode for variety categories\n",
    "encoder = LabelEncoder()\n",
    "encoder.fit(variety_train)\n",
    "encoder.fit(variety_test)\n",
    "variety_train = encoder.transform(variety_train)\n",
    "variety_test = encoder.transform(variety_test)\n",
    "\n",
    "num_classes = np.max(variety_train) + 1"
   ]
  },
  {
   "cell_type": "code",
   "execution_count": 19,
   "metadata": {},
   "outputs": [
    {
     "data": {
      "text/plain": [
       "40"
      ]
     },
     "execution_count": 19,
     "metadata": {},
     "output_type": "execute_result"
    }
   ],
   "source": [
    "num_classes"
   ]
  },
  {
   "cell_type": "code",
   "execution_count": 20,
   "metadata": {},
   "outputs": [],
   "source": [
    "variety_train = keras.utils.to_categorical(variety_train,num_classes)\n",
    "variety_test = keras.utils.to_categorical(variety_test,num_classes)"
   ]
  },
  {
   "cell_type": "code",
   "execution_count": 23,
   "metadata": {},
   "outputs": [
    {
     "data": {
      "text/plain": [
       "((95647, 40), (23912, 40))"
      ]
     },
     "execution_count": 23,
     "metadata": {},
     "output_type": "execute_result"
    }
   ],
   "source": [
    "variety_train.shape,variety_test.shape"
   ]
  },
  {
   "cell_type": "code",
   "execution_count": 41,
   "metadata": {},
   "outputs": [],
   "source": [
    "#defining wide model with functional API\n",
    "bow_inputs = layers.Input(shape=(vocab_size,))\n",
    "variety_inputs = layers.Input(shape=(num_classes,))\n",
    "merged_layer = layers.concatenate([bow_inputs,variety_inputs])\n",
    "merged_layer = layers.Dense(256,activation='relu')(merged_layer)\n",
    "predicted_layer = layers.Dense(1)(merged_layer)\n",
    "wide_model = keras.Model(inputs = [bow_inputs,variety_inputs],outputs=predicted_layer)"
   ]
  },
  {
   "cell_type": "code",
   "execution_count": 42,
   "metadata": {},
   "outputs": [
    {
     "data": {
      "text/plain": [
       "<tf.Tensor 'dense_7/Relu:0' shape=(?, 256) dtype=float32>"
      ]
     },
     "execution_count": 42,
     "metadata": {},
     "output_type": "execute_result"
    }
   ],
   "source": [
    "merged_layer"
   ]
  },
  {
   "cell_type": "code",
   "execution_count": 43,
   "metadata": {},
   "outputs": [
    {
     "name": "stdout",
     "output_type": "stream",
     "text": [
      "__________________________________________________________________________________________________\n",
      "Layer (type)                    Output Shape         Param #     Connected to                     \n",
      "==================================================================================================\n",
      "input_7 (InputLayer)            (None, 12000)        0                                            \n",
      "__________________________________________________________________________________________________\n",
      "input_8 (InputLayer)            (None, 40)           0                                            \n",
      "__________________________________________________________________________________________________\n",
      "concatenate_5 (Concatenate)     (None, 12040)        0           input_7[0][0]                    \n",
      "                                                                 input_8[0][0]                    \n",
      "__________________________________________________________________________________________________\n",
      "dense_8 (Dense)                 (None, 256)          3082496     concatenate_5[0][0]              \n",
      "__________________________________________________________________________________________________\n",
      "dense_9 (Dense)                 (None, 1)            257         dense_8[0][0]                    \n",
      "==================================================================================================\n",
      "Total params: 3,082,753\n",
      "Trainable params: 3,082,753\n",
      "Non-trainable params: 0\n",
      "__________________________________________________________________________________________________\n",
      "None\n"
     ]
    }
   ],
   "source": [
    "wide_model.compile(loss='mse',optimizer='adam',metrics=['accuracy'])\n",
    "print(wide_model.summary())"
   ]
  },
  {
   "cell_type": "code",
   "execution_count": 44,
   "metadata": {},
   "outputs": [],
   "source": [
    "#now defining deep model with functional API\n",
    "train_embed = tokenize.texts_to_sequences(description_train)\n",
    "test_embed = tokenize.texts_to_sequences(description_test)\n",
    "\n",
    "max_seq_length = 180\n",
    "train_embed = keras.preprocessing.sequence.pad_sequences(train_embed,maxlen=max_seq_length,padding=\"post\")\n",
    "test_embed = keras.preprocessing.sequence.pad_sequences(test_embed,maxlen=max_seq_length,padding=\"post\")"
   ]
  },
  {
   "cell_type": "code",
   "execution_count": 45,
   "metadata": {},
   "outputs": [
    {
     "data": {
      "text/plain": [
       "((95647, 180), (23912, 180))"
      ]
     },
     "execution_count": 45,
     "metadata": {},
     "output_type": "execute_result"
    }
   ],
   "source": [
    "train_embed.shape, test_embed.shape"
   ]
  },
  {
   "cell_type": "code",
   "execution_count": 46,
   "metadata": {},
   "outputs": [
    {
     "name": "stdout",
     "output_type": "stream",
     "text": [
      "<bound method Network.summary of <tensorflow.python.keras._impl.keras.engine.training.Model object at 0x0000020B80E79550>>\n"
     ]
    }
   ],
   "source": [
    "#deep model with functional API\n",
    "deep_inputs = layers.Input(shape=(max_seq_length,))\n",
    "embedding = layers.Embedding(vocab_size,8,input_length=max_seq_length)(deep_inputs)\n",
    "embedding = layers.Flatten()(embedding)\n",
    "embed_out = layers.Dense(1)(embedding)\n",
    "deep_model = keras.Model(inputs=deep_inputs,outputs=embed_out)\n",
    "print(deep_model.summary)"
   ]
  },
  {
   "cell_type": "code",
   "execution_count": 47,
   "metadata": {},
   "outputs": [
    {
     "name": "stdout",
     "output_type": "stream",
     "text": [
      "_________________________________________________________________\n",
      "Layer (type)                 Output Shape              Param #   \n",
      "=================================================================\n",
      "input_9 (InputLayer)         (None, 180)               0         \n",
      "_________________________________________________________________\n",
      "embedding_2 (Embedding)      (None, 180, 8)            96000     \n",
      "_________________________________________________________________\n",
      "flatten_2 (Flatten)          (None, 1440)              0         \n",
      "_________________________________________________________________\n",
      "dense_10 (Dense)             (None, 1)                 1441      \n",
      "=================================================================\n",
      "Total params: 97,441\n",
      "Trainable params: 97,441\n",
      "Non-trainable params: 0\n",
      "_________________________________________________________________\n"
     ]
    }
   ],
   "source": [
    "deep_model.summary()"
   ]
  },
  {
   "cell_type": "code",
   "execution_count": 48,
   "metadata": {},
   "outputs": [
    {
     "name": "stdout",
     "output_type": "stream",
     "text": [
      "<tensorflow.python.keras._impl.keras.engine.training.Model object at 0x0000020B80E83898>\n"
     ]
    }
   ],
   "source": [
    "#combine wide and deep into one neural network model\n",
    "merged_out = layers.concatenate([wide_model.output,deep_model.output])\n",
    "merged_out = layers.Dense(1)(merged_out)\n",
    "combined_model = keras.Model(wide_model.input+[deep_model.input],merged_out)\n",
    "\n",
    "print(combined_model)"
   ]
  },
  {
   "cell_type": "code",
   "execution_count": 49,
   "metadata": {},
   "outputs": [
    {
     "name": "stdout",
     "output_type": "stream",
     "text": [
      "__________________________________________________________________________________________________\n",
      "Layer (type)                    Output Shape         Param #     Connected to                     \n",
      "==================================================================================================\n",
      "input_7 (InputLayer)            (None, 12000)        0                                            \n",
      "__________________________________________________________________________________________________\n",
      "input_8 (InputLayer)            (None, 40)           0                                            \n",
      "__________________________________________________________________________________________________\n",
      "input_9 (InputLayer)            (None, 180)          0                                            \n",
      "__________________________________________________________________________________________________\n",
      "concatenate_5 (Concatenate)     (None, 12040)        0           input_7[0][0]                    \n",
      "                                                                 input_8[0][0]                    \n",
      "__________________________________________________________________________________________________\n",
      "embedding_2 (Embedding)         (None, 180, 8)       96000       input_9[0][0]                    \n",
      "__________________________________________________________________________________________________\n",
      "dense_8 (Dense)                 (None, 256)          3082496     concatenate_5[0][0]              \n",
      "__________________________________________________________________________________________________\n",
      "flatten_2 (Flatten)             (None, 1440)         0           embedding_2[0][0]                \n",
      "__________________________________________________________________________________________________\n",
      "dense_9 (Dense)                 (None, 1)            257         dense_8[0][0]                    \n",
      "__________________________________________________________________________________________________\n",
      "dense_10 (Dense)                (None, 1)            1441        flatten_2[0][0]                  \n",
      "__________________________________________________________________________________________________\n",
      "concatenate_6 (Concatenate)     (None, 2)            0           dense_9[0][0]                    \n",
      "                                                                 dense_10[0][0]                   \n",
      "__________________________________________________________________________________________________\n",
      "dense_11 (Dense)                (None, 1)            3           concatenate_6[0][0]              \n",
      "==================================================================================================\n",
      "Total params: 3,180,197\n",
      "Trainable params: 3,180,197\n",
      "Non-trainable params: 0\n",
      "__________________________________________________________________________________________________\n"
     ]
    }
   ],
   "source": [
    "combined_model.summary()"
   ]
  },
  {
   "cell_type": "code",
   "execution_count": 50,
   "metadata": {},
   "outputs": [],
   "source": [
    "combined_model.compile(loss='mse',optimizer='adam',metrics=['accuracy'])"
   ]
  },
  {
   "cell_type": "code",
   "execution_count": 51,
   "metadata": {},
   "outputs": [
    {
     "name": "stdout",
     "output_type": "stream",
     "text": [
      "Epoch 1/10\n",
      "95647/95647 [==============================] - 40s 416us/step - loss: 1344.0468 - acc: 0.0239\n",
      "Epoch 2/10\n",
      "95647/95647 [==============================] - 33s 346us/step - loss: 1037.2941 - acc: 0.0347\n",
      "Epoch 3/10\n",
      "95647/95647 [==============================] - 33s 347us/step - loss: 908.0959 - acc: 0.0387\n",
      "Epoch 4/10\n",
      "95647/95647 [==============================] - 34s 351us/step - loss: 788.5678 - acc: 0.0400\n",
      "Epoch 5/10\n",
      "95647/95647 [==============================] - 33s 344us/step - loss: 673.2421 - acc: 0.0425\n",
      "Epoch 6/10\n",
      "95647/95647 [==============================] - 33s 340us/step - loss: 566.3929 - acc: 0.0457\n",
      "Epoch 7/10\n",
      "95647/95647 [==============================] - 32s 338us/step - loss: 468.3028 - acc: 0.0489\n",
      "Epoch 8/10\n",
      "95647/95647 [==============================] - 32s 332us/step - loss: 382.0984 - acc: 0.0558\n",
      "Epoch 9/10\n",
      "95647/95647 [==============================] - 31s 325us/step - loss: 310.0008 - acc: 0.0615\n",
      "Epoch 10/10\n",
      "95647/95647 [==============================] - 32s 331us/step - loss: 251.8732 - acc: 0.0681\n"
     ]
    },
    {
     "data": {
      "text/plain": [
       "<tensorflow.python.keras._impl.keras.callbacks.History at 0x20b80d37780>"
      ]
     },
     "execution_count": 51,
     "metadata": {},
     "output_type": "execute_result"
    }
   ],
   "source": [
    "combined_model.fit([description_bow_train,variety_train] + [train_embed],labels_train,epochs=10,batch_size=128)"
   ]
  },
  {
   "cell_type": "code",
   "execution_count": 52,
   "metadata": {},
   "outputs": [
    {
     "name": "stdout",
     "output_type": "stream",
     "text": [
      "23912/23912 [==============================] - 8s 343us/step\n"
     ]
    },
    {
     "data": {
      "text/plain": [
       "[383.64589795558976, 0.06431917029231358]"
      ]
     },
     "execution_count": 52,
     "metadata": {},
     "output_type": "execute_result"
    }
   ],
   "source": [
    "#increase the epochs will increase the accuracy\n",
    "combined_model.evaluate([description_bow_test,variety_test] + [test_embed], labels_test, batch_size=128)"
   ]
  },
  {
   "cell_type": "code",
   "execution_count": 53,
   "metadata": {},
   "outputs": [],
   "source": [
    "#generate predictions\n",
    "predictions = combined_model.predict([description_bow_test,variety_test] + [test_embed])"
   ]
  },
  {
   "cell_type": "code",
   "execution_count": 55,
   "metadata": {},
   "outputs": [
    {
     "data": {
      "text/plain": [
       "array([[18.173372],\n",
       "       [38.892647],\n",
       "       [23.121758],\n",
       "       ...,\n",
       "       [20.134066],\n",
       "       [34.42501 ],\n",
       "       [17.20518 ]], dtype=float32)"
      ]
     },
     "execution_count": 55,
     "metadata": {},
     "output_type": "execute_result"
    }
   ],
   "source": [
    "predictions"
   ]
  },
  {
   "cell_type": "code",
   "execution_count": 56,
   "metadata": {},
   "outputs": [
    {
     "name": "stdout",
     "output_type": "stream",
     "text": [
      "Description:H3 is Columbia Crest's line of wines from the Horse Heaven Hills AVA—the winery's home turf—and the wines seem to have a bit more cut and flair than the slightly less expensive Columbia Valley bottlings. Here you will find a more complex blend of fruits—starfruit, apple, melon and a hint of banana—and less focus on butter and toast. In other words, more of a food and sipping wine.\n",
      "Predicted:18.173372268676758, Actual:15.0 \n",
      "\n",
      "Description:Very ripe and fruity in the modern style, almost too strong in blackberry jam, black currant and oak flavors that are not particularly subtle or delicate, although the wine is thoroughly dry. The tannins are significant, but negotiable. The suggestion is ageability. Give it 2–4 years and try again.\n",
      "Predicted:38.89264678955078, Actual:45.0 \n",
      "\n",
      "Description:Notes of olive and bay leaves add some interesting complexity to the nose of this blend, otherwise dominated by typical red berry flavors. Ripe and rich on the palate with medium acidity and lighter tannins. The finish, dominated by beautiful notes of wild strawberries, is long and satisfying.\n",
      "Predicted:23.12175750732422, Actual:45.0 \n",
      "\n",
      "Description:Some green tannins and stemmy scents can be found in the nose and tasted in the finish, but this has good concentration and stiff black fruits as well. Licorice and vanilla are woven into a wine that is still pulling itself together.\n",
      "Predicted:34.938079833984375, Actual:30.0 \n",
      "\n",
      "Description:A lovely, rich Sauvignon Blanc that benefits from full ripeness. No trace of green in the Meyer lemon, lime, vanilla and spice flavors that finish so clean and vibrant.\n",
      "Predicted:19.499034881591797, Actual:22.0 \n",
      "\n",
      "Description:Bright and sweetly fruity, with blackberry and black cherry fruit matched to vanilla-flavored oak. A bit high-toned, soft and fresh, with lots of immediate drinking appeal.\n",
      "Predicted:33.86469268798828, Actual:29.0 \n",
      "\n",
      "Description:This is a smooth, easy-drinking, chocolaty Cabernet. The ripe red fruit is laced with streaks of black olive, mushroom and loam. Barrel aging in both American and French oak (half new) brings in coffee and chocolate.\n",
      "Predicted:30.334951400756836, Actual:29.0 \n",
      "\n",
      "Description:Nice black cherry, cassis and earthy rubber aromas form a familiar, friendly type of Malbec nose, while the palate is juicy and lifted by acidity. Flavors of blackberry and chocolate are solid and under control, and the finish is mildly peppered and consistent with what comes before it. Drink now through 2011.\n",
      "Predicted:27.386638641357422, Actual:15.0 \n",
      "\n",
      "Description:Here's a gorgeous expression of Pinot Grigio from Alto Adige with crisp aromas of stone fruit and wild flowers backed by a brilliant, luminous appearance and a richly creamy mouthfeel. This shows the best of what this popular white variety can do.\n",
      "Predicted:26.32423973083496, Actual:21.0 \n",
      "\n",
      "Description:A very tasty and tasteful Zinfandel, dry and balanced, that offers plenty of classic Dry Creek personality. With briary, wild berry, currant and pepper flavors, its tannins are rich and complicated. A lovely wine to drink with roasts and stews.\n",
      "Predicted:23.1689395904541, Actual:25.0 \n",
      "\n",
      "Description:Spiced gumdrop and rooty sweetness carry the massive nose to a big but balky palate of baked, roasted black fruits, cassis and tire rubber. There's sweetness, beef, marshmallow and burn along with tannic weight and grab. A lot of power; needs more touch. Believe it or not, Medalla Real Cabernet is now a 73,000-case product.\n",
      "Predicted:22.048778533935547, Actual:20.0 \n",
      "\n",
      "Description:Spring Valley Vineyard, now being dramatically expanded by new owners Ste. Michelle Wine Estates, sits in a unique spot in the Walla Walla appellation. Now, if only the powers-that-be could make these wines at moderate levels of alcohol. Yes, this is delicious. Loaded with raspberry jam, peppery spice, hints of caramel. But the alcohol blows out the detail. Please—pull it back.\n",
      "Predicted:39.154354095458984, Actual:50.0 \n",
      "\n",
      "Description:Shows serious chops via crisp, pungent aromas of citrus and nettles. The palate is fresh, clean and citric, with flavors of passionfruit, lemon, white grapefruit and minerality. Keeps its form from start to finish. A true Casablanca SB for a good price; drink this spring and summer.\n",
      "Predicted:7.035279750823975, Actual:12.0 \n",
      "\n",
      "Description:Nutty, toasty aromas open a wine that has yellow fruits, strong ripe peach flavors, some green plum acidity. The texture brings out the toast, flavored with toffee, the aftertaste full of creamy acidity.\n",
      "Predicted:28.13549041748047, Actual:19.0 \n",
      "\n",
      "Description:A strongly flavored Cabernet, powerful in blackberry, currant and cedar flavors, that impresses for sheer volume, although it is drinkable now with a brief decant. It's a bit rude now, but could calm down and develop some bottle sophistication in a few years.\n",
      "Predicted:24.319793701171875, Actual:25.0 \n",
      "\n",
      "Description:This is a 50-50 blend of estate-grown Merlot and Cabernet Sauvignon, aged in neutral oak. Dark, plush, well-ripened fruit is the focus of a wine still a bit stiff and steely. It's classic in the way a Bordeaux is classic, firm and confidently blended.\n",
      "Predicted:23.865934371948242, Actual:16.0 \n",
      "\n",
      "Description:This is the best Cab from Two Vines to date. It's got real concentration and fruit flavor, enhanced with the addition of 11% Cab Franc and 7% Syrah in the blend. Berries, cherries, cassis, plums, coffee and smoke filter through the palate, with just a little bite to the tannins. Very impressive.\n",
      "Predicted:7.38165807723999, Actual:8.0 \n",
      "\n",
      "Description:Pronounced garrigue notes dominate the nose here—rosemary, menthol and lavender—with soft notes of red fruit in the background. More cherry and raspberry show themselves in the mouth. Medium weight with a gripping structure and medium-length finish.\n",
      "Predicted:6.626942157745361, Actual:15.0 \n",
      "\n",
      "Description:A nice Zinfandel that's dry and fruity, with briary, brambly blackberry, tobacco and spice flavors. It's a clean, vibrant Zin, but a very tough, tannic one. Needs ultrarich fare to crack through the astringency.\n",
      "Predicted:23.93846321105957, Actual:38.0 \n",
      "\n",
      "Description:A very fine effort, with classic cassis and black cherry in the fruit core, but also offering interesting details of bark, earth and herb. The wine lingers, perhaps due to excellent natural acidity, and without overpowering the palate it keeps tantalizing it with nuances of moist earth and wet rock.\n",
      "Predicted:14.76235294342041, Actual:22.0 \n",
      "\n",
      "Description:A dusty-textured wine, its fruit like grains scattered over the surface of a fresh crisp structure. The freshness is palpable and so is the depth of flavor. A food-friendly wine.\n",
      "Predicted:39.05156707763672, Actual:37.0 \n",
      "\n",
      "Description:Sourced entirely from Les Collines, this perfectly expresses the house style—scents of strawberry jam, hints of pepper, and flavors that seem to focus on rocky minerality. An austere yet thrilling wine, almost like a Chinon, though this is Syrah, and not Cabernet Franc.\n",
      "Predicted:40.011085510253906, Actual:40.0 \n",
      "\n",
      "Description:Here's a wine that opens beautifully to all your senses. It boasts a dense, vibrant ruby color and delivers bright aromas of cherry, blackberry and bitter cranberry. In the mouth, however, this wine is softer and plusher than you'd expect. Sure, that trademark Barbera acidity is present, but its natural sharpness has been dulled.\n",
      "Predicted:86.45210266113281, Actual:90.0 \n",
      "\n",
      "Description:Aged in neutral oak and 100% varietal, this is a fine value. There is great fruit flavor—raspberry and Bing cherry—supported with natural acidity and just a hint of chocolate. This could be a Dry Creek Zinfandel, in terms of its bright berry fruit and lively acidity.\n",
      "Predicted:15.890475273132324, Actual:16.0 \n",
      "\n",
      "Description:A very pretty Merlot, and a good price for the elegant quality. It's dry and tannic, showing the Clos du Val style of controlled, somewhat aloof ripeness. There's a rich, attractive core of black cherry fruit. Will develop for a few years, but it's really best now, with a brief decant.\n",
      "Predicted:24.846498489379883, Actual:26.0 \n",
      "\n",
      "Description:Chocolate, coffee and espresso come to life thanks to the solid base of natural fruit that keeps the wine lively and fresh. Fruit and oak-related aromas work well together and give the wine brightness, softness and a velvety texture.\n",
      "Predicted:14.325282096862793, Actual:19.0 \n",
      "\n",
      "Description:Another fine value from Kirkland, the Costco house brand. Vineyard sources are first rate, mostly Wahluke Slope, and the wine has exceptional grip, depth and structure for Merlot at this price point. Cassis, dark plum, black cherry, licorice, espresso and smoke are woven together nicely. Tannins are lush, substantial and quite ripe; they wrap up the wine with a blanket of smoke and tar. A great steak wine.\n",
      "Predicted:15.579015731811523, Actual:10.0 \n",
      "\n",
      "Description:A very good Chardonnay, fancy and elegant, although it's a little sharp in the mouth, and lacks a certain hedonistic appeal, especially at this price. Shows dry, oak-inspired flavors of pineapples, green apples and pears, with a firm minerality.\n",
      "Predicted:41.729061126708984, Actual:46.0 \n",
      "\n",
      "Description:Representing a good value in top-flight Cabernet, Jim Barry's 2008 The Cover Drive (a cricketing term) features subtle hints of cinnamon, coffee and vanilla layered over blueberry and plum fruit. It's on the full-bodied side, with plush, velvety tannins balanced by crisp acids. Drink now–2018.\n",
      "Predicted:15.33321475982666, Actual:18.0 \n",
      "\n",
      "Description:A top value, this full-bodied yet supple Shiraz packs in the flavor, starting with dark, brooding fruit on the nose, developing intensely flavored mixed berries on the palate and finishing warm and long. Drink now.\n",
      "Predicted:14.728950500488281, Actual:19.0 \n",
      "\n",
      "Description:Smooth and sophisticated with rich blackberry and plum aromas backed by oak-driven tones of spice and leather, this is a very rich expression of Barbera (that sees eight months in oak barrels). The overall effect is excellent and the mouthfeel culminates with bright tones of prune and crushed black pepper.\n",
      "Predicted:26.054277420043945, Actual:20.0 \n",
      "\n",
      "Description:Crisp red apples and tight fruit skins give this wine a taut, lively character. Just a touch of caramel to broaden the acidity.\n",
      "Predicted:7.153879642486572, Actual:18.0 \n",
      "\n",
      "Description:Gold in color, with an ebullient nose of spiced melon and sweet flavors of candied pineapple tinged with white pepper and grapefruit. At 12.5% alcohol and 117 g/L residual sugar, it's rich and sweet without being over the top. Drink now.\n",
      "Predicted:21.573095321655273, Actual:19.0 \n",
      "\n",
      "Description:Winemaker Joe Forest has brightened the fruit and livened up the mouthfeel by blending in 20% Grenache. Fresh raspberry flavors are wrapped into the earthier, herbal, lightly chocolaty character of the Syrah. Once-filled French barrels were used.\n",
      "Predicted:18.540462493896484, Actual:25.0 \n",
      "\n",
      "Description:It's unfortunate that only 56 cases of this wine were imported, so be sure to snag it when you see it. Intense and powerful on the nose, with attractive forest, licorice, tea leaves and menthol adding complexity to the small red berries and plum skins. The velvety texture and firm structure lead nicely into the mocha-flavored finish, with flecks of white pepper gleaming through on the very end.\n",
      "Predicted:27.62860107421875, Actual:37.0 \n",
      "\n",
      "Description:This winery, part of the San Pedro group, is on the right path as its wines have improved in recent vintages. This particular wine marks a high-water point; the nose mixes dry wood notes, leather, herbal berry and even some fine aged cheese. The palate is tight and forceful, with cassis, cherry and cola flavors. Powerful but poised. Drink now through 2012.\n",
      "Predicted:21.911802291870117, Actual:23.0 \n",
      "\n",
      "Description:Back on form after the disappointing 2008, Nobilo's Icon deftly combines hints of honey and stone fruit with a leafy overlay of herbal flavors. It's medium bodied, with a finish that's tinged with tobacco leaf. Drink now and over the next 6–9 months.\n",
      "Predicted:20.75953483581543, Actual:20.0 \n",
      "\n",
      "Description:Sidewood's consulting winemaker, Nathasha Mooney (who made the still-stunning 1998 E&E; Black Pepper Shiraz while at Barossa Valley Estate), is putting together some excellent wines that also represent good value, including this grapefruit-scented Sauvignon Blanc. This medium-bodied offering is long and intense, blending citrus with minerally spice reminiscent of white pepper.\n",
      "Predicted:15.17461109161377, Actual:16.0 \n",
      "\n",
      "Description:This Bordeaux blend shows an interesting range of fruit flavors and textures from the blend, which includes Cabernet Sauvignon, Cabernet Franc, Petit Verdot and Merlot. The flavors tend toward red fruits, as in cherries and red currants, while the tannins are quite strong. Shows an immaturity now that strongly suggests 5–6 years in the cellar.\n",
      "Predicted:69.7039566040039, Actual:65.0 \n",
      "\n",
      "Description:This is a rich and chocolaty expression of Barbera d'Alba with thick concentration and immediate aromas of black currant and cherry. The wine is dense and extracted with smooth, drying tannins and a piquant blast of acidity on the close.\n",
      "Predicted:28.359582901000977, Actual:30.0 \n",
      "\n"
     ]
    }
   ],
   "source": [
    "num_predictions = 40\n",
    "diff = 0\n",
    "\n",
    "for i in range(num_predictions):\n",
    "    val = predictions[i]\n",
    "    print(\"Description:{des}\".format(des=description_test.iloc[i]))\n",
    "    print(\"Predicted:{price}, Actual:{actual_price} \\n\".format(price=val[0],actual_price=labels_test.iloc[i]))"
   ]
  },
  {
   "cell_type": "code",
   "execution_count": 58,
   "metadata": {},
   "outputs": [
    {
     "name": "stdout",
     "output_type": "stream",
     "text": [
      "Average Prediction Difference is:5.070724081993103\n"
     ]
    }
   ],
   "source": [
    "diff = 0\n",
    "\n",
    "for i in range(num_predictions):\n",
    "    val = predictions[i]\n",
    "    diff += abs(val[0]-labels_test.iloc[i])\n",
    "\n",
    "print(\"Average Prediction Difference is:{difference}\".format(difference=diff/num_predictions))"
   ]
  },
  {
   "cell_type": "code",
   "execution_count": null,
   "metadata": {},
   "outputs": [],
   "source": []
  }
 ],
 "metadata": {
  "kernelspec": {
   "display_name": "Python 3",
   "language": "python",
   "name": "python3"
  },
  "language_info": {
   "codemirror_mode": {
    "name": "ipython",
    "version": 3
   },
   "file_extension": ".py",
   "mimetype": "text/x-python",
   "name": "python",
   "nbconvert_exporter": "python",
   "pygments_lexer": "ipython3",
   "version": "3.5.2"
  }
 },
 "nbformat": 4,
 "nbformat_minor": 2
}
